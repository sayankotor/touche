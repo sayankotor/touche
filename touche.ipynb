{
 "cells": [
  {
   "cell_type": "code",
   "execution_count": 54,
   "metadata": {},
   "outputs": [],
   "source": [
    "import requests\n",
    "#r = requests.post('http://10.30.99.211:8261/gpt_small', data = \"What is better for deep learning Python or Matlab?\")\n",
    "#print (r.status_code)"
   ]
  },
  {
   "cell_type": "code",
   "execution_count": null,
   "metadata": {},
   "outputs": [],
   "source": [
    "python3 task_tira_2.py"
   ]
  },
  {
   "cell_type": "code",
   "execution_count": 111,
   "metadata": {},
   "outputs": [],
   "source": [
    "def make_a_search_request(query):\n",
    "    # return json\n",
    "    # json will be processed further\n",
    "    params = {\n",
    "            \"apikey\": \"0833a307-97d3-462a-99d9-27db400c70da\",\n",
    "            \"query\": query,\n",
    "            \"index\": [\"cw12\"],\n",
    "            \"size\": 1000,\n",
    "            \"pretty\": True\n",
    "        }\n",
    "    response = requests.get(url = \"http://www.chatnoir.eu/api/v1/_search\", params = params)\n",
    "    return response"
   ]
  },
  {
   "cell_type": "code",
   "execution_count": 107,
   "metadata": {},
   "outputs": [],
   "source": [
    "from xml.dom import minidom\n",
    "\n",
    "def read_xml(filename):\n",
    "    # convert file filename to list of tuples (number_of_topic, title_of_topic) \n",
    "    # input: filename string\n",
    "    # output: list of corresponding tuples\n",
    "    answer_list = []\n",
    "    xmldoc = minidom.parse(filename)\n",
    "    itemlist = xmldoc.getElementsByTagName('topics')\n",
    "    print(len(itemlist))\n",
    "    print(itemlist)\n",
    "    topic_list = itemlist[0].getElementsByTagName('topic')\n",
    "    print (len(topic_list))\n",
    "    for topic in topic_list:\n",
    "        tuple_for_add = tuple((topic.getElementsByTagName('number')[0].firstChild.nodeValue, topic.getElementsByTagName('title')[0].firstChild.nodeValue))\n",
    "        answer_list.append(tuple_for_add)\n",
    "    return answer_list"
   ]
  },
  {
   "cell_type": "code",
   "execution_count": 114,
   "metadata": {},
   "outputs": [
    {
     "name": "stdout",
     "output_type": "stream",
     "text": [
      "/notebook/touche\n"
     ]
    }
   ],
   "source": [
    "!pwd"
   ]
  },
  {
   "cell_type": "code",
   "execution_count": 108,
   "metadata": {},
   "outputs": [
    {
     "name": "stdout",
     "output_type": "stream",
     "text": [
      "1\n",
      "[<DOM Element: topics at 0x7f290a83ab90>]\n",
      "50\n"
     ]
    }
   ],
   "source": [
    "input_dir = '/notebook/touche/'\n",
    "input_file = 'topics-task-2-only-titles.xml'\n",
    "list_of_tuples = read_xml(input_dir + input_file)"
   ]
  },
  {
   "cell_type": "code",
   "execution_count": 112,
   "metadata": {},
   "outputs": [],
   "source": [
    "def run_baseline(output_dir = '/notebook/touche/output/', input_dir = '/notebook/touche/', input_file = 'topics-task-2-only-titles.xml'):\n",
    "    list_of_tuples = read_xml(input_dir + input_file)\n",
    "    common_list = []\n",
    "    \n",
    "    with open(output_dir + 'run_example.txt', 'w') as fp:\n",
    "        fp.write('\\n'.join('%s %s %s %s %s %s' % x for x in common_list))\n",
    "        \n",
    "    for elem in list_of_tuples[:10]:\n",
    "        qid = elem[0]\n",
    "        Q0 = 'Q0'\n",
    "        query = elem[1]\n",
    "        tag = 'myBaseline'\n",
    "        response = make_a_search_request(query)\n",
    "        a = response.json()\n",
    "        try:\n",
    "            scores = [elem['score'] for elem in a['results']]\n",
    "            docs = [elem['trec_id'] for elem in a['results']]\n",
    "            titles = [elem['title'] for elem in a['results']]\n",
    "        except:\n",
    "            print (a)\n",
    "        qids = qid*len(scores)\n",
    "        Q0s = [Q0 for elem in scores]\n",
    "        queries = query*len(scores)\n",
    "        tags = [tag for elem in scores]\n",
    "        ranks = range(1, len(scores) + 1)\n",
    "        part_of_commom_list = list(zip(qids, Q0s, docs, ranks, scores, tags))\n",
    "        print (\"len of recieve part, len of common list\", len(part_of_commom_list), len(common_list))\n",
    "        common_list = common_list + part_of_commom_list\n",
    "        \n",
    "    print (\"part 2\")    \n",
    "    for elem in list_of_tuples[:10]:\n",
    "        qid = elem[0]\n",
    "        Q0 = 'Q0'\n",
    "        query = elem[1]\n",
    "        tag = 'myBertSimilarity'\n",
    "        response = make_a_search_request(query)\n",
    "        a = response.json()\n",
    "        try:\n",
    "            docs = [elem['trec_id'] for elem in a['results']]\n",
    "            titles = [elem['title'] for elem in a['results']]\n",
    "            scores = make_scores_1(query, titles)\n",
    "        except:\n",
    "            print (\"except\")\n",
    "            return titles\n",
    "        qids = qid*len(scores)\n",
    "        Q0s = [Q0 for elem in scores]\n",
    "        queries = query*len(scores)\n",
    "        tags = [tag for elem in scores]\n",
    "        ranks = range(1, len(scores) + 1)\n",
    "        part_of_commom_list = list(zip(qids, Q0s, docs, ranks, scores, tags))\n",
    "        part_of_commom_list = sorted(part_of_commom_list, key = lambda x: x[4], reverse = True) \n",
    "        print (\"len of recieve part, len of common list\", len(part_of_commom_list), len(common_list))\n",
    "        common_list = common_list + part_of_commom_list\n",
    "\n",
    "    with open(output_dir + 'run_example.txt', 'w') as fp:\n",
    "        fp.write('\\n'.join('%s %s %s %s %s %s' % x for x in common_list))"
   ]
  },
  {
   "cell_type": "code",
   "execution_count": 113,
   "metadata": {},
   "outputs": [
    {
     "name": "stdout",
     "output_type": "stream",
     "text": [
      "1\n",
      "[<DOM Element: topics at 0x7f290a941d70>]\n",
      "50\n",
      "len of recieve part, len of common list 1000 0\n",
      "len of recieve part, len of common list 1000 1000\n",
      "len of recieve part, len of common list 1000 2000\n",
      "len of recieve part, len of common list 1000 3000\n",
      "len of recieve part, len of common list 1000 4000\n",
      "len of recieve part, len of common list 1000 5000\n",
      "len of recieve part, len of common list 1000 6000\n",
      "len of recieve part, len of common list 210 7000\n",
      "len of recieve part, len of common list 1000 7210\n",
      "len of recieve part, len of common list 1000 8210\n",
      "part 2\n",
      "len of recieve part, len of common list 1000 9210\n",
      "len of recieve part, len of common list 1000 10210\n",
      "len of recieve part, len of common list 1000 11210\n",
      "len of recieve part, len of common list 1000 12210\n",
      "len of recieve part, len of common list 1000 13210\n",
      "len of recieve part, len of common list 1000 14210\n",
      "len of recieve part, len of common list 1000 15210\n",
      "len of recieve part, len of common list 210 16210\n",
      "len of recieve part, len of common list 1000 16420\n",
      "len of recieve part, len of common list 1000 17420\n"
     ]
    }
   ],
   "source": [
    "titles = run_baseline()"
   ]
  },
  {
   "cell_type": "code",
   "execution_count": 28,
   "metadata": {},
   "outputs": [],
   "source": [
    "def make_a_search_request(query):\n",
    "    # return json\n",
    "    # json will be processed further\n",
    "    params = {\n",
    "            \"apikey\": \"0833a307-97d3-462a-99d9-27db400c70da\",\n",
    "            \"query\": query,\n",
    "            \"index\": [\"cw12\"],\n",
    "            \"size\": 1000,\n",
    "            \"pretty\": True\n",
    "        }\n",
    "    response = requests.get(url = \"http://www.chatnoir.eu/api/v1/_search\", params = params)\n",
    "    return response"
   ]
  },
  {
   "cell_type": "code",
   "execution_count": 29,
   "metadata": {},
   "outputs": [],
   "source": [
    "def make_scores_0(query, answer_scores):\n",
    "    # take answer_scores from clueweb as scores \n",
    "    # retrun the same scores (baseline)\n",
    "    return answer_scores"
   ]
  },
  {
   "cell_type": "code",
   "execution_count": 97,
   "metadata": {},
   "outputs": [],
   "source": [
    "from bert_serving.client import BertClient\n",
    "from sklearn.metrics.pairwise import cosine_similarity\n",
    "bc = BertClient()\n",
    "\n",
    "import re\n",
    "\n",
    "def cleanhtml(raw_html):\n",
    "    cleanr = re.compile('<.*?>')\n",
    "    cleantext = re.sub(cleanr, '', raw_html)\n",
    "    return cleantext\n",
    "\n",
    "def make_scores_1(query, answer_titles):\n",
    "    query_emb = bc.encode([query])\n",
    "    scores = [cosine_similarity(query_emb.reshape(1, -1), bc.encode([cleanhtml(answer_title)]).reshape(1, -1))[0][0] for answer_title in answer_titles]\n",
    "    return scores\n",
    "    \n",
    "    \n",
    "    # take title from seacrh output from clueweb\n",
    "    # return a cosine similarity between bert embedding of sentences and article title"
   ]
  },
  {
   "cell_type": "code",
   "execution_count": 35,
   "metadata": {},
   "outputs": [
    {
     "name": "stdout",
     "output_type": "stream",
     "text": [
      "INFO:tensorflow:Restoring parameters from /notebook/uncased_L-12_H-768_A-12/bert_model.ckpt\n"
     ]
    }
   ],
   "source": [
    "import tensorflow as tf\n",
    "with tf.Session() as sess:\n",
    "    saver = tf.train.import_meta_graph('/notebook/uncased_L-12_H-768_A-12/bert_model.ckpt.meta')\n",
    "    saver.restore(sess, \"/notebook/uncased_L-12_H-768_A-12/bert_model.ckpt\")"
   ]
  },
  {
   "cell_type": "code",
   "execution_count": 36,
   "metadata": {},
   "outputs": [
    {
     "data": {
      "text/plain": [
       "768"
      ]
     },
     "execution_count": 36,
     "metadata": {},
     "output_type": "execute_result"
    }
   ],
   "source": [
    "bc = BertClient()\n",
    "encode1 = bc.encode(['What is better bread or pizza'])\n",
    "len(encode1[0])"
   ]
  },
  {
   "cell_type": "code",
   "execution_count": 5,
   "metadata": {},
   "outputs": [],
   "source": [
    "response = make_a_search_request('What is better bread or pizza')"
   ]
  },
  {
   "cell_type": "code",
   "execution_count": 6,
   "metadata": {},
   "outputs": [],
   "source": [
    "a = response.json()\n"
   ]
  },
  {
   "cell_type": "code",
   "execution_count": 8,
   "metadata": {},
   "outputs": [
    {
     "data": {
      "text/plain": [
       "1000"
      ]
     },
     "execution_count": 8,
     "metadata": {},
     "output_type": "execute_result"
    }
   ],
   "source": [
    "len(a['results'])"
   ]
  },
  {
   "cell_type": "code",
   "execution_count": 24,
   "metadata": {},
   "outputs": [
    {
     "data": {
      "text/plain": [
       "'We did decide it would be worth it to invest in some <em>better</em> <em>bread</em> pans. The kind most people have at home (and <em>what</em> I had) are actually smaller than a “real” <em>bread</em> loaf – great for banana <em>bread</em>, but not so much for regular <em>bread</em>-making. I chose a pair of 1 1&#x2F;2 lb.'"
      ]
     },
     "execution_count": 24,
     "metadata": {},
     "output_type": "execute_result"
    }
   ],
   "source": [
    "a['results'][1]['snippet']"
   ]
  },
  {
   "cell_type": "code",
   "execution_count": 25,
   "metadata": {},
   "outputs": [
    {
     "data": {
      "text/plain": [
       "1665.953"
      ]
     },
     "execution_count": 25,
     "metadata": {},
     "output_type": "execute_result"
    }
   ],
   "source": [
    "a['results'][1]['score']"
   ]
  },
  {
   "cell_type": "code",
   "execution_count": null,
   "metadata": {},
   "outputs": [],
   "source": [
    "qid Q0 doc rank score tag\n",
    "1 Q0 clueweb09-en0010-85-29836 1 17.89 myGroupMyMethod"
   ]
  },
  {
   "cell_type": "code",
   "execution_count": 2,
   "metadata": {},
   "outputs": [
    {
     "data": {
      "text/plain": [
       "'Q0Q0Q0Q0Q0Q0Q0Q0Q0Q0'"
      ]
     },
     "execution_count": 2,
     "metadata": {},
     "output_type": "execute_result"
    }
   ],
   "source": [
    "Q0 = 'Q0'\n",
    "Q0*10"
   ]
  },
  {
   "cell_type": "code",
   "execution_count": 16,
   "metadata": {},
   "outputs": [
    {
     "name": "stdout",
     "output_type": "stream",
     "text": [
      "1\n",
      "[<DOM Element: topics at 0x7f8973bc8eb0>]\n",
      "50\n",
      "query What is the difference between sex and love?\n",
      "len of recieve part, len of common list 10 0\n",
      "query Which is better, laptop or desktop?\n",
      "len of recieve part, len of common list 10 10\n",
      "query Which is better, Canon or Nikon?\n",
      "len of recieve part, len of common list 10 20\n",
      "query What are the best dish detergents?\n",
      "len of recieve part, len of common list 10 30\n",
      "query What are the best cities to live?\n",
      "len of recieve part, len of common list 10 40\n",
      "query What is the longest river in the U.S.?\n",
      "len of recieve part, len of common list 10 50\n",
      "query Which is healthiest: coffee, green tea or black tea and why?\n",
      "len of recieve part, len of common list 10 60\n",
      "query What are advantages and disadvantages of PHP over Python and vice versa?\n",
      "len of recieve part, len of common list 10 70\n",
      "query Why is Linux better than Windows?\n",
      "len of recieve part, len of common list 10 80\n",
      "query How to sleep better?\n",
      "len of recieve part, len of common list 10 90\n",
      "query Should I buy an LCD TV or a plasma TV?\n",
      "len of recieve part, len of common list 10 100\n",
      "query Train or plane? Which is the better choice?\n",
      "len of recieve part, len of common list 10 110\n",
      "query What is the highest mountain on Earth?\n",
      "len of recieve part, len of common list 10 120\n",
      "query Should one prefer Chinese medicine or Western medicine?\n",
      "len of recieve part, len of common list 10 130\n",
      "query What are the best washing machine brands?\n",
      "len of recieve part, len of common list 10 140\n",
      "query Should I buy or rent?\n",
      "len of recieve part, len of common list 10 150\n",
      "query Do you prefer cats or dogs, and why?\n",
      "len of recieve part, len of common list 10 160\n",
      "query What is the better way to grill outdoors: gas or charcoal?\n",
      "len of recieve part, len of common list 10 170\n",
      "query Which is better, MAC or PC?\n",
      "len of recieve part, len of common list 10 180\n",
      "query What is better to use a brush or a sponge?\n",
      "len of recieve part, len of common list 10 190\n",
      "query Which is better Linux or Microsoft?\n",
      "len of recieve part, len of common list 10 200\n",
      "query Which is better Pepsi or Coke?\n",
      "len of recieve part, len of common list 10 210\n",
      "query What is better Google search or Yahoo search?\n",
      "len of recieve part, len of common list 10 220\n",
      "query Which one is better Netflix or Blockbuster?\n",
      "len of recieve part, len of common list 10 230\n",
      "query Which browser is better Internet Explorer or Firefox?\n",
      "len of recieve part, len of common list 10 240\n",
      "query Which is a better vehicle: BMW or Audi?\n",
      "len of recieve part, len of common list 10 250\n",
      "query Which one is better Electric stove or a Gas stove?\n",
      "len of recieve part, len of common list 10 260\n",
      "query What planes are best, Boeing or Airbus?\n",
      "len of recieve part, len of common list 10 270\n",
      "query Which is better Disneyland or Disneyworld?\n",
      "len of recieve part, len of common list 10 280\n",
      "query Should I buy XBOX or playstation?\n",
      "len of recieve part, len of common list 10 290\n",
      "query Which has more caffeine, coffee or tea?\n",
      "len of recieve part, len of common list 10 300\n",
      "query Which is better plasma or LCD big screen TVs?\n",
      "len of recieve part, len of common list 10 310\n",
      "query Which is more useful ASP or PHP?\n",
      "len of recieve part, len of common list 10 320\n",
      "query What is better for the environment a real or a fake Christmas tree?\n",
      "len of recieve part, len of common list 10 330\n",
      "query Do you prefer tampons or pads?\n",
      "len of recieve part, len of common list 10 340\n",
      "query What is better for iOS development: Objective-C or Swift?\n",
      "len of recieve part, len of common list 10 350\n",
      "query Is OpenGL is better than Direct3D in terms of portability to different platforms?\n",
      "len of recieve part, len of common list 10 360\n",
      "query What are the differences between MySQL and PostgreSQL in performance?\n",
      "len of recieve part, len of common list 10 370\n",
      "query Is Java code more readable than code written in Scala?\n",
      "len of recieve part, len of common list 10 380\n",
      "query Which operating system has better performance: Windows 7 or Windows 8?\n",
      "len of recieve part, len of common list 10 390\n",
      "query Which smartphone has a better battery life: Sony Xperia or iPhone?\n",
      "len of recieve part, len of common list 10 400\n",
      "query Which four wheel truck is better: Ford or Toyota?\n",
      "len of recieve part, len of common list 10 410\n",
      "query Should I prefer Leica camera over Nikon for portrait photographs?\n",
      "len of recieve part, len of common list 10 420\n",
      "query Which company has a larger capitalization: Apple or Microsoft?\n",
      "len of recieve part, len of common list 10 430\n",
      "query Which laptop has a better durability: HP or Dell?\n",
      "len of recieve part, len of common list 10 440\n",
      "query What is the difference between restaurant and cafe?\n",
      "len of recieve part, len of common list 10 450\n",
      "query Is admission rate in Stanford is higher than that of MIT?\n",
      "len of recieve part, len of common list 10 460\n",
      "query Is pasta healthier than pizza?\n",
      "len of recieve part, len of common list 10 470\n",
      "query Which state is richer: North Carolina or Missouri?\n",
      "len of recieve part, len of common list 10 480\n",
      "query What sport is more spectacular: tennis or basketball?\n",
      "len of recieve part, len of common list 10 490\n"
     ]
    }
   ],
   "source": [
    "list_of_tuples = read_xml('topics-task-2-only-titles.xml')\n",
    "common_list = []\n",
    "for elem in list_of_tuples:\n",
    "    qid = elem[0]\n",
    "    Q0 = 'Q0'\n",
    "    query = elem[1]\n",
    "    tag = 'myBaseline'\n",
    "    print (\"query\", query)\n",
    "    response = make_a_search_request(query)\n",
    "    a = response.json()\n",
    "    scores = [elem['score'] for elem in a['results']]\n",
    "    docs = [elem['trec_id'] for elem in a['results']]\n",
    "    titles = [elem['title'] for elem in a['results']]\n",
    "    qids = qid*len(scores)\n",
    "    Q0s = [Q0 for elem in scores]\n",
    "    queries = query*len(scores)\n",
    "    tags = [tag for elem in scores]\n",
    "    ranks = range(1, len(scores) + 1)\n",
    "    part_of_commom_list = list(zip(qids, Q0s, docs, ranks, scores, tags))\n",
    "    print (\"len of recieve part, len of common list\", len(part_of_commom_list), len(common_list))\n",
    "    common_list = common_list + part_of_commom_list\n",
    "    \n",
    "with open('/notebook/touche/output/run_example.txt', 'w') as fp:\n",
    "    fp.write('\\n'.join('%s %s %s %s %s %s' % x for x in common_list))"
   ]
  },
  {
   "cell_type": "code",
   "execution_count": 22,
   "metadata": {},
   "outputs": [],
   "source": [
    "with open('/notebook/touche/output/run_example.txt', 'w') as fp:\n",
    "    fp.write('\\n'.join('%s %s %s %s %s %s' % x for x in common_list))"
   ]
  },
  {
   "cell_type": "code",
   "execution_count": 145,
   "metadata": {},
   "outputs": [
    {
     "data": {
      "text/plain": [
       "[1, 2, 3, 4, 5, 6, 7, 8, 9, 10, 11, 12, 13, 14, 15, 16]"
      ]
     },
     "execution_count": 145,
     "metadata": {},
     "output_type": "execute_result"
    }
   ],
   "source": [
    "a = list(range(1, 17))\n",
    "a"
   ]
  },
  {
   "cell_type": "code",
   "execution_count": 17,
   "metadata": {},
   "outputs": [
    {
     "name": "stdout",
     "output_type": "stream",
     "text": [
      "/notebook/touche\n"
     ]
    }
   ],
   "source": [
    "!pwd"
   ]
  },
  {
   "cell_type": "code",
   "execution_count": null,
   "metadata": {},
   "outputs": [],
   "source": [
    "title, snippet, score, trec_id"
   ]
  },
  {
   "cell_type": "code",
   "execution_count": 140,
   "metadata": {},
   "outputs": [],
   "source": [
    "scores = [elem['score'] for elem in a['results']]\n",
    "docs = [elem['trec_id'] for elem in a['results']]\n",
    "titles = [elem['title'] for elem in a['results']]"
   ]
  },
  {
   "cell_type": "code",
   "execution_count": 141,
   "metadata": {},
   "outputs": [
    {
     "data": {
      "text/plain": [
       "[1763.1145,\n",
       " 1665.953,\n",
       " 1665.794,\n",
       " 1607.0322,\n",
       " 1464.4408,\n",
       " 1371.346,\n",
       " 1363.5419,\n",
       " 1348.255,\n",
       " 1314.545,\n",
       " 1314.2784]"
      ]
     },
     "execution_count": 141,
     "metadata": {},
     "output_type": "execute_result"
    }
   ],
   "source": [
    "scores"
   ]
  },
  {
   "cell_type": "code",
   "execution_count": 142,
   "metadata": {},
   "outputs": [
    {
     "data": {
      "text/plain": [
       "{'meta': {'query_time': 3348, 'total_results': 63265, 'indices': ['cw12']},\n",
       " 'results': [{'score': 1763.1145,\n",
       "   'uuid': 'fdb00460-5461-5440-8d51-48b5715ddeef',\n",
       "   'index': 'cw12',\n",
       "   'trec_id': 'clueweb12-0712wb-94-14296',\n",
       "   'target_hostname': 'freshandfoodie.com',\n",
       "   'target_uri': 'http://freshandfoodie.com/category/breads-pizzas/',\n",
       "   'page_rank': 2.6386606e-09,\n",
       "   'spam_rank': 83,\n",
       "   'title': '<em>Breads</em> &amp; <em>Pizzas</em> «',\n",
       "   'snippet': 'The perfect flavors, plus the pretzel nugget on top <em>is</em> super cute. Yep, they went there. There are Oreos baked into these brownies. So, which are you? A <em>better</em> cook <em>or</em> a <em>better</em> baker? <em>What</em> have you seen on the interwebs lately that inspired you? Please share!',\n",
       "   'explanation': None},\n",
       "  {'score': 1665.953,\n",
       "   'uuid': '282104d4-6839-5b4f-afe9-5b3759e7a20a',\n",
       "   'index': 'cw12',\n",
       "   'trec_id': 'clueweb12-1606wb-34-03244',\n",
       "   'target_hostname': 'www.as-for-my-house.com',\n",
       "   'target_uri': 'http://www.as-for-my-house.com/2009/10/better-bread/',\n",
       "   'page_rank': 1.1748779e-09,\n",
       "   'spam_rank': 96,\n",
       "   'title': '<em>Better</em> <em>Bread</em>',\n",
       "   'snippet': 'We did decide it would be worth it to invest in some <em>better</em> <em>bread</em> pans. The kind most people have at home (and <em>what</em> I had) are actually smaller than a “real” <em>bread</em> loaf – great for banana <em>bread</em>, but not so much for regular <em>bread</em>-making. I chose a pair of 1 1&#x2F;2 lb.',\n",
       "   'explanation': None},\n",
       "  {'score': 1665.794,\n",
       "   'uuid': '38777c7b-fe72-53fd-bb83-aa7083b2696d',\n",
       "   'index': 'cw12',\n",
       "   'trec_id': 'clueweb12-0111wb-58-20331',\n",
       "   'target_hostname': 'www.cookingnook.com',\n",
       "   'target_uri': 'http://www.cookingnook.com/bread-machine-pizza-dough.html',\n",
       "   'page_rank': 1.1921802e-09,\n",
       "   'spam_rank': 82,\n",
       "   'title': '<em>Bread</em> Machine <em>Pizza</em> Dough | <em>Pizza</em> Recipe',\n",
       "   'snippet': 'Well this fantastic roasted chicken, pancetta and potato <em>pizza</em> <em>is</em> just one of 250 <em>bread</em> machine recipes in Judith Fertig&#x27;s new cookbook The Artisan <em>Bread</em> Machine: 250 Recipes for <em>Breads</em>, Rolls, Flatbreads and <em>Pizzas</em>.',\n",
       "   'explanation': None},\n",
       "  {'score': 1607.0322,\n",
       "   'uuid': '3f73971c-fc3d-5026-be4a-0779b565f809',\n",
       "   'index': 'cw12',\n",
       "   'trec_id': 'clueweb12-0001wb-49-08048',\n",
       "   'target_hostname': 'italianfood.about.com',\n",
       "   'target_uri': 'http://italianfood.about.com/od/breadspizza/Breads_Pizza_Rolls_Focaccia_Grissini.htm',\n",
       "   'page_rank': 7.785811e-09,\n",
       "   'spam_rank': 68,\n",
       "   'title': '<em>Breads</em>, <em>Pizza</em> Rolls, Focaccia, Grissini...',\n",
       "   'snippet': 'A calzone <em>is</em> a <em>pizza</em> folded over to close the topping on the inside, and since it resembles a large sock in shape that&#x27;s <em>what</em> it&#x27;s called -- the word calzone means sock in Italian.',\n",
       "   'explanation': None},\n",
       "  {'score': 1464.4408,\n",
       "   'uuid': '71e2b989-76b9-5626-adef-279b67de8878',\n",
       "   'index': 'cw12',\n",
       "   'trec_id': 'clueweb12-0100tw-09-07323',\n",
       "   'target_hostname': 'theboatgalley.com',\n",
       "   'target_uri': 'http://theboatgalley.com/pizza-crust/',\n",
       "   'page_rank': 1.2579012e-09,\n",
       "   'spam_rank': 66,\n",
       "   'title': 'Make a <em>Better</em> <em>Pizza</em> Crust',\n",
       "   'snippet': 'The heavier the pan, the <em>better</em> the results will be as it will hold heat <em>better</em>. Preheat the oven to 450 degrees F. <em>or</em> as close as your oven will get – even if your oven will only get to 350 degrees F., this technique will produce much <em>better</em> results than <em>what</em> you’d otherwise get.',\n",
       "   'explanation': None},\n",
       "  {'score': 1371.346,\n",
       "   'uuid': '8476135a-d06d-5ca5-9b61-703a60295193',\n",
       "   'index': 'cw12',\n",
       "   'trec_id': 'clueweb12-1808wb-49-25670',\n",
       "   'target_hostname': 'sweetnicks.com',\n",
       "   'target_uri': 'http://sweetnicks.com/weblog/2004/02/nacho-bread-pizza-2/',\n",
       "   'page_rank': 1.1700305e-09,\n",
       "   'spam_rank': 82,\n",
       "   'title': 'Nacho <em>Bread</em> <em>Pizza</em> | Food and Life',\n",
       "   'snippet': '1 loaf baguette <em>or</em> semolina <em>bread</em>, day old <em>is</em> fine 1 tablespoon extra-virgin olive oil, 1 turn of the pan 1 jalapeno, seeded and chopped <em>or</em> 1 pickled hot pepper of any kind, chopped (I skip) Hollow the <em>bread</em> out and cut each half in half across, making 4 boats. Preheat oven to 350 degrees F.',\n",
       "   'explanation': None},\n",
       "  {'score': 1363.5419,\n",
       "   'uuid': 'c1587807-2d30-591e-b4b8-92ae48300628',\n",
       "   'index': 'cw12',\n",
       "   'trec_id': 'clueweb12-1802wb-48-10340',\n",
       "   'target_hostname': 'www.ourveggiekitchen.com',\n",
       "   'target_uri': 'http://www.ourveggiekitchen.com/2010/03/pizza-pizza-making-better-dough.html',\n",
       "   'page_rank': 1.2298135e-09,\n",
       "   'spam_rank': 70,\n",
       "   'title': 'Our Veggie Kitchen: <em>Pizza</em>! <em>Pizza</em>! (Making a <em>Better</em> Dough)',\n",
       "   'snippet': 'Your post <em>is</em> proof that rules are made to be broken- I would never have dared to use <em>bread</em> flour because it <em>is</em> supposed to be such a no-no for a good <em>pizza</em> crust, and here you made it work. Will try this for the next <em>pizza</em> project! I used to love meatloaf sandwiches.',\n",
       "   'explanation': None},\n",
       "  {'score': 1348.255,\n",
       "   'uuid': 'd88d9c4b-2bb2-5088-9658-5e41de0a5363',\n",
       "   'index': 'cw12',\n",
       "   'trec_id': 'clueweb12-0809wb-05-06818',\n",
       "   'target_hostname': 'easy.betterrecipes.com',\n",
       "   'target_uri': 'http://easy.betterrecipes.com/twisted-pizza-dogs.html',\n",
       "   'page_rank': 1.2144562e-09,\n",
       "   'spam_rank': 84,\n",
       "   'title': 'Twisted <em>Pizza</em> Dogs | <em>Better</em> Recipes',\n",
       "   'snippet': 'Bake 10-12 minutes <em>or</em> until golden brown. Serve with remaining <em>pizza</em> sauce, heated if desired. These are soooooo good. Here I am in beautiful Las Vegas; palm trees sunshine and a hot tub- <em>what</em> could be <em>better</em>- ah retirement- <em>what</em> a life.',\n",
       "   'explanation': None},\n",
       "  {'score': 1314.545,\n",
       "   'uuid': '9e786746-5d70-5395-b240-9a65b90d635e',\n",
       "   'index': 'cw12',\n",
       "   'trec_id': 'clueweb12-1807wb-90-09329',\n",
       "   'target_hostname': 'motherrimmy.com',\n",
       "   'target_uri': 'http://motherrimmy.com/easy-mushroom-pizza-recipe',\n",
       "   'page_rank': 1.1827892e-09,\n",
       "   'spam_rank': 80,\n",
       "   'title': 'My <em>Pizza</em> <em>is</em> <em>Better</em> Than Yours - Easy Mushroom <em>Pizza</em> | Mother Rimmy&#x27;s Cooking',\n",
       "   'snippet': '<em>Is</em> it an Appetizer <em>or</em> a Meal? Mini Ham and Broccoli Quiche in Wonton Cups » My <em>Pizza</em> <em>is</em> <em>Better</em> Than Yours – Easy Mushroom <em>Pizza</em> Okay, maybe my <em>pizza</em> isn’t <em>better</em> than yours, but it’s definitely <em>better</em> than anything the local <em>pizza</em> joint serves up.',\n",
       "   'explanation': None},\n",
       "  {'score': 1314.2784,\n",
       "   'uuid': '1f7244a9-81bc-5382-89d3-82c396e47272',\n",
       "   'index': 'cw12',\n",
       "   'trec_id': 'clueweb12-0308wb-71-30128',\n",
       "   'target_hostname': 'cspinet.org',\n",
       "   'target_uri': 'http://cspinet.org/new/pizza_051702.html',\n",
       "   'page_rank': 1.1706252e-09,\n",
       "   'spam_rank': 69,\n",
       "   'title': '<em>What</em> <em>Pizza</em> Really Delivers',\n",
       "   'snippet': 'Pepperoni <em>is</em> usually <em>better</em> than sausage, pork, and beef. * Avoid &quot;Stuffed Crust,&quot; the innovation that injects cheese into the pizza&#x27;s crust.',\n",
       "   'explanation': None}]}"
      ]
     },
     "execution_count": 142,
     "metadata": {},
     "output_type": "execute_result"
    }
   ],
   "source": [
    "a"
   ]
  },
  {
   "cell_type": "code",
   "execution_count": null,
   "metadata": {},
   "outputs": [],
   "source": []
  }
 ],
 "metadata": {
  "kernelspec": {
   "display_name": "Python 3",
   "language": "python",
   "name": "python3"
  },
  "language_info": {
   "codemirror_mode": {
    "name": "ipython",
    "version": 3
   },
   "file_extension": ".py",
   "mimetype": "text/x-python",
   "name": "python",
   "nbconvert_exporter": "python",
   "pygments_lexer": "ipython3",
   "version": "3.7.4"
  }
 },
 "nbformat": 4,
 "nbformat_minor": 4
}
