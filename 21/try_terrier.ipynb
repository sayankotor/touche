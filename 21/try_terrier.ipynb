{
 "cells": [
  {
   "cell_type": "code",
   "execution_count": 62,
   "metadata": {},
   "outputs": [],
   "source": [
    "import pyterrier as pt\n",
    "if not pt.started():\n",
    "  print (\"not\")  \n",
    "  pt.init()"
   ]
  },
  {
   "cell_type": "code",
   "execution_count": 1,
   "metadata": {},
   "outputs": [
    {
     "name": "stdout",
     "output_type": "stream",
     "text": [
      "1\n",
      "[<DOM Element: topics at 0x7f1b1448ce10>]\n",
      "50\n"
     ]
    }
   ],
   "source": [
    "from baseline import read_xml\n",
    "topics_2020 = read_xml('topics-task-2.xml')"
   ]
  },
  {
   "cell_type": "code",
   "execution_count": 3,
   "metadata": {},
   "outputs": [
    {
     "data": {
      "text/plain": [
       "[('40',\n",
       "  '\\nWhich operating system has better performance: Windows 7 or Windows 8?\\n'),\n",
       " ('41', '\\nWhich smartphone has a better battery life: Xperia or iPhone?\\n'),\n",
       " ('42', '\\nWhich four wheel truck is better: Ford or Toyota?\\n'),\n",
       " ('43',\n",
       "  '\\nShould I prefer a Leica camera over Nikon for portrait photographs?\\n'),\n",
       " ('44', '\\nWhich company has a larger capitalization: Apple or Microsoft?\\n'),\n",
       " ('45', '\\nWhich laptop has a better durability: HP or Dell?\\n'),\n",
       " ('46', '\\nWhich beverage has more calories per glass: beer or cider?\\n'),\n",
       " ('47', '\\nIs admission rate in Stanford higher than that of MIT?\\n'),\n",
       " ('48', '\\nIs pasta healthier than pizza?\\n'),\n",
       " ('49',\n",
       "  '\\nWhich city is more expensive to live in: San Francisco or New York?\\n'),\n",
       " ('50', '\\nWhose salary is higher: basketball or soccer players?\\n')]"
      ]
     },
     "execution_count": 3,
     "metadata": {},
     "output_type": "execute_result"
    }
   ],
   "source": [
    "topics_2020[39:50]"
   ]
  },
  {
   "cell_type": "code",
   "execution_count": null,
   "metadata": {},
   "outputs": [],
   "source": [
    "Which smartphone has a better battery life: Xperia or iPhone?"
   ]
  },
  {
   "cell_type": "code",
   "execution_count": 68,
   "metadata": {},
   "outputs": [],
   "source": [
    "import requests\n",
    "#r = requests.post('http://10.30.99.211:8261/gpt_small', data = \"What is better for deep learning Python or Matlab?\")\n",
    "#print (r.status_code)\n",
    "import requests\n",
    "from xml.dom import minidom\n",
    "import sys\n",
    "import argparse\n",
    "\n",
    "#numpy\n",
    "import numpy as np"
   ]
  },
  {
   "cell_type": "code",
   "execution_count": 69,
   "metadata": {},
   "outputs": [
    {
     "name": "stdout",
     "output_type": "stream",
     "text": [
      "/notebook/touche2021\n"
     ]
    }
   ],
   "source": [
    "!pwd"
   ]
  },
  {
   "cell_type": "code",
   "execution_count": 4,
   "metadata": {},
   "outputs": [],
   "source": [
    "import pickle\n",
    "\n",
    "\n",
    "with open('/notebook/touche/list_of_un_answ.pkl', 'rb') as f:\n",
    "    answers_2020 = pickle.load(f)"
   ]
  },
  {
   "cell_type": "markdown",
   "metadata": {},
   "source": [
    "Which smartphone has a better battery life: Xperia or iPhone?\n",
    "    \n",
    "LightGBM:\n",
    "    \n",
    "1. “…the power saver app that will turn down settings when battery life is low to get as much juice out of the battery as possible”. sony has set the benchmark with its 12 megapixel camera inside the xperia s.\n",
    "\n",
    "2. how to increase the battery life of apple&#x27;s iphone 4s many of those with an iphone 4s have complaints about the battery life. apple has acknowledged these problems, and is working to fix them\n",
    "\n",
    "3. the verizon xperia play takes its biggest hit in battery life when playing video games.\n",
    "\n",
    "4. sony ericsson includes an 8gb card in the sales package the sony ericsson xperia arc s has below average battery life. most users will get around 24 hours of life out of the xperia arc&#x27;s 1600mah battery before it needs a recharge, but heavy users may need an injection of power before then.\n",
    "\n",
    "5. 'the one x will feature an 1800 mah battery and is expected to better iphone 5 in the battery-life department.\n",
    "\n",
    "baseline:\n",
    "\n",
    "1. the iphone 4 is apple&#x27;s thinnest smartphone yet, but offers a much better screen, faster processor, video calling, and many other enhancements.\n",
    "\n",
    "2. ony xperia s review: an above average smartphone ~ gizmotraker', 'as far as battery life is concerned, it last about 7 hr 30 min in talktime &amp; 450 hrs in standby\n",
    "\n",
    "3. so, if you had to buy a new smartphone this summer, which one would you choose? will you wait until the device-of-choice ends up coming to your mobile carrier? will we see the iphone on the verizon wireless network?\n",
    "\n",
    "4. how to increase the battery life of apple&#x27;s iphone 4s many of those with an iphone 4s have complaints about the battery life. apple has acknowledged these problems, and is working to fix them\n",
    "\n",
    "5. page 5 of iphone news for smartphones', 'the iphone 4 is apple&#x27;s thinnest smartphone yet, but offers a much better screen, faster processor, video calling, and many other enhancements."
   ]
  },
  {
   "cell_type": "markdown",
   "metadata": {},
   "source": [
    "Which city is more expensive to live in: San Francisco or New York?\n",
    "\n",
    "1. overshadowed by the far more successful world’s fair in new york city, and in particular by the tone-setting “world of tomorrow” exhibit there built by general motors, the 1939 us steel vision of san francisco in 1999 is worth peeking at: &quot;san francisco in 1999&quot; golden gate international exposition\n",
    "\n",
    "2. new york city - new york city or nyc is the most populous city in united states and the centre of new york metropolitan area. located on one of the world&#x27;s largest natural harbour, nyc consists of five boroughs, the bronx, brooklyn, manhattan, queens, and staten island.\n",
    "\n",
    "3. 'new york city, new york home new york new york city * doctors found not negligent in medical malpractice case a medical malpractice case involving the head football coach for notre dame has ended with the jury finding the doctors not negligent in their care and treatment.\n",
    "\n",
    "4. areas like alphabet city in manhattan and the mission district in san francisco, which were occupied by poor, mostly hispanic families for over a decade, are now increasingly expensive.\n",
    "\n",
    "5. there are many of the well known chain hotels in san francisco and the closer to the city centre the more expensive they are. rates for most accommodation are comparable to those charged in other major us cities. another option is to stay in a bed and breakfast inn.\n",
    "\n",
    "baseline\n",
    "\n",
    "1. there are many of the well known chain hotels in san francisco and the closer to the city centre the more expensive they are. rates for most accommodation are comparable to those charged in other major us cities. another option is to stay in a bed and breakfast inn.'\n",
    "\n",
    "2. the guided walking tours around san francisco range from the absolutely free (city guides) to more expensive, all-inclusive walking and dining tours like wok wiz in chinatown.\n",
    "\n",
    "3. the best san francisco restaurants, bars, shopping, and more. from stunning views to memorable museums, san francisco is a city of iconic attractions and hidden gems. we&#x27;ve pulled together the best of each in this quintessential roundup.\n",
    "\n",
    "4. another way to find your way around the city is to read this, our 11th annual best of san francisco® issue, which is filled with every one of those discoveries — and hundreds more.\n",
    "\n",
    "5. if you plan to visit distant outlying areas which are not accessible by subway, it is best to ret a car for the length of such trips, and plan to walk or use public transportation in the city of san francisco and environs.\n"
   ]
  },
  {
   "cell_type": "markdown",
   "metadata": {},
   "source": [
    "\n",
    "\n",
    "1. 'stanford and harvard have a similar admissions rate of about 7%. mit comes with a somewhat greater rate of success admitting just under 10% or 1742 for the class of 2015. harvard, stanford and mit are global leaders in culture, commerce and governmental policies.'\n",
    "\n",
    "2. 'for more than a decade, i have served as an admissions officer for mit. in that time, i&#x27;ve read more than 10,000 applications and have watched thousands of new students enter mit. it is a privilege to work at the most dynamic and exciting university in the world.'\n",
    "\n",
    "3. our primary enhancement was targeted at families earning less than $75,000 — making mit tuition free and eliminating the student loan requirement. our enhancement enabled us to maintain our trend of yielding students from the lower socio-economic levels at a higher rate.\n",
    "\n",
    "baseline\n",
    "\n",
    "'stanford and harvard have a similar admissions rate of about 7%. mit comes with a somewhat greater rate of success admitting just under 10% or 1742 for the class of 2015. harvard, stanford and mit are global leaders in culture, commerce and governmental policies.'\n",
    "\n",
    "'for more than a decade, i have served as an admissions officer for mit. in that time, i&#x27;ve read more than 10,000 applications and have watched thousands of new students enter mit. it is a privilege to work at the most dynamic and exciting university in the world.'\n",
    "\n",
    "'all of this factual information, plus a lot of other detail, can be found in the mit admissions literature. by now you’ve probably realized that mit is expensive. fortunately though, we’re not cheap. in fact, this year, mit will award $74 million in undergraduate aid."
   ]
  },
  {
   "cell_type": "code",
   "execution_count": 41,
   "metadata": {},
   "outputs": [
    {
     "name": "stdout",
     "output_type": "stream",
     "text": [
      "(1253.0175, 'clueweb12-1906wb-51-06336', 'how much is too much? | mit due', 'our primary enhancement was targeted at families earning less than $75,000 — making mit tuition free and eliminating the student loan requirement. our enhancement enabled us to maintain our trend of yielding students from the lower socio-economic levels at a higher rate.')\n"
     ]
    }
   ],
   "source": [
    "for elem in answers_2020['47']:\n",
    "    if elem[1] == 'clueweb12-1906wb-51-06336':\n",
    "        print (elem)"
   ]
  },
  {
   "cell_type": "code",
   "execution_count": 72,
   "metadata": {},
   "outputs": [],
   "source": [
    "import pandas as pd\n",
    "import re\n",
    "info_df = pd.DataFrame(columns=[\"qid\", \"query\", \"docno\", \"text\"])\n",
    "\n",
    "for elem in topics_2020:\n",
    "    qid, query = elem[0], elem[1].strip('\\n')\n",
    "    query = re.sub(r'[^\\w\\s]','',query)\n",
    "    for answer in answers_2020[qid]:\n",
    "        docno = answer[1]\n",
    "        score = answer[0]\n",
    "        text = answer[3]\n",
    "        df_row = {\"qid\":qid, \"query\":query, \"docno\":docno, \"text\":text}\n",
    "        info_df = info_df.append(df_row, ignore_index= True)\n",
    "\n",
    "#textscorerTf = pt.text.scorer(body_attr=\"text\", wmodel=\"Tf\")\n",
    "#rtr = textscorerTf.transform("
   ]
  },
  {
   "cell_type": "code",
   "execution_count": 75,
   "metadata": {},
   "outputs": [],
   "source": [
    "from pyterrier import text"
   ]
  },
  {
   "cell_type": "code",
   "execution_count": 76,
   "metadata": {},
   "outputs": [],
   "source": [
    "from pyterrier.text import scorer"
   ]
  },
  {
   "cell_type": "code",
   "execution_count": 77,
   "metadata": {},
   "outputs": [
    {
     "name": "stdout",
     "output_type": "stream",
     "text": [
      "16:16:02.153 [main] ERROR o.t.m.models.WeightingModelFactory - Problem with weighting model named: org.terrier.matching.models.Tf-idf\n",
      "java.lang.ClassNotFoundException: org.terrier.matching.models.Tf-idf\n",
      "\tat java.base/jdk.internal.loader.BuiltinClassLoader.loadClass(BuiltinClassLoader.java:581) ~[na:na]\n",
      "\tat java.base/jdk.internal.loader.ClassLoaders$AppClassLoader.loadClass(ClassLoaders.java:178) ~[na:na]\n",
      "\tat java.base/java.lang.ClassLoader.loadClass(ClassLoader.java:522) ~[na:na]\n",
      "\tat java.base/java.lang.Class.forName0(Native Method) ~[na:na]\n",
      "\tat java.base/java.lang.Class.forName(Class.java:398) ~[na:na]\n",
      "\tat org.terrier.utility.ApplicationSetup.getClass(ApplicationSetup.java:416) ~[terrier-assemblies-5.4-jar-with-dependencies.jar:na]\n",
      "\tat org.terrier.matching.models.WeightingModelFactory.newInstance(WeightingModelFactory.java:93) ~[terrier-assemblies-5.4-jar-with-dependencies.jar:na]\n",
      "\tat org.terrier.querying.LocalManager.getWeightingModel(LocalManager.java:950) ~[terrier-assemblies-5.4-jar-with-dependencies.jar:na]\n",
      "\tat org.terrier.querying.LocalManager$ApplyLocalMatching.process(LocalManager.java:488) ~[terrier-assemblies-5.4-jar-with-dependencies.jar:na]\n",
      "\tat org.terrier.querying.LocalManager.runSearchRequest(LocalManager.java:916) ~[terrier-assemblies-5.4-jar-with-dependencies.jar:na]\n",
      "['java.lang.NullPointerException', 'org.terrier.matching.MatchingQueryTerms.setDefaultTermWeightingModel(MatchingQueryTerms.java:713)', 'org.terrier.querying.LocalManager$ApplyLocalMatching.process(LocalManager.java:507)', 'org.terrier.querying.LocalManager.runSearchRequest(LocalManager.java:916)']\n"
     ]
    }
   ],
   "source": [
    "from jnius import JavaException\n",
    "from pyterrier import text\n",
    "textscorerTf = text.scorer(body_attr=\"text\", wmodel=\"Tf-idf\")\n",
    "try:\n",
    "    rtr = textscorerTf.transform(info_df)\n",
    "except JavaException as ja:\n",
    "    print(ja.stacktrace)"
   ]
  },
  {
   "cell_type": "code",
   "execution_count": 51,
   "metadata": {},
   "outputs": [
    {
     "data": {
      "text/html": [
       "<div>\n",
       "<style scoped>\n",
       "    .dataframe tbody tr th:only-of-type {\n",
       "        vertical-align: middle;\n",
       "    }\n",
       "\n",
       "    .dataframe tbody tr th {\n",
       "        vertical-align: top;\n",
       "    }\n",
       "\n",
       "    .dataframe thead th {\n",
       "        text-align: right;\n",
       "    }\n",
       "</style>\n",
       "<table border=\"1\" class=\"dataframe\">\n",
       "  <thead>\n",
       "    <tr style=\"text-align: right;\">\n",
       "      <th></th>\n",
       "      <th>qid</th>\n",
       "      <th>docno</th>\n",
       "      <th>rank</th>\n",
       "      <th>score</th>\n",
       "      <th>query</th>\n",
       "    </tr>\n",
       "  </thead>\n",
       "  <tbody>\n",
       "    <tr>\n",
       "      <th>1000</th>\n",
       "      <td>2</td>\n",
       "      <td>clueweb12-1209wb-27-04726</td>\n",
       "      <td>0</td>\n",
       "      <td>7.0</td>\n",
       "      <td>Which is better a laptop or a desktop</td>\n",
       "    </tr>\n",
       "    <tr>\n",
       "      <th>1001</th>\n",
       "      <td>2</td>\n",
       "      <td>clueweb12-0205wb-28-18613</td>\n",
       "      <td>1</td>\n",
       "      <td>6.0</td>\n",
       "      <td>Which is better a laptop or a desktop</td>\n",
       "    </tr>\n",
       "    <tr>\n",
       "      <th>1002</th>\n",
       "      <td>2</td>\n",
       "      <td>clueweb12-1810wb-68-27991</td>\n",
       "      <td>2</td>\n",
       "      <td>6.0</td>\n",
       "      <td>Which is better a laptop or a desktop</td>\n",
       "    </tr>\n",
       "    <tr>\n",
       "      <th>1003</th>\n",
       "      <td>2</td>\n",
       "      <td>clueweb12-0105wb-39-15048</td>\n",
       "      <td>3</td>\n",
       "      <td>5.0</td>\n",
       "      <td>Which is better a laptop or a desktop</td>\n",
       "    </tr>\n",
       "    <tr>\n",
       "      <th>1004</th>\n",
       "      <td>2</td>\n",
       "      <td>clueweb12-0818wb-27-26496</td>\n",
       "      <td>4</td>\n",
       "      <td>5.0</td>\n",
       "      <td>Which is better a laptop or a desktop</td>\n",
       "    </tr>\n",
       "    <tr>\n",
       "      <th>...</th>\n",
       "      <td>...</td>\n",
       "      <td>...</td>\n",
       "      <td>...</td>\n",
       "      <td>...</td>\n",
       "      <td>...</td>\n",
       "    </tr>\n",
       "    <tr>\n",
       "      <th>1195</th>\n",
       "      <td>2</td>\n",
       "      <td>clueweb12-1905wb-38-08668</td>\n",
       "      <td>195</td>\n",
       "      <td>2.0</td>\n",
       "      <td>Which is better a laptop or a desktop</td>\n",
       "    </tr>\n",
       "    <tr>\n",
       "      <th>1196</th>\n",
       "      <td>2</td>\n",
       "      <td>clueweb12-0402wb-78-13259</td>\n",
       "      <td>196</td>\n",
       "      <td>2.0</td>\n",
       "      <td>Which is better a laptop or a desktop</td>\n",
       "    </tr>\n",
       "    <tr>\n",
       "      <th>1197</th>\n",
       "      <td>2</td>\n",
       "      <td>clueweb12-0716wb-33-06015</td>\n",
       "      <td>197</td>\n",
       "      <td>2.0</td>\n",
       "      <td>Which is better a laptop or a desktop</td>\n",
       "    </tr>\n",
       "    <tr>\n",
       "      <th>1198</th>\n",
       "      <td>2</td>\n",
       "      <td>clueweb12-1009wb-60-23862</td>\n",
       "      <td>198</td>\n",
       "      <td>2.0</td>\n",
       "      <td>Which is better a laptop or a desktop</td>\n",
       "    </tr>\n",
       "    <tr>\n",
       "      <th>1199</th>\n",
       "      <td>2</td>\n",
       "      <td>clueweb12-0909wb-88-23344</td>\n",
       "      <td>199</td>\n",
       "      <td>2.0</td>\n",
       "      <td>Which is better a laptop or a desktop</td>\n",
       "    </tr>\n",
       "  </tbody>\n",
       "</table>\n",
       "<p>200 rows × 5 columns</p>\n",
       "</div>"
      ],
      "text/plain": [
       "     qid                      docno  rank  score  \\\n",
       "1000   2  clueweb12-1209wb-27-04726     0    7.0   \n",
       "1001   2  clueweb12-0205wb-28-18613     1    6.0   \n",
       "1002   2  clueweb12-1810wb-68-27991     2    6.0   \n",
       "1003   2  clueweb12-0105wb-39-15048     3    5.0   \n",
       "1004   2  clueweb12-0818wb-27-26496     4    5.0   \n",
       "...   ..                        ...   ...    ...   \n",
       "1195   2  clueweb12-1905wb-38-08668   195    2.0   \n",
       "1196   2  clueweb12-0402wb-78-13259   196    2.0   \n",
       "1197   2  clueweb12-0716wb-33-06015   197    2.0   \n",
       "1198   2  clueweb12-1009wb-60-23862   198    2.0   \n",
       "1199   2  clueweb12-0909wb-88-23344   199    2.0   \n",
       "\n",
       "                                      query  \n",
       "1000  Which is better a laptop or a desktop  \n",
       "1001  Which is better a laptop or a desktop  \n",
       "1002  Which is better a laptop or a desktop  \n",
       "1003  Which is better a laptop or a desktop  \n",
       "1004  Which is better a laptop or a desktop  \n",
       "...                                     ...  \n",
       "1195  Which is better a laptop or a desktop  \n",
       "1196  Which is better a laptop or a desktop  \n",
       "1197  Which is better a laptop or a desktop  \n",
       "1198  Which is better a laptop or a desktop  \n",
       "1199  Which is better a laptop or a desktop  \n",
       "\n",
       "[200 rows x 5 columns]"
      ]
     },
     "execution_count": 51,
     "metadata": {},
     "output_type": "execute_result"
    }
   ],
   "source": [
    "rtr[1000:1200]"
   ]
  },
  {
   "cell_type": "code",
   "execution_count": 87,
   "metadata": {},
   "outputs": [
    {
     "data": {
      "text/html": [
       "<div>\n",
       "<style scoped>\n",
       "    .dataframe tbody tr th:only-of-type {\n",
       "        vertical-align: middle;\n",
       "    }\n",
       "\n",
       "    .dataframe tbody tr th {\n",
       "        vertical-align: top;\n",
       "    }\n",
       "\n",
       "    .dataframe thead th {\n",
       "        text-align: right;\n",
       "    }\n",
       "</style>\n",
       "<table border=\"1\" class=\"dataframe\">\n",
       "  <thead>\n",
       "    <tr style=\"text-align: right;\">\n",
       "      <th></th>\n",
       "      <th>qid</th>\n",
       "      <th>query</th>\n",
       "      <th>docno</th>\n",
       "      <th>text</th>\n",
       "    </tr>\n",
       "  </thead>\n",
       "  <tbody>\n",
       "    <tr>\n",
       "      <th>0</th>\n",
       "      <td>1</td>\n",
       "      <td>What is the difference between sex and love</td>\n",
       "      <td>clueweb12-1214wb-88-29751</td>\n",
       "      <td>sex may or may not include penetration. differ...</td>\n",
       "    </tr>\n",
       "    <tr>\n",
       "      <th>1</th>\n",
       "      <td>1</td>\n",
       "      <td>What is the difference between sex and love</td>\n",
       "      <td>clueweb12-1811wb-62-08418</td>\n",
       "      <td>having ’sex’ and a ‘rape’ are two completely d...</td>\n",
       "    </tr>\n",
       "    <tr>\n",
       "      <th>2</th>\n",
       "      <td>1</td>\n",
       "      <td>What is the difference between sex and love</td>\n",
       "      <td>clueweb12-0200wb-79-18105</td>\n",
       "      <td>home &amp;gt; articles &amp;gt; sex, sexuality &amp;amp; p...</td>\n",
       "    </tr>\n",
       "    <tr>\n",
       "      <th>3</th>\n",
       "      <td>1</td>\n",
       "      <td>What is the difference between sex and love</td>\n",
       "      <td>clueweb12-1311wb-38-04762</td>\n",
       "      <td>home &amp;gt;&amp;gt;&amp;gt; sex education 2.0 &amp;gt;&amp;gt;&amp;g...</td>\n",
       "    </tr>\n",
       "    <tr>\n",
       "      <th>4</th>\n",
       "      <td>1</td>\n",
       "      <td>What is the difference between sex and love</td>\n",
       "      <td>clueweb12-0200tw-85-01106</td>\n",
       "      <td>things have changed so much and it has been ye...</td>\n",
       "    </tr>\n",
       "    <tr>\n",
       "      <th>...</th>\n",
       "      <td>...</td>\n",
       "      <td>...</td>\n",
       "      <td>...</td>\n",
       "      <td>...</td>\n",
       "    </tr>\n",
       "    <tr>\n",
       "      <th>45611</th>\n",
       "      <td>50</td>\n",
       "      <td>Whose salary is higher basketball or soccer pl...</td>\n",
       "      <td>clueweb12-0612wb-13-05613</td>\n",
       "      <td>bodewes responded that 20% of the units would ...</td>\n",
       "    </tr>\n",
       "    <tr>\n",
       "      <th>45612</th>\n",
       "      <td>50</td>\n",
       "      <td>Whose salary is higher basketball or soccer pl...</td>\n",
       "      <td>clueweb12-0611wb-91-06001</td>\n",
       "      <td>bodewes responded that 20% of the units would ...</td>\n",
       "    </tr>\n",
       "    <tr>\n",
       "      <th>45613</th>\n",
       "      <td>50</td>\n",
       "      <td>Whose salary is higher basketball or soccer pl...</td>\n",
       "      <td>clueweb12-0612wb-76-29530</td>\n",
       "      <td>bodewes responded that 20% of the units would ...</td>\n",
       "    </tr>\n",
       "    <tr>\n",
       "      <th>45614</th>\n",
       "      <td>50</td>\n",
       "      <td>Whose salary is higher basketball or soccer pl...</td>\n",
       "      <td>clueweb12-0612wb-76-29532</td>\n",
       "      <td>bodewes responded that 20% of the units would ...</td>\n",
       "    </tr>\n",
       "    <tr>\n",
       "      <th>45615</th>\n",
       "      <td>50</td>\n",
       "      <td>Whose salary is higher basketball or soccer pl...</td>\n",
       "      <td>clueweb12-0611wb-98-29357</td>\n",
       "      <td>bodewes responded that 20% of the units would ...</td>\n",
       "    </tr>\n",
       "  </tbody>\n",
       "</table>\n",
       "<p>45616 rows × 4 columns</p>\n",
       "</div>"
      ],
      "text/plain": [
       "      qid                                              query  \\\n",
       "0       1        What is the difference between sex and love   \n",
       "1       1        What is the difference between sex and love   \n",
       "2       1        What is the difference between sex and love   \n",
       "3       1        What is the difference between sex and love   \n",
       "4       1        What is the difference between sex and love   \n",
       "...    ..                                                ...   \n",
       "45611  50  Whose salary is higher basketball or soccer pl...   \n",
       "45612  50  Whose salary is higher basketball or soccer pl...   \n",
       "45613  50  Whose salary is higher basketball or soccer pl...   \n",
       "45614  50  Whose salary is higher basketball or soccer pl...   \n",
       "45615  50  Whose salary is higher basketball or soccer pl...   \n",
       "\n",
       "                           docno  \\\n",
       "0      clueweb12-1214wb-88-29751   \n",
       "1      clueweb12-1811wb-62-08418   \n",
       "2      clueweb12-0200wb-79-18105   \n",
       "3      clueweb12-1311wb-38-04762   \n",
       "4      clueweb12-0200tw-85-01106   \n",
       "...                          ...   \n",
       "45611  clueweb12-0612wb-13-05613   \n",
       "45612  clueweb12-0611wb-91-06001   \n",
       "45613  clueweb12-0612wb-76-29530   \n",
       "45614  clueweb12-0612wb-76-29532   \n",
       "45615  clueweb12-0611wb-98-29357   \n",
       "\n",
       "                                                    text  \n",
       "0      sex may or may not include penetration. differ...  \n",
       "1      having ’sex’ and a ‘rape’ are two completely d...  \n",
       "2      home &gt; articles &gt; sex, sexuality &amp; p...  \n",
       "3      home &gt;&gt;&gt; sex education 2.0 &gt;&gt;&g...  \n",
       "4      things have changed so much and it has been ye...  \n",
       "...                                                  ...  \n",
       "45611  bodewes responded that 20% of the units would ...  \n",
       "45612  bodewes responded that 20% of the units would ...  \n",
       "45613  bodewes responded that 20% of the units would ...  \n",
       "45614  bodewes responded that 20% of the units would ...  \n",
       "45615  bodewes responded that 20% of the units would ...  \n",
       "\n",
       "[45616 rows x 4 columns]"
      ]
     },
     "execution_count": 87,
     "metadata": {},
     "output_type": "execute_result"
    }
   ],
   "source": [
    "info_df"
   ]
  },
  {
   "cell_type": "code",
   "execution_count": 82,
   "metadata": {},
   "outputs": [],
   "source": [
    "method_names = [\"Tf\", \"Tf-idf\", \"BM25\", \"DPH\", \"BM25F\", \"PL2F\", \"DirichletLM\", \"DFIC\", \"Hiemstra_LM\"]\n",
    "                \n",
    "def count_ranking(method_name): \n",
    "    textscorerTf = text.scorer(body_attr=\"text\", wmodel=method_name)\n",
    "    try:\n",
    "        rtr = textscorerTf.transform(info_df)\n",
    "    except JavaException as ja:\n",
    "        print(ja.stacktrace)\n",
    "        return 0\n",
    "    qids = rtr['qid']\n",
    "    Q0s = [0 for elem in qids]\n",
    "    docs = rtr['docno']\n",
    "    scores = rtr['score']\n",
    "    ranks = rtr['rank'] + 1\n",
    "    tags = [method_name for elem in qids]\n",
    "    common_list = list(zip(qids, Q0s, docs, ranks, scores, tags))\n",
    "    with open(method_name +'.qrels', 'w') as fp:\n",
    "        fp.write('\\n'.join('%s %s %s %s %s %s' % x for x in common_list))\n",
    "    print (\"written \" + method_name +'.qrels')"
   ]
  },
  {
   "cell_type": "code",
   "execution_count": 94,
   "metadata": {},
   "outputs": [
    {
     "name": "stdout",
     "output_type": "stream",
     "text": [
      "16:52:15.347 [main] ERROR o.t.m.models.WeightingModelFactory - Problem with weighting model named: org.terrier.matching.models.TF\n",
      "java.lang.ClassNotFoundException: org.terrier.matching.models.TF\n",
      "\tat java.base/jdk.internal.loader.BuiltinClassLoader.loadClass(BuiltinClassLoader.java:581) ~[na:na]\n",
      "\tat java.base/jdk.internal.loader.ClassLoaders$AppClassLoader.loadClass(ClassLoaders.java:178) ~[na:na]\n",
      "\tat java.base/java.lang.ClassLoader.loadClass(ClassLoader.java:522) ~[na:na]\n",
      "\tat java.base/java.lang.Class.forName0(Native Method) ~[na:na]\n",
      "\tat java.base/java.lang.Class.forName(Class.java:398) ~[na:na]\n",
      "\tat org.terrier.utility.ApplicationSetup.getClass(ApplicationSetup.java:416) ~[terrier-assemblies-5.4-jar-with-dependencies.jar:na]\n",
      "\tat org.terrier.matching.models.WeightingModelFactory.newInstance(WeightingModelFactory.java:93) ~[terrier-assemblies-5.4-jar-with-dependencies.jar:na]\n",
      "\tat org.terrier.querying.LocalManager.getWeightingModel(LocalManager.java:950) ~[terrier-assemblies-5.4-jar-with-dependencies.jar:na]\n",
      "\tat org.terrier.querying.LocalManager$ApplyLocalMatching.process(LocalManager.java:488) ~[terrier-assemblies-5.4-jar-with-dependencies.jar:na]\n",
      "\tat org.terrier.querying.LocalManager.runSearchRequest(LocalManager.java:916) ~[terrier-assemblies-5.4-jar-with-dependencies.jar:na]\n",
      "['java.lang.NullPointerException', 'org.terrier.matching.MatchingQueryTerms.setDefaultTermWeightingModel(MatchingQueryTerms.java:713)', 'org.terrier.querying.LocalManager$ApplyLocalMatching.process(LocalManager.java:507)', 'org.terrier.querying.LocalManager.runSearchRequest(LocalManager.java:916)']\n"
     ]
    }
   ],
   "source": [
    "for method in [\"TF\"]:\n",
    "    count_ranking(method)"
   ]
  },
  {
   "cell_type": "code",
   "execution_count": 38,
   "metadata": {},
   "outputs": [
    {
     "data": {
      "text/html": [
       "<div>\n",
       "<style scoped>\n",
       "    .dataframe tbody tr th:only-of-type {\n",
       "        vertical-align: middle;\n",
       "    }\n",
       "\n",
       "    .dataframe tbody tr th {\n",
       "        vertical-align: top;\n",
       "    }\n",
       "\n",
       "    .dataframe thead th {\n",
       "        text-align: right;\n",
       "    }\n",
       "</style>\n",
       "<table border=\"1\" class=\"dataframe\">\n",
       "  <thead>\n",
       "    <tr style=\"text-align: right;\">\n",
       "      <th></th>\n",
       "      <th>qid</th>\n",
       "      <th>docno</th>\n",
       "      <th>rank</th>\n",
       "      <th>score</th>\n",
       "      <th>query</th>\n",
       "    </tr>\n",
       "  </thead>\n",
       "  <tbody>\n",
       "    <tr>\n",
       "      <th>0</th>\n",
       "      <td>q1</td>\n",
       "      <td>d1</td>\n",
       "      <td>0</td>\n",
       "      <td>1.0</td>\n",
       "      <td>What is the difference between sex and love</td>\n",
       "    </tr>\n",
       "    <tr>\n",
       "      <th>1</th>\n",
       "      <td>q1</td>\n",
       "      <td>d1</td>\n",
       "      <td>0</td>\n",
       "      <td>1.0</td>\n",
       "      <td>chemical reactions</td>\n",
       "    </tr>\n",
       "    <tr>\n",
       "      <th>2</th>\n",
       "      <td>q1</td>\n",
       "      <td>d2</td>\n",
       "      <td>1</td>\n",
       "      <td>1.0</td>\n",
       "      <td>What is the difference between sex and love</td>\n",
       "    </tr>\n",
       "    <tr>\n",
       "      <th>3</th>\n",
       "      <td>q1</td>\n",
       "      <td>d2</td>\n",
       "      <td>1</td>\n",
       "      <td>1.0</td>\n",
       "      <td>chemical reactions</td>\n",
       "    </tr>\n",
       "  </tbody>\n",
       "</table>\n",
       "</div>"
      ],
      "text/plain": [
       "  qid docno  rank  score                                        query\n",
       "0  q1    d1     0    1.0  What is the difference between sex and love\n",
       "1  q1    d1     0    1.0                           chemical reactions\n",
       "2  q1    d2     1    1.0  What is the difference between sex and love\n",
       "3  q1    d2     1    1.0                           chemical reactions"
      ]
     },
     "execution_count": 38,
     "metadata": {},
     "output_type": "execute_result"
    }
   ],
   "source": [
    "rtr"
   ]
  },
  {
   "cell_type": "code",
   "execution_count": null,
   "metadata": {},
   "outputs": [],
   "source": []
  }
 ],
 "metadata": {
  "kernelspec": {
   "display_name": "Python 3",
   "language": "python",
   "name": "python3"
  },
  "language_info": {
   "codemirror_mode": {
    "name": "ipython",
    "version": 3
   },
   "file_extension": ".py",
   "mimetype": "text/x-python",
   "name": "python",
   "nbconvert_exporter": "python",
   "pygments_lexer": "ipython3",
   "version": "3.7.4"
  }
 },
 "nbformat": 4,
 "nbformat_minor": 4
}
