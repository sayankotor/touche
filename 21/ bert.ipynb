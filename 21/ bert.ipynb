{
 "cells": [
  {
   "cell_type": "code",
   "execution_count": 2,
   "metadata": {},
   "outputs": [],
   "source": [
    "from allennlp.data.token_indexers import PretrainedTransformerMismatchedIndexer\n",
    "from allennlp.data.tokenizers import PretrainedTransformerTokenizer"
   ]
  },
  {
   "cell_type": "code",
   "execution_count": 3,
   "metadata": {},
   "outputs": [],
   "source": [
    "from allennlp.data.token_indexers import PretrainedTransformerMismatchedIndexer\n",
    "inxr = PretrainedTransformerMismatchedIndexer(model_name='google/electra-base-discriminator')"
   ]
  },
  {
   "cell_type": "code",
   "execution_count": 4,
   "metadata": {},
   "outputs": [
    {
     "data": {
      "text/plain": [
       "PreTrainedTokenizerFast(name_or_path='google/electra-base-discriminator', vocab_size=30522, model_max_len=512, is_fast=True, padding_side='right', special_tokens={'unk_token': '[UNK]', 'sep_token': '[SEP]', 'pad_token': '[PAD]', 'cls_token': '[CLS]', 'mask_token': '[MASK]'})"
      ]
     },
     "execution_count": 4,
     "metadata": {},
     "output_type": "execute_result"
    }
   ],
   "source": [
    "inxr._allennlp_tokenizer.tokenizer"
   ]
  },
  {
   "cell_type": "code",
   "execution_count": 5,
   "metadata": {},
   "outputs": [],
   "source": [
    "my_tokinizer = PretrainedTransformerTokenizer('google/electra-base-discriminator')"
   ]
  },
  {
   "cell_type": "code",
   "execution_count": 6,
   "metadata": {},
   "outputs": [
    {
     "data": {
      "text/plain": [
       "('electra_tokenizer/tokenizer_config.json',\n",
       " 'electra_tokenizer/special_tokens_map.json',\n",
       " 'electra_tokenizer/vocab.txt',\n",
       " 'electra_tokenizer/added_tokens.json')"
      ]
     },
     "execution_count": 6,
     "metadata": {},
     "output_type": "execute_result"
    }
   ],
   "source": [
    "my_tokinizer.tokenizer.save_pretrained(\"electra_tokenizer\")"
   ]
  },
  {
   "cell_type": "code",
   "execution_count": 7,
   "metadata": {},
   "outputs": [],
   "source": [
    "with open('/notebook/touche2021/output/run_xgboost.qrels', 'r') as f:\n",
    "    lines = f.readlines()"
   ]
  },
  {
   "cell_type": "code",
   "execution_count": 8,
   "metadata": {},
   "outputs": [],
   "source": [
    "with open('/notebook/touche2021/output/run_xgboost.qrels', 'r') as f:\n",
    "    lines = f.readlines()"
   ]
  },
  {
   "cell_type": "code",
   "execution_count": 9,
   "metadata": {},
   "outputs": [],
   "source": [
    "with open('/notebook/touche2021/output/run_xgboost_rw.qrels', 'w') as fp:\n",
    "    for elem in lines:\n",
    "        fp.write(elem)"
   ]
  },
  {
   "cell_type": "code",
   "execution_count": 10,
   "metadata": {},
   "outputs": [
    {
     "data": {
      "text/plain": [
       "['51 0 clueweb12-0001wb-15-05765 1 2.4871463775634766 xgboost\\n',\n",
       " '51 0 clueweb12-0904wb-53-21907 2 1.55696702003479 xgboost\\n',\n",
       " '51 0 clueweb12-1807wb-60-03455 3 1.0395197868347168 xgboost\\n',\n",
       " '51 0 clueweb12-1314wb-72-19073 4 0.6947941184043884 xgboost\\n']"
      ]
     },
     "execution_count": 10,
     "metadata": {},
     "output_type": "execute_result"
    }
   ],
   "source": [
    "lines[:4]"
   ]
  },
  {
   "cell_type": "code",
   "execution_count": 11,
   "metadata": {},
   "outputs": [
    {
     "data": {
      "text/plain": [
       "PreTrainedTokenizerFast(name_or_path='electra_tokenizer', vocab_size=30522, model_max_len=512, is_fast=True, padding_side='right', special_tokens={'unk_token': '[UNK]', 'sep_token': '[SEP]', 'pad_token': '[PAD]', 'cls_token': '[CLS]', 'mask_token': '[MASK]'})"
      ]
     },
     "execution_count": 11,
     "metadata": {},
     "output_type": "execute_result"
    }
   ],
   "source": [
    "my_tokinizer.tokenizer.from_pretrained(\"electra_tokenizer\")"
   ]
  },
  {
   "cell_type": "code",
   "execution_count": 12,
   "metadata": {},
   "outputs": [],
   "source": [
    "from my_functions import extractorRoberta"
   ]
  },
  {
   "cell_type": "code",
   "execution_count": 13,
   "metadata": {},
   "outputs": [
    {
     "name": "stdout",
     "output_type": "stream",
     "text": [
      "/notebook/cqas/external_pretrained_models/roberta.hdf5\n",
      "/notebook/cqas/external_pretrained_models/vocab_dir\n",
      "encoder loaded\n",
      "indexer loaded\n",
      "model path  /notebook/cqas/external_pretrained_models/roberta.hdf5\n",
      "model loaded\n",
      "reader loaded\n"
     ]
    },
    {
     "data": {
      "text/plain": [
       "<my_functions.extractorRoberta at 0x7fa121eb6990>"
      ]
     },
     "execution_count": 13,
     "metadata": {},
     "output_type": "execute_result"
    }
   ],
   "source": [
    "extractorRoberta(model_path = \"/notebook/cqas/external_pretrained_models/\")"
   ]
  },
  {
   "cell_type": "code",
   "execution_count": 14,
   "metadata": {},
   "outputs": [
    {
     "ename": "NameError",
     "evalue": "name 'PretrainedTransformerEmbedder' is not defined",
     "output_type": "error",
     "traceback": [
      "\u001b[0;31m\u001b[0m",
      "\u001b[0;31mNameError\u001b[0mTraceback (most recent call last)",
      "\u001b[0;32m<ipython-input-14-1f1618288ff0>\u001b[0m in \u001b[0;36m<module>\u001b[0;34m\u001b[0m\n\u001b[0;32m----> 1\u001b[0;31m \u001b[0membedder\u001b[0m \u001b[0;34m=\u001b[0m \u001b[0mPretrainedTransformerEmbedder\u001b[0m\u001b[0;34m(\u001b[0m\u001b[0mmodel_name\u001b[0m\u001b[0;34m=\u001b[0m\u001b[0;34m'google/electra-base-discriminator'\u001b[0m\u001b[0;34m)\u001b[0m\u001b[0;34m\u001b[0m\u001b[0;34m\u001b[0m\u001b[0m\n\u001b[0m\u001b[1;32m      2\u001b[0m \u001b[0mtorch\u001b[0m\u001b[0;34m.\u001b[0m\u001b[0msave\u001b[0m\u001b[0;34m(\u001b[0m\u001b[0membedder\u001b[0m\u001b[0;34m.\u001b[0m\u001b[0mtransformer_model\u001b[0m\u001b[0;34m.\u001b[0m\u001b[0mstate_dict\u001b[0m\u001b[0;34m(\u001b[0m\u001b[0;34m)\u001b[0m\u001b[0;34m,\u001b[0m \u001b[0;34m'embedder.ph'\u001b[0m\u001b[0;34m)\u001b[0m\u001b[0;34m\u001b[0m\u001b[0;34m\u001b[0m\u001b[0m\n\u001b[1;32m      3\u001b[0m \u001b[0membedder\u001b[0m \u001b[0;34m=\u001b[0m \u001b[0mPretrainedTransformerEmbedder\u001b[0m\u001b[0;34m(\u001b[0m\u001b[0mmodel_name\u001b[0m\u001b[0;34m=\u001b[0m\u001b[0;34m'google/electra-base-discriminator'\u001b[0m\u001b[0;34m,\u001b[0m \u001b[0moverride_weights_file\u001b[0m \u001b[0;34m=\u001b[0m \u001b[0;34m'embedder.ph'\u001b[0m\u001b[0;34m)\u001b[0m\u001b[0;34m\u001b[0m\u001b[0;34m\u001b[0m\u001b[0m\n",
      "\u001b[0;31mNameError\u001b[0m: name 'PretrainedTransformerEmbedder' is not defined"
     ]
    }
   ],
   "source": [
    "embedder = PretrainedTransformerEmbedder(model_name='google/electra-base-discriminator')\n",
    "torch.save(embedder.transformer_model.state_dict(), 'embedder.ph')\n",
    "embedder = PretrainedTransformerEmbedder(model_name='google/electra-base-discriminator', override_weights_file = 'embedder.ph')"
   ]
  },
  {
   "cell_type": "code",
   "execution_count": null,
   "metadata": {},
   "outputs": [],
   "source": [
    "new_embedder = PretrainedTransformerMismatchedEmbedder()"
   ]
  },
  {
   "cell_type": "code",
   "execution_count": null,
   "metadata": {},
   "outputs": [],
   "source": [
    "!pwd\n"
   ]
  },
  {
   "cell_type": "code",
   "execution_count": 4,
   "metadata": {},
   "outputs": [
    {
     "name": "stdout",
     "output_type": "stream",
     "text": [
      "PyTerrier 0.5.0 has loaded Terrier 5.5 (built by craigmacdonald on 2021-05-20 13:12)\n",
      "Better speed can be achieved with apex installed from https://www.github.com/nvidia/apex.\n"
     ]
    },
    {
     "name": "stderr",
     "output_type": "stream",
     "text": [
      "/opt/.pyenv/versions/3.7.4/lib/python3.7/site-packages/statsmodels/tools/_testing.py:19: FutureWarning: pandas.util.testing is deprecated. Use the functions in the public API at pandas.testing instead.\n",
      "  import pandas.util.testing as tm\n"
     ]
    }
   ],
   "source": [
    "import pyterrier as pt\n",
    "if not pt.started():\n",
    "    pt.init()\n",
    "import onir_pt"
   ]
  },
  {
   "cell_type": "code",
   "execution_count": null,
   "metadata": {},
   "outputs": [],
   "source": []
  },
  {
   "cell_type": "markdown",
   "metadata": {},
   "source": [
    "### Data preprocessing\n",
    "\n"
   ]
  },
  {
   "cell_type": "code",
   "execution_count": 5,
   "metadata": {},
   "outputs": [],
   "source": [
    "def read_xml(filename):\n",
    "    # convert file filename to list of tuples (number_of_topic, title_of_topic) \n",
    "    # input: filename string\n",
    "    # output: list of corresponding tuples\n",
    "    answer_list = []\n",
    "    xmldoc = minidom.parse(filename)\n",
    "    itemlist = xmldoc.getElementsByTagName('topics')\n",
    "    print(len(itemlist))\n",
    "    print(itemlist)\n",
    "    topic_list = itemlist[0].getElementsByTagName('topic')\n",
    "    print (len(topic_list))\n",
    "    for topic in topic_list:\n",
    "        tuple_for_add = tuple((topic.getElementsByTagName('number')[0].firstChild.nodeValue, topic.getElementsByTagName('title')[0].firstChild.nodeValue))\n",
    "        answer_list.append(tuple_for_add)\n",
    "    return answer_list"
   ]
  },
  {
   "cell_type": "code",
   "execution_count": 6,
   "metadata": {},
   "outputs": [],
   "source": [
    "from timeit import default_timer as timer"
   ]
  },
  {
   "cell_type": "code",
   "execution_count": 7,
   "metadata": {},
   "outputs": [
    {
     "name": "stdout",
     "output_type": "stream",
     "text": [
      "1\n",
      "[<DOM Element: topics at 0x7f56e1ebd7d0>]\n",
      "50\n",
      "1\n",
      "[<DOM Element: topics at 0x7f56dda3e190>]\n",
      "50\n",
      "0\n"
     ]
    }
   ],
   "source": [
    "# read file\n",
    "from xml.dom import minidom\n",
    "import re\n",
    "import pickle\n",
    "\n",
    "topics_2020 = read_xml('topics-task-2.xml')\n",
    "        \n",
    "topics_2021 = read_xml('topics-task-2-only-titles-2021.xml')\n",
    "        \n",
    "with open('list_of_un_answ.pcl', 'rb') as f:\n",
    "    answers_2020 = pickle.load(f)\n",
    "            \n",
    "with open('list_of_un_answ_2021.pcl', 'rb') as f:\n",
    "    answers_2021 = pickle.load(f)\n",
    "    \n",
    "with open('touche2020-task2-relevance-withbaseline.qrels', 'r') as f:\n",
    "    qrels_lines = f.readlines()\n",
    "    # you may also want to remove whitespace characters like `\\n` at the end of each line\n",
    "qrels = [x.strip().split() for x in qrels_lines] \n",
    "\n",
    "qrels_dict = {}\n",
    "for elem in qrels:\n",
    "    query, noninf, docno, rank = elem\n",
    "    if (query in qrels_dict.keys()):\n",
    "        qrels_dict[query].append((docno, rank))\n",
    "    else:\n",
    "        qrels_dict[query] = []\n",
    "        qrels_dict[query].append((docno, rank))\n",
    "\n",
    "import pandas as pd\n",
    "import re\n",
    "info_df = pd.DataFrame(columns=[\"qid\", \"query\", \"docno\", \"text\"],dtype=object)\n",
    "info_df_test = pd.DataFrame(columns=[\"qid\", \"query\", \"docno\", \"text\"], dtype=object)\n",
    "qrels_df = pd.DataFrame(columns=[\"qid\", \"docno\", \"label\"],dtype=object)\n",
    "qrels_df_test = pd.DataFrame(columns=[\"qid\", \"docno\", \"label\"],dtype=object)\n",
    "\n",
    "print (0)\n",
    "\n",
    "for elem in topics_2020:\n",
    "    qid, query = elem[0], elem[1].strip('\\n')\n",
    "    query = re.sub(r'[^\\w\\s]','',query)\n",
    "    for answer in answers_2020[qid]:\n",
    "        docno = answer[1]\n",
    "        score = answer[0]\n",
    "        text = answer[3]\n",
    "        df_row = {\"qid\":qid, \"query\":query, \"docno\":docno, \"text\":text}\n",
    "        if (int(qid) < 40):\n",
    "            info_df = info_df.append(df_row, ignore_index= True)\n",
    "        else:\n",
    "            info_df_test = info_df_test.append(df_row, ignore_index= True)\n",
    "            \n",
    "    for qrel in qrels_dict[qid]:\n",
    "        docno, label = qrel\n",
    "        df_row = {\"qid\":qid, \"docno\":docno, \"label\":label}\n",
    "        if (int(qid) < 40):\n",
    "            qrels_df = qrels_df.append(df_row, ignore_index= True)\n",
    "        else:\n",
    "            qrels_df_test = qrels_df_test.append(df_row, ignore_index= True)\n",
    "\n",
    "            \n"
   ]
  },
  {
   "cell_type": "code",
   "execution_count": 8,
   "metadata": {},
   "outputs": [
    {
     "data": {
      "text/html": [
       "<div>\n",
       "<style scoped>\n",
       "    .dataframe tbody tr th:only-of-type {\n",
       "        vertical-align: middle;\n",
       "    }\n",
       "\n",
       "    .dataframe tbody tr th {\n",
       "        vertical-align: top;\n",
       "    }\n",
       "\n",
       "    .dataframe thead th {\n",
       "        text-align: right;\n",
       "    }\n",
       "</style>\n",
       "<table border=\"1\" class=\"dataframe\">\n",
       "  <thead>\n",
       "    <tr style=\"text-align: right;\">\n",
       "      <th></th>\n",
       "      <th>qid</th>\n",
       "      <th>query</th>\n",
       "      <th>docno</th>\n",
       "      <th>text</th>\n",
       "    </tr>\n",
       "  </thead>\n",
       "  <tbody>\n",
       "    <tr>\n",
       "      <th>0</th>\n",
       "      <td>1</td>\n",
       "      <td>What is the difference between sex and love</td>\n",
       "      <td>clueweb12-1214wb-88-29751</td>\n",
       "      <td>sex may or may not include penetration. differ...</td>\n",
       "    </tr>\n",
       "    <tr>\n",
       "      <th>1</th>\n",
       "      <td>1</td>\n",
       "      <td>What is the difference between sex and love</td>\n",
       "      <td>clueweb12-1811wb-62-08418</td>\n",
       "      <td>having ’sex’ and a ‘rape’ are two completely d...</td>\n",
       "    </tr>\n",
       "    <tr>\n",
       "      <th>2</th>\n",
       "      <td>1</td>\n",
       "      <td>What is the difference between sex and love</td>\n",
       "      <td>clueweb12-0200wb-79-18105</td>\n",
       "      <td>home &amp;gt; articles &amp;gt; sex, sexuality &amp;amp; p...</td>\n",
       "    </tr>\n",
       "    <tr>\n",
       "      <th>3</th>\n",
       "      <td>1</td>\n",
       "      <td>What is the difference between sex and love</td>\n",
       "      <td>clueweb12-1311wb-38-04762</td>\n",
       "      <td>home &amp;gt;&amp;gt;&amp;gt; sex education 2.0 &amp;gt;&amp;gt;&amp;g...</td>\n",
       "    </tr>\n",
       "    <tr>\n",
       "      <th>4</th>\n",
       "      <td>1</td>\n",
       "      <td>What is the difference between sex and love</td>\n",
       "      <td>clueweb12-0200tw-85-01106</td>\n",
       "      <td>things have changed so much and it has been ye...</td>\n",
       "    </tr>\n",
       "  </tbody>\n",
       "</table>\n",
       "</div>"
      ],
      "text/plain": [
       "  qid                                        query                      docno  \\\n",
       "0   1  What is the difference between sex and love  clueweb12-1214wb-88-29751   \n",
       "1   1  What is the difference between sex and love  clueweb12-1811wb-62-08418   \n",
       "2   1  What is the difference between sex and love  clueweb12-0200wb-79-18105   \n",
       "3   1  What is the difference between sex and love  clueweb12-1311wb-38-04762   \n",
       "4   1  What is the difference between sex and love  clueweb12-0200tw-85-01106   \n",
       "\n",
       "                                                text  \n",
       "0  sex may or may not include penetration. differ...  \n",
       "1  having ’sex’ and a ‘rape’ are two completely d...  \n",
       "2  home &gt; articles &gt; sex, sexuality &amp; p...  \n",
       "3  home &gt;&gt;&gt; sex education 2.0 &gt;&gt;&g...  \n",
       "4  things have changed so much and it has been ye...  "
      ]
     },
     "execution_count": 8,
     "metadata": {},
     "output_type": "execute_result"
    }
   ],
   "source": [
    "info_df.head()"
   ]
  },
  {
   "cell_type": "code",
   "execution_count": 9,
   "metadata": {},
   "outputs": [],
   "source": [
    "lens = [len(elem) for elem in info_df['text']]"
   ]
  },
  {
   "cell_type": "code",
   "execution_count": 10,
   "metadata": {},
   "outputs": [
    {
     "name": "stdout",
     "output_type": "stream",
     "text": [
      "Populating the interactive namespace from numpy and matplotlib\n"
     ]
    },
    {
     "name": "stderr",
     "output_type": "stream",
     "text": [
      "/opt/.pyenv/versions/3.7.4/lib/python3.7/site-packages/IPython/core/magics/pylab.py:160: UserWarning: pylab import has clobbered these variables: ['f', 'text']\n",
      "`%matplotlib` prevents importing * from pylab and numpy\n",
      "  \"\\n`%matplotlib` prevents importing * from pylab and numpy\"\n"
     ]
    },
    {
     "data": {
      "text/plain": [
       "(array([  33.,   71.,  152.,  292.,  455.,  639.,  973., 1103.,  101.,\n",
       "           3.]),\n",
       " array([  7. ,  44.9,  82.8, 120.7, 158.6, 196.5, 234.4, 272.3, 310.2,\n",
       "        348.1, 386. ]),\n",
       " <a list of 10 Patch objects>)"
      ]
     },
     "execution_count": 10,
     "metadata": {},
     "output_type": "execute_result"
    },
    {
     "data": {
      "image/png": "[encoded data removed]",
      "text/plain": [
       "<Figure size 432x288 with 1 Axes>"
      ]
     },
     "metadata": {
      "needs_background": "light"
     },
     "output_type": "display_data"
    }
   ],
   "source": [
    "%pylab inline\n",
    "import matplotlib.pyplot as plt \n",
    "plt.hist(lens)\n"
   ]
  },
  {
   "cell_type": "markdown",
   "metadata": {},
   "source": [
    "# Bert"
   ]
  },
  {
   "cell_type": "code",
   "execution_count": 11,
   "metadata": {},
   "outputs": [
    {
     "name": "stdout",
     "output_type": "stream",
     "text": [
      "config file not found: config\n"
     ]
    }
   ],
   "source": [
    "vbert = onir_pt.reranker('vanilla_transformer', 'bert', text_field='text', vocab_config={'train': True})"
   ]
  },
  {
   "cell_type": "code",
   "execution_count": null,
   "metadata": {},
   "outputs": [],
   "source": []
  },
  {
   "cell_type": "markdown",
   "metadata": {},
   "source": [
    "## Pre-train on antique"
   ]
  },
  {
   "cell_type": "code",
   "execution_count": 6,
   "metadata": {},
   "outputs": [
    {
     "data": {
      "text/plain": [
       "{'batch_size': 4,\n",
       " 'gpu': True,\n",
       " 'gpu_determ': True,\n",
       " 'random_seed': 42,\n",
       " 'pre_validate': True,\n",
       " 'max_train_it': 500,\n",
       " 'patience': 20,\n",
       " 'va_metrics': ['map', 'ndcg', 'P_10'],\n",
       " 'train_count': 1024,\n",
       " 'learning_rate': 0.001,\n",
       " 'train_pos_source': 'intersect',\n",
       " 'train_neg_source': 'run',\n",
       " 'train_sampling': 'query',\n",
       " 'train_pos_minrel': 1,\n",
       " 'train_unjudged_rel': 0}"
      ]
     },
     "execution_count": 6,
     "metadata": {},
     "output_type": "execute_result"
    }
   ],
   "source": [
    "vbert.config"
   ]
  },
  {
   "cell_type": "code",
   "execution_count": 7,
   "metadata": {},
   "outputs": [],
   "source": [
    "vbert.config['max_train_it'] = 10\n",
    "vbert.config['train_count'] = 100\n",
    "vbert.config['learning_rate'] = 0.0005"
   ]
  },
  {
   "cell_type": "code",
   "execution_count": 8,
   "metadata": {},
   "outputs": [],
   "source": [
    "qrels_df['label']  = [int(elem) for elem in qrels_df['label']]"
   ]
  },
  {
   "cell_type": "code",
   "execution_count": 9,
   "metadata": {},
   "outputs": [],
   "source": [
    "qrels_df_test['label'] = [int(elem) for elem in qrels_df_test['label']]"
   ]
  },
  {
   "cell_type": "code",
   "execution_count": 10,
   "metadata": {},
   "outputs": [
    {
     "data": {
      "text/html": [
       "<div>\n",
       "<style scoped>\n",
       "    .dataframe tbody tr th:only-of-type {\n",
       "        vertical-align: middle;\n",
       "    }\n",
       "\n",
       "    .dataframe tbody tr th {\n",
       "        vertical-align: top;\n",
       "    }\n",
       "\n",
       "    .dataframe thead th {\n",
       "        text-align: right;\n",
       "    }\n",
       "</style>\n",
       "<table border=\"1\" class=\"dataframe\">\n",
       "  <thead>\n",
       "    <tr style=\"text-align: right;\">\n",
       "      <th></th>\n",
       "      <th>qid</th>\n",
       "      <th>query</th>\n",
       "      <th>docno</th>\n",
       "      <th>text</th>\n",
       "    </tr>\n",
       "  </thead>\n",
       "  <tbody>\n",
       "    <tr>\n",
       "      <th>0</th>\n",
       "      <td>1</td>\n",
       "      <td>What is the difference between sex and love</td>\n",
       "      <td>clueweb12-1214wb-88-29751</td>\n",
       "      <td>sex may or may not include penetration. differ...</td>\n",
       "    </tr>\n",
       "    <tr>\n",
       "      <th>1</th>\n",
       "      <td>1</td>\n",
       "      <td>What is the difference between sex and love</td>\n",
       "      <td>clueweb12-1811wb-62-08418</td>\n",
       "      <td>having ’sex’ and a ‘rape’ are two completely d...</td>\n",
       "    </tr>\n",
       "    <tr>\n",
       "      <th>2</th>\n",
       "      <td>1</td>\n",
       "      <td>What is the difference between sex and love</td>\n",
       "      <td>clueweb12-0200wb-79-18105</td>\n",
       "      <td>home &amp;gt; articles &amp;gt; sex, sexuality &amp;amp; p...</td>\n",
       "    </tr>\n",
       "    <tr>\n",
       "      <th>3</th>\n",
       "      <td>1</td>\n",
       "      <td>What is the difference between sex and love</td>\n",
       "      <td>clueweb12-1311wb-38-04762</td>\n",
       "      <td>home &amp;gt;&amp;gt;&amp;gt; sex education 2.0 &amp;gt;&amp;gt;&amp;g...</td>\n",
       "    </tr>\n",
       "    <tr>\n",
       "      <th>4</th>\n",
       "      <td>1</td>\n",
       "      <td>What is the difference between sex and love</td>\n",
       "      <td>clueweb12-0200tw-85-01106</td>\n",
       "      <td>things have changed so much and it has been ye...</td>\n",
       "    </tr>\n",
       "  </tbody>\n",
       "</table>\n",
       "</div>"
      ],
      "text/plain": [
       "  qid                                        query                      docno  \\\n",
       "0   1  What is the difference between sex and love  clueweb12-1214wb-88-29751   \n",
       "1   1  What is the difference between sex and love  clueweb12-1811wb-62-08418   \n",
       "2   1  What is the difference between sex and love  clueweb12-0200wb-79-18105   \n",
       "3   1  What is the difference between sex and love  clueweb12-1311wb-38-04762   \n",
       "4   1  What is the difference between sex and love  clueweb12-0200tw-85-01106   \n",
       "\n",
       "                                                text  \n",
       "0  sex may or may not include penetration. differ...  \n",
       "1  having ’sex’ and a ‘rape’ are two completely d...  \n",
       "2  home &gt; articles &gt; sex, sexuality &amp; p...  \n",
       "3  home &gt;&gt;&gt; sex education 2.0 &gt;&gt;&g...  \n",
       "4  things have changed so much and it has been ye...  "
      ]
     },
     "execution_count": 10,
     "metadata": {},
     "output_type": "execute_result"
    }
   ],
   "source": [
    "info_df.head()"
   ]
  },
  {
   "cell_type": "code",
   "execution_count": 11,
   "metadata": {},
   "outputs": [
    {
     "data": {
      "text/html": [
       "<div>\n",
       "<style scoped>\n",
       "    .dataframe tbody tr th:only-of-type {\n",
       "        vertical-align: middle;\n",
       "    }\n",
       "\n",
       "    .dataframe tbody tr th {\n",
       "        vertical-align: top;\n",
       "    }\n",
       "\n",
       "    .dataframe thead th {\n",
       "        text-align: right;\n",
       "    }\n",
       "</style>\n",
       "<table border=\"1\" class=\"dataframe\">\n",
       "  <thead>\n",
       "    <tr style=\"text-align: right;\">\n",
       "      <th></th>\n",
       "      <th>qid</th>\n",
       "      <th>query</th>\n",
       "      <th>docno</th>\n",
       "      <th>text</th>\n",
       "    </tr>\n",
       "  </thead>\n",
       "  <tbody>\n",
       "    <tr>\n",
       "      <th>0</th>\n",
       "      <td>40</td>\n",
       "      <td>Which operating system has better performance ...</td>\n",
       "      <td>clueweb12-0716wb-20-08246</td>\n",
       "      <td>a week after releasing the windows 8 consumer ...</td>\n",
       "    </tr>\n",
       "    <tr>\n",
       "      <th>1</th>\n",
       "      <td>40</td>\n",
       "      <td>Which operating system has better performance ...</td>\n",
       "      <td>clueweb12-0717wb-48-13632</td>\n",
       "      <td>windows 8 represents the biggest redesign of t...</td>\n",
       "    </tr>\n",
       "    <tr>\n",
       "      <th>2</th>\n",
       "      <td>40</td>\n",
       "      <td>Which operating system has better performance ...</td>\n",
       "      <td>clueweb12-0801wb-99-15301</td>\n",
       "      <td>users will need a windows 7 sp 1 system with a...</td>\n",
       "    </tr>\n",
       "    <tr>\n",
       "      <th>3</th>\n",
       "      <td>40</td>\n",
       "      <td>Which operating system has better performance ...</td>\n",
       "      <td>clueweb12-0500tw-35-13168</td>\n",
       "      <td>the company has published a blog that spells o...</td>\n",
       "    </tr>\n",
       "    <tr>\n",
       "      <th>4</th>\n",
       "      <td>40</td>\n",
       "      <td>Which operating system has better performance ...</td>\n",
       "      <td>clueweb12-1700tw-30-03487</td>\n",
       "      <td>windows 7 professional and ultimate users will...</td>\n",
       "    </tr>\n",
       "  </tbody>\n",
       "</table>\n",
       "</div>"
      ],
      "text/plain": [
       "  qid                                              query  \\\n",
       "0  40  Which operating system has better performance ...   \n",
       "1  40  Which operating system has better performance ...   \n",
       "2  40  Which operating system has better performance ...   \n",
       "3  40  Which operating system has better performance ...   \n",
       "4  40  Which operating system has better performance ...   \n",
       "\n",
       "                       docno  \\\n",
       "0  clueweb12-0716wb-20-08246   \n",
       "1  clueweb12-0717wb-48-13632   \n",
       "2  clueweb12-0801wb-99-15301   \n",
       "3  clueweb12-0500tw-35-13168   \n",
       "4  clueweb12-1700tw-30-03487   \n",
       "\n",
       "                                                text  \n",
       "0  a week after releasing the windows 8 consumer ...  \n",
       "1  windows 8 represents the biggest redesign of t...  \n",
       "2  users will need a windows 7 sp 1 system with a...  \n",
       "3  the company has published a blog that spells o...  \n",
       "4  windows 7 professional and ultimate users will...  "
      ]
     },
     "execution_count": 11,
     "metadata": {},
     "output_type": "execute_result"
    }
   ],
   "source": [
    "info_df_test.head()"
   ]
  },
  {
   "cell_type": "code",
   "execution_count": 12,
   "metadata": {},
   "outputs": [
    {
     "ename": "NameError",
     "evalue": "name 'vbert_antique' is not defined",
     "output_type": "error",
     "traceback": [
      "\u001b[0;31m\u001b[0m",
      "\u001b[0;31mNameError\u001b[0mTraceback (most recent call last)",
      "\u001b[0;32m<ipython-input-12-e2d6d8b3a9e9>\u001b[0m in \u001b[0;36m<module>\u001b[0;34m\u001b[0m\n\u001b[0;32m----> 1\u001b[0;31m \u001b[0mvbert_antique\u001b[0m\u001b[0;34m.\u001b[0m\u001b[0mconfig\u001b[0m\u001b[0;34m[\u001b[0m\u001b[0;34m'max_train_it'\u001b[0m\u001b[0;34m]\u001b[0m \u001b[0;34m=\u001b[0m \u001b[0;36m30\u001b[0m\u001b[0;34m\u001b[0m\u001b[0;34m\u001b[0m\u001b[0m\n\u001b[0m\u001b[1;32m      2\u001b[0m \u001b[0mvbert_antique\u001b[0m\u001b[0;34m.\u001b[0m\u001b[0mconfig\u001b[0m\u001b[0;34m[\u001b[0m\u001b[0;34m'learning_rate'\u001b[0m\u001b[0;34m]\u001b[0m \u001b[0;34m=\u001b[0m \u001b[0;36m0.00005\u001b[0m\u001b[0;34m\u001b[0m\u001b[0;34m\u001b[0m\u001b[0m\n",
      "\u001b[0;31mNameError\u001b[0m: name 'vbert_antique' is not defined"
     ]
    }
   ],
   "source": [
    "vbert_antique.config['max_train_it'] = 30\n",
    "vbert_antique.config['learning_rate'] = 0.00005"
   ]
  },
  {
   "cell_type": "code",
   "execution_count": 13,
   "metadata": {},
   "outputs": [
    {
     "ename": "NameError",
     "evalue": "name 'vbert_antique' is not defined",
     "output_type": "error",
     "traceback": [
      "\u001b[0;31m\u001b[0m",
      "\u001b[0;31mNameError\u001b[0mTraceback (most recent call last)",
      "\u001b[0;32m<ipython-input-13-9f8539e05f66>\u001b[0m in \u001b[0;36m<module>\u001b[0;34m\u001b[0m\n\u001b[1;32m      1\u001b[0m \u001b[0mstart\u001b[0m \u001b[0;34m=\u001b[0m \u001b[0mtimer\u001b[0m\u001b[0;34m(\u001b[0m\u001b[0;34m)\u001b[0m\u001b[0;34m\u001b[0m\u001b[0;34m\u001b[0m\u001b[0m\n\u001b[0;32m----> 2\u001b[0;31m \u001b[0mvbert_antique\u001b[0m\u001b[0;34m.\u001b[0m\u001b[0mfit\u001b[0m\u001b[0;34m(\u001b[0m\u001b[0minfo_df\u001b[0m\u001b[0;34m,\u001b[0m \u001b[0mqrels_df\u001b[0m\u001b[0;34m,\u001b[0m \u001b[0minfo_df_test\u001b[0m\u001b[0;34m,\u001b[0m \u001b[0mqrels_df_test\u001b[0m\u001b[0;34m)\u001b[0m\u001b[0;34m\u001b[0m\u001b[0;34m\u001b[0m\u001b[0m\n\u001b[0m\u001b[1;32m      3\u001b[0m \u001b[0mend\u001b[0m \u001b[0;34m=\u001b[0m \u001b[0mtimer\u001b[0m\u001b[0;34m(\u001b[0m\u001b[0;34m)\u001b[0m\u001b[0;34m\u001b[0m\u001b[0;34m\u001b[0m\u001b[0m\n\u001b[1;32m      4\u001b[0m \u001b[0mprint\u001b[0m \u001b[0;34m(\u001b[0m\u001b[0;34m\"time\"\u001b[0m\u001b[0;34m,\u001b[0m \u001b[0mend\u001b[0m \u001b[0;34m-\u001b[0m \u001b[0mstart\u001b[0m\u001b[0;34m,\u001b[0m \u001b[0mflush\u001b[0m \u001b[0;34m=\u001b[0m \u001b[0;32mTrue\u001b[0m\u001b[0;34m)\u001b[0m\u001b[0;34m\u001b[0m\u001b[0;34m\u001b[0m\u001b[0m\n",
      "\u001b[0;31mNameError\u001b[0m: name 'vbert_antique' is not defined"
     ]
    }
   ],
   "source": [
    "start = timer()\n",
    "vbert_antique.fit(info_df, qrels_df, info_df_test, qrels_df_test)\n",
    "end = timer()\n",
    "print (\"time\", end - start, flush = True)"
   ]
  },
  {
   "cell_type": "code",
   "execution_count": 59,
   "metadata": {},
   "outputs": [
    {
     "name": "stderr",
     "output_type": "stream",
     "text": [
      "batches:   4%|▎         | 5/138 [111ms<2.95s, 45.15it/s]"
     ]
    },
    {
     "name": "stdout",
     "output_type": "stream",
     "text": [
      "\u001b[02;37m[2021-05-09 12:44:13,874][bert_help][DEBUG] \u001b[0m\u001b[37musing GPU (deterministic)\u001b[0m\n",
      "\u001b[02;37m[2021-05-09 12:44:13,879][bert_help][DEBUG] \u001b[0m\u001b[37m[starting] batches\u001b[0m\n"
     ]
    },
    {
     "name": "stderr",
     "output_type": "stream",
     "text": [
      "                                                          "
     ]
    },
    {
     "name": "stdout",
     "output_type": "stream",
     "text": [
      "\u001b[02;37m[2021-05-09 12:44:16,717][bert_help][DEBUG] \u001b[0m\u001b[37m[finished] batches: [2.84s] [138it] [48.66it/s]\u001b[0m\n"
     ]
    },
    {
     "name": "stderr",
     "output_type": "stream",
     "text": [
      "\r"
     ]
    }
   ],
   "source": [
    "answs = vbert_antique.transform(info_df_test)"
   ]
  },
  {
   "cell_type": "code",
   "execution_count": 60,
   "metadata": {},
   "outputs": [],
   "source": [
    "def add_ranks1(rtr : pd.DataFrame) -> pd.DataFrame:\n",
    "    \"\"\"\n",
    "        Canonical method for adding a rank column which is calculated based on the score attribute\n",
    "        for each query. Note that the dataframe is NOT sorted by this operation.\n",
    "        Arguments\n",
    "            df: dataframe to create rank attribute for\n",
    "    \"\"\"\n",
    "    rtr.drop(columns=[\"rank\"], errors=\"ignore\", inplace=True)\n",
    "    if len(rtr) == 0:\n",
    "        rtr[\"rank\"] = pd.Series(index=rtr.index, dtype='int64')\n",
    "        return rtr\n",
    "    print (0)\n",
    "    # -1 assures that first rank will be FIRST_RANK\n",
    "    rtr[\"rank\"] = rtr.groupby(\"qid\", sort=False)[\"score\"].rank(ascending=False, method=\"first\").astype(int) -1 + 1\n",
    "    print (1)\n",
    "    if True:\n",
    "        rtr.sort_values([\"qid\", \"rank\"], ascending=[True,True], inplace=True)\n",
    "    return rtr\n"
   ]
  },
  {
   "cell_type": "code",
   "execution_count": 61,
   "metadata": {},
   "outputs": [
    {
     "name": "stdout",
     "output_type": "stream",
     "text": [
      "0\n",
      "1\n"
     ]
    }
   ],
   "source": [
    "answs = add_ranks1(answs)"
   ]
  },
  {
   "cell_type": "code",
   "execution_count": 47,
   "metadata": {},
   "outputs": [
    {
     "data": {
      "text/html": [
       "<div>\n",
       "<style scoped>\n",
       "    .dataframe tbody tr th:only-of-type {\n",
       "        vertical-align: middle;\n",
       "    }\n",
       "\n",
       "    .dataframe tbody tr th {\n",
       "        vertical-align: top;\n",
       "    }\n",
       "\n",
       "    .dataframe thead th {\n",
       "        text-align: right;\n",
       "    }\n",
       "</style>\n",
       "<table border=\"1\" class=\"dataframe\">\n",
       "  <thead>\n",
       "    <tr style=\"text-align: right;\">\n",
       "      <th></th>\n",
       "      <th>qid</th>\n",
       "      <th>query</th>\n",
       "      <th>docno</th>\n",
       "      <th>text</th>\n",
       "      <th>score</th>\n",
       "      <th>rank</th>\n",
       "    </tr>\n",
       "  </thead>\n",
       "  <tbody>\n",
       "    <tr>\n",
       "      <th>88</th>\n",
       "      <td>40</td>\n",
       "      <td>Which operating system has better performance ...</td>\n",
       "      <td>clueweb12-0604wb-40-13241</td>\n",
       "      <td>we do recommend, however, going for windows vi...</td>\n",
       "      <td>5.477026</td>\n",
       "      <td>1</td>\n",
       "    </tr>\n",
       "    <tr>\n",
       "      <th>70</th>\n",
       "      <td>40</td>\n",
       "      <td>Which operating system has better performance ...</td>\n",
       "      <td>clueweb12-0809wb-06-00325</td>\n",
       "      <td>updated: our final and definitive verdict on t...</td>\n",
       "      <td>4.689868</td>\n",
       "      <td>2</td>\n",
       "    </tr>\n",
       "    <tr>\n",
       "      <th>3</th>\n",
       "      <td>40</td>\n",
       "      <td>Which operating system has better performance ...</td>\n",
       "      <td>clueweb12-0500tw-35-13168</td>\n",
       "      <td>the company has published a blog that spells o...</td>\n",
       "      <td>4.449025</td>\n",
       "      <td>3</td>\n",
       "    </tr>\n",
       "    <tr>\n",
       "      <th>38</th>\n",
       "      <td>40</td>\n",
       "      <td>Which operating system has better performance ...</td>\n",
       "      <td>clueweb12-1515wb-88-16954</td>\n",
       "      <td>an operating system’s main task is to provide ...</td>\n",
       "      <td>3.928699</td>\n",
       "      <td>4</td>\n",
       "    </tr>\n",
       "    <tr>\n",
       "      <th>89</th>\n",
       "      <td>40</td>\n",
       "      <td>Which operating system has better performance ...</td>\n",
       "      <td>clueweb12-0604wb-21-01684</td>\n",
       "      <td>while speed and responsiveness should always n...</td>\n",
       "      <td>3.395550</td>\n",
       "      <td>5</td>\n",
       "    </tr>\n",
       "  </tbody>\n",
       "</table>\n",
       "</div>"
      ],
      "text/plain": [
       "   qid                                              query  \\\n",
       "88  40  Which operating system has better performance ...   \n",
       "70  40  Which operating system has better performance ...   \n",
       "3   40  Which operating system has better performance ...   \n",
       "38  40  Which operating system has better performance ...   \n",
       "89  40  Which operating system has better performance ...   \n",
       "\n",
       "                        docno  \\\n",
       "88  clueweb12-0604wb-40-13241   \n",
       "70  clueweb12-0809wb-06-00325   \n",
       "3   clueweb12-0500tw-35-13168   \n",
       "38  clueweb12-1515wb-88-16954   \n",
       "89  clueweb12-0604wb-21-01684   \n",
       "\n",
       "                                                 text     score  rank  \n",
       "88  we do recommend, however, going for windows vi...  5.477026     1  \n",
       "70  updated: our final and definitive verdict on t...  4.689868     2  \n",
       "3   the company has published a blog that spells o...  4.449025     3  \n",
       "38  an operating system’s main task is to provide ...  3.928699     4  \n",
       "89  while speed and responsiveness should always n...  3.395550     5  "
      ]
     },
     "execution_count": 47,
     "metadata": {},
     "output_type": "execute_result"
    }
   ],
   "source": [
    "answs.head()"
   ]
  },
  {
   "cell_type": "code",
   "execution_count": 62,
   "metadata": {},
   "outputs": [],
   "source": [
    "def write_qrels(output_dir, name, rtr):\n",
    "    qids = rtr['qid']\n",
    "    Q0s = [0 for elem in qids]\n",
    "    docs = rtr['docno']\n",
    "    scores = rtr['score']\n",
    "    ranks = rtr['rank']\n",
    "    tags = [name for elem in qids]\n",
    "    common_list = list(zip(qids, Q0s, docs, ranks, scores, tags))\n",
    "    print (\"common_list \", common_list[:3])\n",
    "    with open(output_dir + name +'.qrels', 'w') as fp:\n",
    "        fp.write('\\n'.join('%s %s %s %s %s %s' % x for x in common_list))\n",
    "    print (\"written \" + name +'.txt')"
   ]
  },
  {
   "cell_type": "code",
   "execution_count": 63,
   "metadata": {},
   "outputs": [
    {
     "name": "stdout",
     "output_type": "stream",
     "text": [
      "/notebook/touche2021\n"
     ]
    }
   ],
   "source": [
    "!pwd"
   ]
  },
  {
   "cell_type": "code",
   "execution_count": 64,
   "metadata": {},
   "outputs": [
    {
     "name": "stdout",
     "output_type": "stream",
     "text": [
      "common_list  [('40', 0, 'clueweb12-0604wb-40-13241', 1, 10.837261199951172, 'bert_antique'), ('40', 0, 'clueweb12-1100tw-64-01206', 2, 10.836387634277344, 'bert_antique'), ('40', 0, 'clueweb12-1606wb-70-06224', 3, 10.822611808776855, 'bert_antique')]\n",
      "written bert_antique.txt\n"
     ]
    }
   ],
   "source": [
    "write_qrels('/notebook/touche2021/output/', \"bert_antique\", answs)"
   ]
  },
  {
   "cell_type": "markdown",
   "metadata": {},
   "source": [
    "### Pre-trained BERT"
   ]
  },
  {
   "cell_type": "code",
   "execution_count": 8,
   "metadata": {},
   "outputs": [
    {
     "name": "stdout",
     "output_type": "stream",
     "text": [
      "PyTerrier 0.5.0 has loaded Terrier 5.4 (built by craigm on 2021-01-16 14:17)\n"
     ]
    }
   ],
   "source": [
    "import pyterrier as pt\n",
    "if not pt.started():\n",
    "    pt.init()\n",
    "#import onir_pt"
   ]
  },
  {
   "cell_type": "code",
   "execution_count": 12,
   "metadata": {},
   "outputs": [],
   "source": [
    "from sklearn.model_selection import train_test_split\n",
    "train_ds = pt.datasets.get_dataset('antique')\n",
    "train_topics = train_ds.get_topics('train')\n",
    "valid_topics = train_ds.get_topics('test')\n",
    " \n",
    "# Index MS MARCO\n"
   ]
  },
  {
   "cell_type": "code",
   "execution_count": 13,
   "metadata": {},
   "outputs": [
    {
     "data": {
      "text/html": [
       "<div>\n",
       "<style scoped>\n",
       "    .dataframe tbody tr th:only-of-type {\n",
       "        vertical-align: middle;\n",
       "    }\n",
       "\n",
       "    .dataframe tbody tr th {\n",
       "        vertical-align: top;\n",
       "    }\n",
       "\n",
       "    .dataframe thead th {\n",
       "        text-align: right;\n",
       "    }\n",
       "</style>\n",
       "<table border=\"1\" class=\"dataframe\">\n",
       "  <thead>\n",
       "    <tr style=\"text-align: right;\">\n",
       "      <th></th>\n",
       "      <th>qid</th>\n",
       "      <th>query</th>\n",
       "    </tr>\n",
       "  </thead>\n",
       "  <tbody>\n",
       "    <tr>\n",
       "      <th>0</th>\n",
       "      <td>3097310</td>\n",
       "      <td>what causes severe swelling and pain in the knees</td>\n",
       "    </tr>\n",
       "    <tr>\n",
       "      <th>1</th>\n",
       "      <td>3910705</td>\n",
       "      <td>why don t they put parachutes underneath airpl...</td>\n",
       "    </tr>\n",
       "    <tr>\n",
       "      <th>2</th>\n",
       "      <td>237390</td>\n",
       "      <td>how to clean alloy cylinder heads</td>\n",
       "    </tr>\n",
       "    <tr>\n",
       "      <th>3</th>\n",
       "      <td>2247892</td>\n",
       "      <td>how do i get them whiter</td>\n",
       "    </tr>\n",
       "    <tr>\n",
       "      <th>4</th>\n",
       "      <td>1078492</td>\n",
       "      <td>what is cloud 9 and 7th heaven</td>\n",
       "    </tr>\n",
       "    <tr>\n",
       "      <th>5</th>\n",
       "      <td>782453</td>\n",
       "      <td>how do you like your eggs</td>\n",
       "    </tr>\n",
       "    <tr>\n",
       "      <th>6</th>\n",
       "      <td>3198658</td>\n",
       "      <td>what is a conscience</td>\n",
       "    </tr>\n",
       "    <tr>\n",
       "      <th>7</th>\n",
       "      <td>1907320</td>\n",
       "      <td>how do i get college money</td>\n",
       "    </tr>\n",
       "    <tr>\n",
       "      <th>8</th>\n",
       "      <td>10895</td>\n",
       "      <td>how can u tell when a person is tellin u a lie</td>\n",
       "    </tr>\n",
       "    <tr>\n",
       "      <th>9</th>\n",
       "      <td>992730</td>\n",
       "      <td>how do you transfer voicemail messages onto tape</td>\n",
       "    </tr>\n",
       "    <tr>\n",
       "      <th>10</th>\n",
       "      <td>3486120</td>\n",
       "      <td>why does pamela anderson not care about children</td>\n",
       "    </tr>\n",
       "    <tr>\n",
       "      <th>11</th>\n",
       "      <td>2305171</td>\n",
       "      <td>what is the difference between a cigarette and...</td>\n",
       "    </tr>\n",
       "    <tr>\n",
       "      <th>12</th>\n",
       "      <td>3769487</td>\n",
       "      <td>what s a taxi medallion</td>\n",
       "    </tr>\n",
       "    <tr>\n",
       "      <th>13</th>\n",
       "      <td>2432710</td>\n",
       "      <td>what is the meaning of nikita</td>\n",
       "    </tr>\n",
       "    <tr>\n",
       "      <th>14</th>\n",
       "      <td>3116225</td>\n",
       "      <td>how do u get rid of corns on the toes</td>\n",
       "    </tr>\n",
       "    <tr>\n",
       "      <th>15</th>\n",
       "      <td>3785043</td>\n",
       "      <td>why is it that conservatives attack the critic...</td>\n",
       "    </tr>\n",
       "    <tr>\n",
       "      <th>16</th>\n",
       "      <td>2433622</td>\n",
       "      <td>why don t you ever see the headline psychic wi...</td>\n",
       "    </tr>\n",
       "    <tr>\n",
       "      <th>17</th>\n",
       "      <td>443147</td>\n",
       "      <td>how to fade the scar mark of face appeared by ...</td>\n",
       "    </tr>\n",
       "    <tr>\n",
       "      <th>18</th>\n",
       "      <td>4359052</td>\n",
       "      <td>what is an allantois</td>\n",
       "    </tr>\n",
       "    <tr>\n",
       "      <th>19</th>\n",
       "      <td>3049682</td>\n",
       "      <td>how do you determine if something is considere...</td>\n",
       "    </tr>\n",
       "    <tr>\n",
       "      <th>20</th>\n",
       "      <td>3884772</td>\n",
       "      <td>how about a bumper sticker thats says</td>\n",
       "    </tr>\n",
       "    <tr>\n",
       "      <th>21</th>\n",
       "      <td>802001</td>\n",
       "      <td>my lil sis owns a nokia 7650 her blue tooth do...</td>\n",
       "    </tr>\n",
       "    <tr>\n",
       "      <th>22</th>\n",
       "      <td>348777</td>\n",
       "      <td>why would a child s psychologist recommend hos...</td>\n",
       "    </tr>\n",
       "    <tr>\n",
       "      <th>23</th>\n",
       "      <td>397709</td>\n",
       "      <td>how and what court should i take a driver who ...</td>\n",
       "    </tr>\n",
       "    <tr>\n",
       "      <th>24</th>\n",
       "      <td>3764889</td>\n",
       "      <td>why is every one so paranoid about nudity</td>\n",
       "    </tr>\n",
       "  </tbody>\n",
       "</table>\n",
       "</div>"
      ],
      "text/plain": [
       "        qid                                              query\n",
       "0   3097310  what causes severe swelling and pain in the knees\n",
       "1   3910705  why don t they put parachutes underneath airpl...\n",
       "2    237390                  how to clean alloy cylinder heads\n",
       "3   2247892                           how do i get them whiter\n",
       "4   1078492                     what is cloud 9 and 7th heaven\n",
       "5    782453                          how do you like your eggs\n",
       "6   3198658                               what is a conscience\n",
       "7   1907320                         how do i get college money\n",
       "8     10895     how can u tell when a person is tellin u a lie\n",
       "9    992730   how do you transfer voicemail messages onto tape\n",
       "10  3486120   why does pamela anderson not care about children\n",
       "11  2305171  what is the difference between a cigarette and...\n",
       "12  3769487                            what s a taxi medallion\n",
       "13  2432710                      what is the meaning of nikita\n",
       "14  3116225              how do u get rid of corns on the toes\n",
       "15  3785043  why is it that conservatives attack the critic...\n",
       "16  2433622  why don t you ever see the headline psychic wi...\n",
       "17   443147  how to fade the scar mark of face appeared by ...\n",
       "18  4359052                               what is an allantois\n",
       "19  3049682  how do you determine if something is considere...\n",
       "20  3884772              how about a bumper sticker thats says\n",
       "21   802001  my lil sis owns a nokia 7650 her blue tooth do...\n",
       "22   348777  why would a child s psychologist recommend hos...\n",
       "23   397709  how and what court should i take a driver who ...\n",
       "24  3764889          why is every one so paranoid about nudity"
      ]
     },
     "execution_count": 13,
     "metadata": {},
     "output_type": "execute_result"
    }
   ],
   "source": [
    "train_topics.head(25)"
   ]
  },
  {
   "cell_type": "code",
   "execution_count": 14,
   "metadata": {},
   "outputs": [
    {
     "data": {
      "text/plain": [
       "array([['2271494',\n",
       "        'why did jesus get mad at the pharisees for not killing children']],\n",
       "      dtype=object)"
      ]
     },
     "execution_count": 14,
     "metadata": {},
     "output_type": "execute_result"
    }
   ],
   "source": [
    "train_topics[train_topics.qid == '2271494'].values"
   ]
  },
  {
   "cell_type": "code",
   "execution_count": 15,
   "metadata": {},
   "outputs": [
    {
     "data": {
      "text/plain": [
       "2426"
      ]
     },
     "execution_count": 15,
     "metadata": {},
     "output_type": "execute_result"
    }
   ],
   "source": [
    "len(train_topics)"
   ]
  },
  {
   "cell_type": "code",
   "execution_count": 16,
   "metadata": {},
   "outputs": [
    {
     "name": "stdout",
     "output_type": "stream",
     "text": [
      "/notebook/touche2021\n"
     ]
    }
   ],
   "source": [
    "! pwd"
   ]
  },
  {
   "cell_type": "code",
   "execution_count": 17,
   "metadata": {},
   "outputs": [],
   "source": [
    "f = open(\"/notebook/touche2021/terrier_antique/antique-collection.txt\", \"r\")\n",
    "a = f.readline()"
   ]
  },
  {
   "cell_type": "code",
   "execution_count": 18,
   "metadata": {},
   "outputs": [
    {
     "name": "stdout",
     "output_type": "stream",
     "text": [
      "50000\n",
      "100000\n",
      "150000\n",
      "200000\n",
      "250000\n",
      "300000\n",
      "350000\n",
      "400000\n"
     ]
    }
   ],
   "source": [
    "import pandas as pd\n",
    "import csv\n",
    "corpus_df1 = pd.DataFrame(columns=[\"docno\", \"text\"],dtype=object)\n",
    "ind = 0\n",
    "with open(\"/notebook/touche2021/terrier_antique/antique-collection.txt\") as tsv:\n",
    "    for line in csv.reader(tsv, dialect = 'excel-tab'):\n",
    "        ind += 1\n",
    "        if (ind%50000 == 0):\n",
    "            print (ind) \n",
    "        docno, text = line\n",
    "        if (docno == '3427615_4'):\n",
    "            df_row = {\"text\":text, \"docno\":docno}\n",
    "            corpus_df1 = corpus_df1.append(df_row, ignore_index= True)\n",
    "       "
   ]
  },
  {
   "cell_type": "code",
   "execution_count": 19,
   "metadata": {},
   "outputs": [
    {
     "data": {
      "text/plain": [
       "array([['3427615_4',\n",
       "        'As a guess I would say that historically \"kn\" would have been pronounced differently to \"n\" and that time has altered the way the words are pronounced.  English is a very composite language made from Latin, Germainic, Nordic and several other tongues amalgamated into one gramatically confusing language.']],\n",
       "      dtype=object)"
      ]
     },
     "execution_count": 19,
     "metadata": {},
     "output_type": "execute_result"
    }
   ],
   "source": [
    "corpus_df1.values"
   ]
  },
  {
   "cell_type": "code",
   "execution_count": 20,
   "metadata": {},
   "outputs": [
    {
     "ename": "NameError",
     "evalue": "name 'corpus_df' is not defined",
     "output_type": "error",
     "traceback": [
      "\u001b[0;31m\u001b[0m",
      "\u001b[0;31mNameError\u001b[0mTraceback (most recent call last)",
      "\u001b[0;32m<ipython-input-20-a9cd729cd127>\u001b[0m in \u001b[0;36m<module>\u001b[0;34m\u001b[0m\n\u001b[0;32m----> 1\u001b[0;31m \u001b[0mcorpus_df\u001b[0m\u001b[0;34m.\u001b[0m\u001b[0mhead\u001b[0m\u001b[0;34m(\u001b[0m\u001b[0;34m)\u001b[0m\u001b[0;34m\u001b[0m\u001b[0;34m\u001b[0m\u001b[0m\n\u001b[0m",
      "\u001b[0;31mNameError\u001b[0m: name 'corpus_df' is not defined"
     ]
    }
   ],
   "source": [
    "corpus_df.head()"
   ]
  },
  {
   "cell_type": "code",
   "execution_count": 21,
   "metadata": {},
   "outputs": [],
   "source": [
    "import pandas as pd\n",
    "#corpus_df.to_pickle(\"corpus_df\")\n",
    "corpus_df = pd.read_pickle(\"corpus_df\")\n"
   ]
  },
  {
   "cell_type": "code",
   "execution_count": 22,
   "metadata": {},
   "outputs": [],
   "source": [
    "lens = [len(elem) for elem in corpus_df['text']]"
   ]
  },
  {
   "cell_type": "code",
   "execution_count": 23,
   "metadata": {},
   "outputs": [
    {
     "name": "stdout",
     "output_type": "stream",
     "text": [
      "Populating the interactive namespace from numpy and matplotlib\n"
     ]
    },
    {
     "name": "stderr",
     "output_type": "stream",
     "text": [
      "/opt/.pyenv/versions/3.7.4/lib/python3.7/site-packages/IPython/core/magics/pylab.py:160: UserWarning: pylab import has clobbered these variables: ['f', 'text']\n",
      "`%matplotlib` prevents importing * from pylab and numpy\n",
      "  \"\\n`%matplotlib` prevents importing * from pylab and numpy\"\n"
     ]
    },
    {
     "data": {
      "text/plain": [
       "(array([20253., 27616., 22814., 19486., 15887., 13691., 11264.,  9364.,\n",
       "         8082.,  6858.]),\n",
       " array([  0.,  30.,  60.,  90., 120., 150., 180., 210., 240., 270., 300.]),\n",
       " <a list of 10 Patch objects>)"
      ]
     },
     "execution_count": 23,
     "metadata": {},
     "output_type": "execute_result"
    },
    {
     "data": {
      "image/png": "[encoded data removed]",
      "text/plain": [
       "<Figure size 432x288 with 1 Axes>"
      ]
     },
     "metadata": {
      "needs_background": "light"
     },
     "output_type": "display_data"
    }
   ],
   "source": [
    "%pylab inline\n",
    "import matplotlib.pyplot as plt \n",
    "plt.hist(lens)\n"
   ]
  },
  {
   "cell_type": "code",
   "execution_count": 24,
   "metadata": {},
   "outputs": [],
   "source": [
    "corpus_df['lens'] = [len(elem) for elem in corpus_df['text']]"
   ]
  },
  {
   "cell_type": "code",
   "execution_count": 25,
   "metadata": {},
   "outputs": [],
   "source": [
    "corpus_df = corpus_df.loc[corpus_df['lens'] <= 300]"
   ]
  },
  {
   "cell_type": "code",
   "execution_count": 26,
   "metadata": {},
   "outputs": [
    {
     "data": {
      "text/plain": [
       "155315"
      ]
     },
     "execution_count": 26,
     "metadata": {},
     "output_type": "execute_result"
    }
   ],
   "source": [
    "len(corpus_df)"
   ]
  },
  {
   "cell_type": "code",
   "execution_count": 27,
   "metadata": {},
   "outputs": [],
   "source": [
    "\n",
    "from sklearn.model_selection import train_test_split\n",
    "train_ds = pt.datasets.get_dataset('antique')\n",
    "train_topics = train_ds.get_topics('train')\n",
    "valid_topics = train_ds.get_topics('test')\n",
    "\n",
    "train_qrels = train_ds.get_qrels('train')\n",
    "val_qrels = train_ds.get_qrels('test')\n"
   ]
  },
  {
   "cell_type": "code",
   "execution_count": 28,
   "metadata": {},
   "outputs": [
    {
     "data": {
      "text/plain": [
       "array([['3427615',\n",
       "        'why do we put the letter k on the words knife and knob knee']],\n",
       "      dtype=object)"
      ]
     },
     "execution_count": 28,
     "metadata": {},
     "output_type": "execute_result"
    }
   ],
   "source": [
    "train_topics[train_topics.qid == '3427615'].values"
   ]
  },
  {
   "cell_type": "code",
   "execution_count": 29,
   "metadata": {},
   "outputs": [],
   "source": [
    "qset = set(list(train_qrels.qid))"
   ]
  },
  {
   "cell_type": "code",
   "execution_count": 30,
   "metadata": {},
   "outputs": [
    {
     "data": {
      "text/plain": [
       "558752"
      ]
     },
     "execution_count": 30,
     "metadata": {},
     "output_type": "execute_result"
    }
   ],
   "source": [
    "2271494\n",
    "2452131\n",
    "1873405\n",
    "3427615\n",
    "1043692\n",
    "2464797\n",
    "952062\n",
    "2858043\n",
    "1608105\n",
    "3440161\n",
    "3653952\n",
    "2131177\n",
    "2365151\n",
    "330693\n",
    "4082166\n",
    "2449050\n",
    "1372267\n",
    "1191246\n",
    "3764889\n",
    "323517\n",
    "2764410\n",
    "1498260\n",
    "488316\n",
    "2859959\n",
    "2854298\n",
    "1239473\n",
    "931698\n",
    "291505\n",
    "328356\n",
    "558752"
   ]
  },
  {
   "cell_type": "code",
   "execution_count": 31,
   "metadata": {},
   "outputs": [],
   "source": [
    "for elem in qset:\n",
    "    lbls = train_qrels[train_qrels.qid == elem].label\n",
    "    if len(set(lbls)) > 4:\n",
    "        print (elem)"
   ]
  },
  {
   "cell_type": "code",
   "execution_count": 32,
   "metadata": {},
   "outputs": [
    {
     "data": {
      "text/plain": [
       "array([['3427615_0',\n",
       "        'Any English word beginning with a (silent) k comes from the Low German (Dutch), where it was not silent but sounded : eg knob was knop, knife was knif.  In a word like knight, you have a double-German hangover : knight was knecht.  Early on in England they decided to spell the \"ch\" as \"gh\".',\n",
       "        291]], dtype=object)"
      ]
     },
     "execution_count": 32,
     "metadata": {},
     "output_type": "execute_result"
    }
   ],
   "source": [
    "corpus_df[corpus_df.docno == '3427615_0'].values"
   ]
  },
  {
   "cell_type": "code",
   "execution_count": 33,
   "metadata": {},
   "outputs": [
    {
     "data": {
      "text/plain": [
       "array([['3427615_1', 'Because English is a funny language.', 36]],\n",
       "      dtype=object)"
      ]
     },
     "execution_count": 33,
     "metadata": {},
     "output_type": "execute_result"
    }
   ],
   "source": [
    "corpus_df[corpus_df.docno == '3427615_1'].values"
   ]
  },
  {
   "cell_type": "code",
   "execution_count": 34,
   "metadata": {},
   "outputs": [
    {
     "data": {
      "text/plain": [
       "array([['3427615_2', \"gee, i don't really (k)now!\", 27]], dtype=object)"
      ]
     },
     "execution_count": 34,
     "metadata": {},
     "output_type": "execute_result"
    }
   ],
   "source": [
    "corpus_df[corpus_df.docno == '3427615_2'].values"
   ]
  },
  {
   "cell_type": "code",
   "execution_count": 35,
   "metadata": {},
   "outputs": [
    {
     "data": {
      "text/plain": [
       "array([['3427615_7',\n",
       "        'They are saxon words. knife would have been pronounced ker-niff.',\n",
       "        64]], dtype=object)"
      ]
     },
     "execution_count": 35,
     "metadata": {},
     "output_type": "execute_result"
    }
   ],
   "source": [
    "corpus_df[corpus_df.docno == '3427615_7'].values"
   ]
  },
  {
   "cell_type": "code",
   "execution_count": 36,
   "metadata": {},
   "outputs": [
    {
     "data": {
      "text/html": [
       "<div>\n",
       "<style scoped>\n",
       "    .dataframe tbody tr th:only-of-type {\n",
       "        vertical-align: middle;\n",
       "    }\n",
       "\n",
       "    .dataframe tbody tr th {\n",
       "        vertical-align: top;\n",
       "    }\n",
       "\n",
       "    .dataframe thead th {\n",
       "        text-align: right;\n",
       "    }\n",
       "</style>\n",
       "<table border=\"1\" class=\"dataframe\">\n",
       "  <thead>\n",
       "    <tr style=\"text-align: right;\">\n",
       "      <th></th>\n",
       "      <th>qid</th>\n",
       "      <th>docno</th>\n",
       "      <th>label</th>\n",
       "    </tr>\n",
       "  </thead>\n",
       "  <tbody>\n",
       "    <tr>\n",
       "      <th>11085</th>\n",
       "      <td>3427615</td>\n",
       "      <td>3427615_0</td>\n",
       "      <td>4</td>\n",
       "    </tr>\n",
       "    <tr>\n",
       "      <th>11086</th>\n",
       "      <td>3427615</td>\n",
       "      <td>3427615_1</td>\n",
       "      <td>2</td>\n",
       "    </tr>\n",
       "    <tr>\n",
       "      <th>11087</th>\n",
       "      <td>3427615</td>\n",
       "      <td>3427615_2</td>\n",
       "      <td>1</td>\n",
       "    </tr>\n",
       "    <tr>\n",
       "      <th>11088</th>\n",
       "      <td>3427615</td>\n",
       "      <td>3427615_3</td>\n",
       "      <td>4</td>\n",
       "    </tr>\n",
       "    <tr>\n",
       "      <th>11089</th>\n",
       "      <td>3427615</td>\n",
       "      <td>3427615_4</td>\n",
       "      <td>3</td>\n",
       "    </tr>\n",
       "    <tr>\n",
       "      <th>11090</th>\n",
       "      <td>3427615</td>\n",
       "      <td>3427615_5</td>\n",
       "      <td>2</td>\n",
       "    </tr>\n",
       "    <tr>\n",
       "      <th>11091</th>\n",
       "      <td>3427615</td>\n",
       "      <td>3427615_6</td>\n",
       "      <td>2</td>\n",
       "    </tr>\n",
       "    <tr>\n",
       "      <th>11092</th>\n",
       "      <td>3427615</td>\n",
       "      <td>3427615_7</td>\n",
       "      <td>4</td>\n",
       "    </tr>\n",
       "  </tbody>\n",
       "</table>\n",
       "</div>"
      ],
      "text/plain": [
       "           qid      docno  label\n",
       "11085  3427615  3427615_0      4\n",
       "11086  3427615  3427615_1      2\n",
       "11087  3427615  3427615_2      1\n",
       "11088  3427615  3427615_3      4\n",
       "11089  3427615  3427615_4      3\n",
       "11090  3427615  3427615_5      2\n",
       "11091  3427615  3427615_6      2\n",
       "11092  3427615  3427615_7      4"
      ]
     },
     "execution_count": 36,
     "metadata": {},
     "output_type": "execute_result"
    }
   ],
   "source": [
    "train_qrels[train_qrels.qid == '3427615']"
   ]
  },
  {
   "cell_type": "code",
   "execution_count": 37,
   "metadata": {},
   "outputs": [
    {
     "data": {
      "text/html": [
       "<div>\n",
       "<style scoped>\n",
       "    .dataframe tbody tr th:only-of-type {\n",
       "        vertical-align: middle;\n",
       "    }\n",
       "\n",
       "    .dataframe tbody tr th {\n",
       "        vertical-align: top;\n",
       "    }\n",
       "\n",
       "    .dataframe thead th {\n",
       "        text-align: right;\n",
       "    }\n",
       "</style>\n",
       "<table border=\"1\" class=\"dataframe\">\n",
       "  <thead>\n",
       "    <tr style=\"text-align: right;\">\n",
       "      <th></th>\n",
       "      <th>qid</th>\n",
       "      <th>docno</th>\n",
       "      <th>label</th>\n",
       "    </tr>\n",
       "  </thead>\n",
       "  <tbody>\n",
       "    <tr>\n",
       "      <th>13485</th>\n",
       "      <td>323517</td>\n",
       "      <td>323517_1</td>\n",
       "      <td>4</td>\n",
       "    </tr>\n",
       "    <tr>\n",
       "      <th>13486</th>\n",
       "      <td>323517</td>\n",
       "      <td>323517_21</td>\n",
       "      <td>2</td>\n",
       "    </tr>\n",
       "    <tr>\n",
       "      <th>13487</th>\n",
       "      <td>323517</td>\n",
       "      <td>323517_20</td>\n",
       "      <td>2</td>\n",
       "    </tr>\n",
       "    <tr>\n",
       "      <th>13488</th>\n",
       "      <td>323517</td>\n",
       "      <td>323517_22</td>\n",
       "      <td>2</td>\n",
       "    </tr>\n",
       "    <tr>\n",
       "      <th>13489</th>\n",
       "      <td>323517</td>\n",
       "      <td>323517_8</td>\n",
       "      <td>2</td>\n",
       "    </tr>\n",
       "    <tr>\n",
       "      <th>13490</th>\n",
       "      <td>323517</td>\n",
       "      <td>323517_9</td>\n",
       "      <td>4</td>\n",
       "    </tr>\n",
       "    <tr>\n",
       "      <th>13491</th>\n",
       "      <td>323517</td>\n",
       "      <td>323517_6</td>\n",
       "      <td>2</td>\n",
       "    </tr>\n",
       "    <tr>\n",
       "      <th>13492</th>\n",
       "      <td>323517</td>\n",
       "      <td>323517_7</td>\n",
       "      <td>3</td>\n",
       "    </tr>\n",
       "    <tr>\n",
       "      <th>13493</th>\n",
       "      <td>323517</td>\n",
       "      <td>323517_4</td>\n",
       "      <td>2</td>\n",
       "    </tr>\n",
       "    <tr>\n",
       "      <th>13494</th>\n",
       "      <td>323517</td>\n",
       "      <td>323517_5</td>\n",
       "      <td>1</td>\n",
       "    </tr>\n",
       "    <tr>\n",
       "      <th>13495</th>\n",
       "      <td>323517</td>\n",
       "      <td>323517_2</td>\n",
       "      <td>3</td>\n",
       "    </tr>\n",
       "    <tr>\n",
       "      <th>13496</th>\n",
       "      <td>323517</td>\n",
       "      <td>323517_3</td>\n",
       "      <td>1</td>\n",
       "    </tr>\n",
       "    <tr>\n",
       "      <th>13497</th>\n",
       "      <td>323517</td>\n",
       "      <td>323517_0</td>\n",
       "      <td>4</td>\n",
       "    </tr>\n",
       "    <tr>\n",
       "      <th>13498</th>\n",
       "      <td>323517</td>\n",
       "      <td>323517_18</td>\n",
       "      <td>4</td>\n",
       "    </tr>\n",
       "    <tr>\n",
       "      <th>13499</th>\n",
       "      <td>323517</td>\n",
       "      <td>323517_19</td>\n",
       "      <td>2</td>\n",
       "    </tr>\n",
       "    <tr>\n",
       "      <th>13500</th>\n",
       "      <td>323517</td>\n",
       "      <td>323517_14</td>\n",
       "      <td>4</td>\n",
       "    </tr>\n",
       "    <tr>\n",
       "      <th>13501</th>\n",
       "      <td>323517</td>\n",
       "      <td>323517_15</td>\n",
       "      <td>2</td>\n",
       "    </tr>\n",
       "    <tr>\n",
       "      <th>13502</th>\n",
       "      <td>323517</td>\n",
       "      <td>323517_16</td>\n",
       "      <td>3</td>\n",
       "    </tr>\n",
       "    <tr>\n",
       "      <th>13503</th>\n",
       "      <td>323517</td>\n",
       "      <td>323517_17</td>\n",
       "      <td>2</td>\n",
       "    </tr>\n",
       "    <tr>\n",
       "      <th>13504</th>\n",
       "      <td>323517</td>\n",
       "      <td>323517_10</td>\n",
       "      <td>4</td>\n",
       "    </tr>\n",
       "    <tr>\n",
       "      <th>13505</th>\n",
       "      <td>323517</td>\n",
       "      <td>323517_11</td>\n",
       "      <td>2</td>\n",
       "    </tr>\n",
       "    <tr>\n",
       "      <th>13506</th>\n",
       "      <td>323517</td>\n",
       "      <td>323517_12</td>\n",
       "      <td>2</td>\n",
       "    </tr>\n",
       "    <tr>\n",
       "      <th>13507</th>\n",
       "      <td>323517</td>\n",
       "      <td>323517_13</td>\n",
       "      <td>4</td>\n",
       "    </tr>\n",
       "  </tbody>\n",
       "</table>\n",
       "</div>"
      ],
      "text/plain": [
       "          qid      docno  label\n",
       "13485  323517   323517_1      4\n",
       "13486  323517  323517_21      2\n",
       "13487  323517  323517_20      2\n",
       "13488  323517  323517_22      2\n",
       "13489  323517   323517_8      2\n",
       "13490  323517   323517_9      4\n",
       "13491  323517   323517_6      2\n",
       "13492  323517   323517_7      3\n",
       "13493  323517   323517_4      2\n",
       "13494  323517   323517_5      1\n",
       "13495  323517   323517_2      3\n",
       "13496  323517   323517_3      1\n",
       "13497  323517   323517_0      4\n",
       "13498  323517  323517_18      4\n",
       "13499  323517  323517_19      2\n",
       "13500  323517  323517_14      4\n",
       "13501  323517  323517_15      2\n",
       "13502  323517  323517_16      3\n",
       "13503  323517  323517_17      2\n",
       "13504  323517  323517_10      4\n",
       "13505  323517  323517_11      2\n",
       "13506  323517  323517_12      2\n",
       "13507  323517  323517_13      4"
      ]
     },
     "execution_count": 37,
     "metadata": {},
     "output_type": "execute_result"
    }
   ],
   "source": [
    "train_qrels[train_qrels.qid == '323517']"
   ]
  },
  {
   "cell_type": "code",
   "execution_count": 38,
   "metadata": {},
   "outputs": [
    {
     "data": {
      "text/plain": [
       "array([], shape=(0, 3), dtype=object)"
      ]
     },
     "execution_count": 38,
     "metadata": {},
     "output_type": "execute_result"
    }
   ],
   "source": [
    "corpus_df[corpus_df.docno == '323517_2'].values"
   ]
  },
  {
   "cell_type": "code",
   "execution_count": 39,
   "metadata": {},
   "outputs": [],
   "source": [
    "map_lbl = {0:0, 1:0, 2:1, 3:1, 4:2}\n",
    "train_qrels['label'] = [map_lbl[elem] for elem in train_qrels['label']]\n",
    "val_qrels['label'] = [map_lbl[elem] for elem in val_qrels['label']]"
   ]
  },
  {
   "cell_type": "code",
   "execution_count": 40,
   "metadata": {},
   "outputs": [],
   "source": [
    "from sklearn.model_selection import train_test_split\n",
    "train_ds = pt.datasets.get_dataset('antique')\n",
    "train_topics = train_ds.get_topics('train')\n",
    "valid_topics = train_ds.get_topics('test')"
   ]
  },
  {
   "cell_type": "code",
   "execution_count": 41,
   "metadata": {},
   "outputs": [],
   "source": [
    "result = pd.merge(train_qrels, corpus_df, on=[\"docno\"])\n",
    "result = pd.merge(result, train_topics, on=[\"qid\"])"
   ]
  },
  {
   "cell_type": "code",
   "execution_count": 42,
   "metadata": {},
   "outputs": [],
   "source": [
    "result_val = pd.merge(val_qrels, corpus_df, on=[\"docno\"])\n",
    "result_val = pd.merge(result_val, valid_topics, on=[\"qid\"])"
   ]
  },
  {
   "cell_type": "code",
   "execution_count": 43,
   "metadata": {},
   "outputs": [],
   "source": [
    "val_qrels = result_val[['qid', 'docno', 'label']]"
   ]
  },
  {
   "cell_type": "code",
   "execution_count": 44,
   "metadata": {},
   "outputs": [],
   "source": [
    "train_qrels = result[['qid', 'docno', 'label']]"
   ]
  },
  {
   "cell_type": "code",
   "execution_count": 45,
   "metadata": {},
   "outputs": [],
   "source": [
    "def cleanhtml(raw_html):\n",
    "    cleanr = re.compile('<.*?>')\n",
    "    cleantext = re.sub(cleanr, '', raw_html)\n",
    "    return cleantext.lower()\n",
    "\n",
    "result['query'] = [cleanhtml(re.sub(r'[^\\w\\s]','',query)) for query in result['query']]\n",
    "result['text'] = [cleanhtml(re.sub(r'[^\\w\\s]','',query)) for query in result['text']]\n",
    "\n",
    "result_val['query'] = [cleanhtml(re.sub(r'[^\\w\\s]','',query)) for query in result_val['query']]\n",
    "result_val['text'] = [cleanhtml(re.sub(r'[^\\w\\s]','',query)) for query in result_val['text']]"
   ]
  },
  {
   "cell_type": "code",
   "execution_count": 46,
   "metadata": {},
   "outputs": [],
   "source": [
    "#result = result[['qid', 'query', 'docno', 'text']]\n",
    "#result_val = result[['qid', 'query', 'docno', 'text']]"
   ]
  },
  {
   "cell_type": "code",
   "execution_count": 47,
   "metadata": {},
   "outputs": [
    {
     "data": {
      "text/plain": [
       "9246"
      ]
     },
     "execution_count": 47,
     "metadata": {},
     "output_type": "execute_result"
    }
   ],
   "source": [
    "len(result)"
   ]
  },
  {
   "cell_type": "code",
   "execution_count": 48,
   "metadata": {},
   "outputs": [],
   "source": [
    "del corpus_df"
   ]
  },
  {
   "cell_type": "code",
   "execution_count": 49,
   "metadata": {},
   "outputs": [
    {
     "ename": "NameError",
     "evalue": "name 'corpus_df' is not defined",
     "output_type": "error",
     "traceback": [
      "\u001b[0;31m\u001b[0m",
      "\u001b[0;31mNameError\u001b[0mTraceback (most recent call last)",
      "\u001b[0;32m<ipython-input-49-a9cd729cd127>\u001b[0m in \u001b[0;36m<module>\u001b[0;34m\u001b[0m\n\u001b[0;32m----> 1\u001b[0;31m \u001b[0mcorpus_df\u001b[0m\u001b[0;34m.\u001b[0m\u001b[0mhead\u001b[0m\u001b[0;34m(\u001b[0m\u001b[0;34m)\u001b[0m\u001b[0;34m\u001b[0m\u001b[0;34m\u001b[0m\u001b[0m\n\u001b[0m",
      "\u001b[0;31mNameError\u001b[0m: name 'corpus_df' is not defined"
     ]
    }
   ],
   "source": [
    "corpus_df.head()"
   ]
  },
  {
   "cell_type": "code",
   "execution_count": 50,
   "metadata": {},
   "outputs": [
    {
     "ename": "NameError",
     "evalue": "name 'to_checkpoint' is not defined",
     "output_type": "error",
     "traceback": [
      "\u001b[0;31m\u001b[0m",
      "\u001b[0;31mNameError\u001b[0mTraceback (most recent call last)",
      "\u001b[0;32m<ipython-input-50-e30a828ae93d>\u001b[0m in \u001b[0;36m<module>\u001b[0;34m\u001b[0m\n\u001b[0;32m----> 1\u001b[0;31m \u001b[0mto_checkpoint\u001b[0m\u001b[0;34m\u001b[0m\u001b[0;34m\u001b[0m\u001b[0m\n\u001b[0m",
      "\u001b[0;31mNameError\u001b[0m: name 'to_checkpoint' is not defined"
     ]
    }
   ],
   "source": [
    "to_checkpoint"
   ]
  },
  {
   "cell_type": "code",
   "execution_count": 51,
   "metadata": {},
   "outputs": [],
   "source": [
    "%load_ext autoreload\n",
    "%autoreload 2\n",
    "from bert_help import OpenNIRPyterrierReRanker"
   ]
  },
  {
   "cell_type": "code",
   "execution_count": 52,
   "metadata": {},
   "outputs": [],
   "source": [
    "vbert_antique = OpenNIRPyterrierReRanker('vanilla_transformer', 'bert', text_field='text', vocab_config={'train': True})"
   ]
  },
  {
   "cell_type": "code",
   "execution_count": 53,
   "metadata": {},
   "outputs": [],
   "source": [
    "vbert_antique.to_checkpoint(\"bert_pre_trained_on_antique\")"
   ]
  },
  {
   "cell_type": "code",
   "execution_count": 54,
   "metadata": {},
   "outputs": [
    {
     "data": {
      "text/plain": [
       "{'batch_size': 4,\n",
       " 'gpu': True,\n",
       " 'gpu_determ': True,\n",
       " 'random_seed': 42,\n",
       " 'pre_validate': True,\n",
       " 'max_train_it': 500,\n",
       " 'patience': 20,\n",
       " 'va_metrics': ['map', 'ndcg', 'P_10'],\n",
       " 'train_count': 1024,\n",
       " 'learning_rate': 0.001,\n",
       " 'train_pos_source': 'intersect',\n",
       " 'train_neg_source': 'run',\n",
       " 'train_sampling': 'query',\n",
       " 'train_pos_minrel': 1,\n",
       " 'train_unjudged_rel': 0}"
      ]
     },
     "execution_count": 54,
     "metadata": {},
     "output_type": "execute_result"
    }
   ],
   "source": [
    "vbert_antique.config"
   ]
  },
  {
   "cell_type": "code",
   "execution_count": 55,
   "metadata": {},
   "outputs": [],
   "source": [
    "vbert_antique.config['max_train_it'] = 100\n",
    "vbert_antique.config['train_count'] = 300\n",
    "#vbert_antique.config['learning_rate'] = 0.00001\n",
    "vbert_antique.config['batch_size'] = 8"
   ]
  },
  {
   "cell_type": "code",
   "execution_count": 59,
   "metadata": {},
   "outputs": [],
   "source": [
    "#del vbert_antique"
   ]
  },
  {
   "cell_type": "code",
   "execution_count": 55,
   "metadata": {},
   "outputs": [],
   "source": [
    "import pandas as pd\n",
    "#result.to_pickle(\"result\")\n",
    "#result = pd.read_pickle(\"result\")\n",
    "#train_qrels.to_pickle(\"train_qrels\")\n",
    "#train_qrels = pd.read_pickle(\"train_qrels\")\n",
    "\n",
    "#result_val.to_pickle(\"result_val\")\n",
    "#result_val = pd.read_pickle(\"result_val\")\n",
    "#val_qrels.to_pickle(\"val_qrels\")\n",
    "#val_qrels = pd.read_pickle(\"val_qrels\")\n",
    "\n"
   ]
  },
  {
   "cell_type": "code",
   "execution_count": 56,
   "metadata": {},
   "outputs": [
    {
     "data": {
      "text/html": [
       "<div>\n",
       "<style scoped>\n",
       "    .dataframe tbody tr th:only-of-type {\n",
       "        vertical-align: middle;\n",
       "    }\n",
       "\n",
       "    .dataframe tbody tr th {\n",
       "        vertical-align: top;\n",
       "    }\n",
       "\n",
       "    .dataframe thead th {\n",
       "        text-align: right;\n",
       "    }\n",
       "</style>\n",
       "<table border=\"1\" class=\"dataframe\">\n",
       "  <thead>\n",
       "    <tr style=\"text-align: right;\">\n",
       "      <th></th>\n",
       "      <th>qid</th>\n",
       "      <th>docno</th>\n",
       "      <th>label</th>\n",
       "    </tr>\n",
       "  </thead>\n",
       "  <tbody>\n",
       "    <tr>\n",
       "      <th>0</th>\n",
       "      <td>1964316</td>\n",
       "      <td>1964316_5</td>\n",
       "      <td>2</td>\n",
       "    </tr>\n",
       "    <tr>\n",
       "      <th>1</th>\n",
       "      <td>1964316</td>\n",
       "      <td>1674088_11</td>\n",
       "      <td>0</td>\n",
       "    </tr>\n",
       "    <tr>\n",
       "      <th>2</th>\n",
       "      <td>1964316</td>\n",
       "      <td>1218838_13</td>\n",
       "      <td>1</td>\n",
       "    </tr>\n",
       "    <tr>\n",
       "      <th>3</th>\n",
       "      <td>1964316</td>\n",
       "      <td>4126855_1</td>\n",
       "      <td>1</td>\n",
       "    </tr>\n",
       "    <tr>\n",
       "      <th>4</th>\n",
       "      <td>1964316</td>\n",
       "      <td>2434719_9</td>\n",
       "      <td>1</td>\n",
       "    </tr>\n",
       "  </tbody>\n",
       "</table>\n",
       "</div>"
      ],
      "text/plain": [
       "       qid       docno  label\n",
       "0  1964316   1964316_5      2\n",
       "1  1964316  1674088_11      0\n",
       "2  1964316  1218838_13      1\n",
       "3  1964316   4126855_1      1\n",
       "4  1964316   2434719_9      1"
      ]
     },
     "execution_count": 56,
     "metadata": {},
     "output_type": "execute_result"
    }
   ],
   "source": [
    "val_qrels.head()"
   ]
  },
  {
   "cell_type": "code",
   "execution_count": null,
   "metadata": {},
   "outputs": [],
   "source": [
    "import os\n",
    "\n",
    "os.environ[\"CUDA_VISIBLE_DEVICES\"]=\"1\"\n",
    "start = timer()\n",
    "vbert_antique.fit(result, train_qrels, result_val, val_qrels)\n",
    "end = timer()\n",
    "print (end - start)"
   ]
  },
  {
   "cell_type": "code",
   "execution_count": null,
   "metadata": {},
   "outputs": [],
   "source": [
    "608.94673"
   ]
  },
  {
   "cell_type": "code",
   "execution_count": 2,
   "metadata": {},
   "outputs": [
    {
     "name": "stdout",
     "output_type": "stream",
     "text": [
      "Fri Jun 25 20:49:08 2021       \n",
      "+-----------------------------------------------------------------------------+\n",
      "| NVIDIA-SMI 460.80       Driver Version: 460.80       CUDA Version: 11.2     |\n",
      "|-------------------------------+----------------------+----------------------+\n",
      "| GPU  Name        Persistence-M| Bus-Id        Disp.A | Volatile Uncorr. ECC |\n",
      "| Fan  Temp  Perf  Pwr:Usage/Cap|         Memory-Usage | GPU-Util  Compute M. |\n",
      "|                               |                      |               MIG M. |\n",
      "|===============================+======================+======================|\n",
      "|   0  GeForce RTX 208...  Off  | 00000000:1A:00.0 Off |                  N/A |\n",
      "| 27%   31C    P8    13W / 260W |   8190MiB / 11019MiB |      0%      Default |\n",
      "|                               |                      |                  N/A |\n",
      "+-------------------------------+----------------------+----------------------+\n",
      "|   1  GeForce RTX 208...  Off  | 00000000:1B:00.0 Off |                  N/A |\n",
      "| 27%   30C    P8     9W / 260W |      3MiB / 11019MiB |      0%      Default |\n",
      "|                               |                      |                  N/A |\n",
      "+-------------------------------+----------------------+----------------------+\n",
      "|   2  GeForce RTX 208...  Off  | 00000000:1C:00.0 Off |                  N/A |\n",
      "| 27%   32C    P8     5W / 260W |   5616MiB / 11019MiB |      0%      Default |\n",
      "|                               |                      |                  N/A |\n",
      "+-------------------------------+----------------------+----------------------+\n",
      "|   3  GeForce RTX 208...  Off  | 00000000:1E:00.0 Off |                  N/A |\n",
      "| 27%   32C    P8    12W / 260W |      3MiB / 11019MiB |      0%      Default |\n",
      "|                               |                      |                  N/A |\n",
      "+-------------------------------+----------------------+----------------------+\n",
      "|   4  GeForce RTX 208...  Off  | 00000000:3D:00.0 Off |                  N/A |\n",
      "| 27%   27C    P8     1W / 260W |      3MiB / 11019MiB |      0%      Default |\n",
      "|                               |                      |                  N/A |\n",
      "+-------------------------------+----------------------+----------------------+\n",
      "|   5  GeForce RTX 208...  Off  | 00000000:3E:00.0 Off |                  N/A |\n",
      "| 40%   49C    P2    79W / 260W |   8860MiB / 11019MiB |      4%      Default |\n",
      "|                               |                      |                  N/A |\n",
      "+-------------------------------+----------------------+----------------------+\n",
      "|   6  GeForce RTX 208...  Off  | 00000000:40:00.0 Off |                  N/A |\n",
      "| 27%   30C    P8     8W / 260W |      3MiB / 11019MiB |      0%      Default |\n",
      "|                               |                      |                  N/A |\n",
      "+-------------------------------+----------------------+----------------------+\n",
      "|   7  GeForce RTX 208...  Off  | 00000000:41:00.0 Off |                  N/A |\n",
      "| 27%   29C    P8    14W / 260W |      3MiB / 11019MiB |      0%      Default |\n",
      "|                               |                      |                  N/A |\n",
      "+-------------------------------+----------------------+----------------------+\n",
      "                                                                               \n",
      "+-----------------------------------------------------------------------------+\n",
      "| Processes:                                                                  |\n",
      "|  GPU   GI   CI        PID   Type   Process name                  GPU Memory |\n",
      "|        ID   ID                                                   Usage      |\n",
      "|=============================================================================|\n",
      "+-----------------------------------------------------------------------------+\n"
     ]
    }
   ],
   "source": [
    "!nvidia-smi"
   ]
  },
  {
   "cell_type": "code",
   "execution_count": null,
   "metadata": {},
   "outputs": [],
   "source": []
  }
 ],
 "metadata": {
  "kernelspec": {
   "display_name": "Python 3",
   "language": "python",
   "name": "python3"
  },
  "language_info": {
   "codemirror_mode": {
    "name": "ipython",
    "version": 3
   },
   "file_extension": ".py",
   "mimetype": "text/x-python",
   "name": "python",
   "nbconvert_exporter": "python",
   "pygments_lexer": "ipython3",
   "version": "3.7.4"
  }
 },
 "nbformat": 4,
 "nbformat_minor": 4
}
