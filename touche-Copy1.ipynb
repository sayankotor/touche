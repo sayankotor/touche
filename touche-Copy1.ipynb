{
 "cells": [
  {
   "cell_type": "code",
   "execution_count": 1,
   "metadata": {},
   "outputs": [],
   "source": [
    "import requests\n",
    "#r = requests.post('http://10.30.99.211:8261/gpt_small', data = \"What is better for deep learning Python or Matlab?\")\n",
    "#print (r.status_code)"
   ]
  },
  {
   "cell_type": "code",
   "execution_count": 2,
   "metadata": {},
   "outputs": [],
   "source": [
    "def rqst(query):\n",
    "    number_r = 10\n",
    "    response = make_a_search_request(query)\n",
    "    a = response.json()\n",
    "    while ('results' not in a and number_r > 0):\n",
    "       print (number_r)\n",
    "       print ('results' not in a)\n",
    "       number_r = number_r - 1\n",
    "       response = make_a_search_request(query)\n",
    "       a = response.json()\n",
    "    return a\n"
   ]
  },
  {
   "cell_type": "code",
   "execution_count": 3,
   "metadata": {},
   "outputs": [
    {
     "name": "stderr",
     "output_type": "stream",
     "text": [
      "/opt/.pyenv/versions/3.7.4/lib/python3.7/site-packages/tensorflow/python/framework/dtypes.py:516: FutureWarning: Passing (type, 1) or '1type' as a synonym of type is deprecated; in a future version of numpy, it will be understood as (type, (1,)) / '(1,)type'.\n",
      "  _np_qint8 = np.dtype([(\"qint8\", np.int8, 1)])\n",
      "/opt/.pyenv/versions/3.7.4/lib/python3.7/site-packages/tensorflow/python/framework/dtypes.py:517: FutureWarning: Passing (type, 1) or '1type' as a synonym of type is deprecated; in a future version of numpy, it will be understood as (type, (1,)) / '(1,)type'.\n",
      "  _np_quint8 = np.dtype([(\"quint8\", np.uint8, 1)])\n",
      "/opt/.pyenv/versions/3.7.4/lib/python3.7/site-packages/tensorflow/python/framework/dtypes.py:518: FutureWarning: Passing (type, 1) or '1type' as a synonym of type is deprecated; in a future version of numpy, it will be understood as (type, (1,)) / '(1,)type'.\n",
      "  _np_qint16 = np.dtype([(\"qint16\", np.int16, 1)])\n",
      "/opt/.pyenv/versions/3.7.4/lib/python3.7/site-packages/tensorflow/python/framework/dtypes.py:519: FutureWarning: Passing (type, 1) or '1type' as a synonym of type is deprecated; in a future version of numpy, it will be understood as (type, (1,)) / '(1,)type'.\n",
      "  _np_quint16 = np.dtype([(\"quint16\", np.uint16, 1)])\n",
      "/opt/.pyenv/versions/3.7.4/lib/python3.7/site-packages/tensorflow/python/framework/dtypes.py:520: FutureWarning: Passing (type, 1) or '1type' as a synonym of type is deprecated; in a future version of numpy, it will be understood as (type, (1,)) / '(1,)type'.\n",
      "  _np_qint32 = np.dtype([(\"qint32\", np.int32, 1)])\n",
      "/opt/.pyenv/versions/3.7.4/lib/python3.7/site-packages/tensorflow/python/framework/dtypes.py:525: FutureWarning: Passing (type, 1) or '1type' as a synonym of type is deprecated; in a future version of numpy, it will be understood as (type, (1,)) / '(1,)type'.\n",
      "  np_resource = np.dtype([(\"resource\", np.ubyte, 1)])\n",
      "/opt/.pyenv/versions/3.7.4/lib/python3.7/site-packages/tensorboard/compat/tensorflow_stub/dtypes.py:541: FutureWarning: Passing (type, 1) or '1type' as a synonym of type is deprecated; in a future version of numpy, it will be understood as (type, (1,)) / '(1,)type'.\n",
      "  _np_qint8 = np.dtype([(\"qint8\", np.int8, 1)])\n",
      "/opt/.pyenv/versions/3.7.4/lib/python3.7/site-packages/tensorboard/compat/tensorflow_stub/dtypes.py:542: FutureWarning: Passing (type, 1) or '1type' as a synonym of type is deprecated; in a future version of numpy, it will be understood as (type, (1,)) / '(1,)type'.\n",
      "  _np_quint8 = np.dtype([(\"quint8\", np.uint8, 1)])\n",
      "/opt/.pyenv/versions/3.7.4/lib/python3.7/site-packages/tensorboard/compat/tensorflow_stub/dtypes.py:543: FutureWarning: Passing (type, 1) or '1type' as a synonym of type is deprecated; in a future version of numpy, it will be understood as (type, (1,)) / '(1,)type'.\n",
      "  _np_qint16 = np.dtype([(\"qint16\", np.int16, 1)])\n",
      "/opt/.pyenv/versions/3.7.4/lib/python3.7/site-packages/tensorboard/compat/tensorflow_stub/dtypes.py:544: FutureWarning: Passing (type, 1) or '1type' as a synonym of type is deprecated; in a future version of numpy, it will be understood as (type, (1,)) / '(1,)type'.\n",
      "  _np_quint16 = np.dtype([(\"quint16\", np.uint16, 1)])\n",
      "/opt/.pyenv/versions/3.7.4/lib/python3.7/site-packages/tensorboard/compat/tensorflow_stub/dtypes.py:545: FutureWarning: Passing (type, 1) or '1type' as a synonym of type is deprecated; in a future version of numpy, it will be understood as (type, (1,)) / '(1,)type'.\n",
      "  _np_qint32 = np.dtype([(\"qint32\", np.int32, 1)])\n",
      "/opt/.pyenv/versions/3.7.4/lib/python3.7/site-packages/tensorboard/compat/tensorflow_stub/dtypes.py:550: FutureWarning: Passing (type, 1) or '1type' as a synonym of type is deprecated; in a future version of numpy, it will be understood as (type, (1,)) / '(1,)type'.\n",
      "  np_resource = np.dtype([(\"resource\", np.ubyte, 1)])\n"
     ]
    }
   ],
   "source": [
    "import os\n",
    "os.environ[\"CUDA_VISIBLE_DEVICES\"] = \"1,2,3\"\n",
    "import tensorflow as tf\n",
    "import sys\n",
    "import argparse\n"
   ]
  },
  {
   "cell_type": "code",
   "execution_count": 4,
   "metadata": {},
   "outputs": [
    {
     "data": {
      "text/plain": [
       "<tensorflow.python.client.session.Session at 0x7efd289b0f10>"
      ]
     },
     "execution_count": 4,
     "metadata": {},
     "output_type": "execute_result"
    }
   ],
   "source": [
    "import os\n",
    "os.environ[\"CUDA_VISIBLE_DEVICES\"] = \"1,2,3\"\n",
    "\n",
    "config = tf.compat.v1.ConfigProto(allow_soft_placement=True, log_device_placement=True)\n",
    "config.gpu_options.allow_growth = True\n",
    "tf.compat.v1.Session(config=config)"
   ]
  },
  {
   "cell_type": "code",
   "execution_count": 5,
   "metadata": {},
   "outputs": [
    {
     "name": "stdout",
     "output_type": "stream",
     "text": [
      "WARNING:tensorflow:From /opt/.pyenv/versions/3.7.4/lib/python3.7/site-packages/tensorflow/python/training/saver.py:1276: checkpoint_exists (from tensorflow.python.training.checkpoint_management) is deprecated and will be removed in a future version.\n",
      "Instructions for updating:\n",
      "Use standard file APIs to check for files with this prefix.\n",
      "INFO:tensorflow:Restoring parameters from /notebook/uncased_L-12_H-768_A-12/bert_model.ckpt\n"
     ]
    }
   ],
   "source": [
    "saver = tf.train.import_meta_graph('/notebook/uncased_L-12_H-768_A-12/' + 'bert_model.ckpt.meta')\n",
    "with tf.Session() as sess:\n",
    "    saver.restore(sess, '/notebook/uncased_L-12_H-768_A-12/' + \"bert_model.ckpt\")"
   ]
  },
  {
   "cell_type": "code",
   "execution_count": 6,
   "metadata": {},
   "outputs": [],
   "source": [
    "import numpy as np"
   ]
  },
  {
   "cell_type": "code",
   "execution_count": 7,
   "metadata": {},
   "outputs": [],
   "source": [
    "def make_a_search_request(query):\n",
    "    # return json\n",
    "    # json will be processed further\n",
    "    params = {\n",
    "            \"apikey\": \"0833a307-97d3-462a-99d9-27db400c70da\",\n",
    "            \"query\": query,\n",
    "            \"index\": [\"cw12\"],\n",
    "            \"size\": 10,\n",
    "            \"pretty\": True\n",
    "        }\n",
    "    response = requests.get(url = \"http://www.chatnoir.eu/api/v1/_search\", params = params)\n",
    "    return response"
   ]
  },
  {
   "cell_type": "code",
   "execution_count": 8,
   "metadata": {},
   "outputs": [
    {
     "data": {
      "text/plain": [
       "<Response [200]>"
      ]
     },
     "execution_count": 8,
     "metadata": {},
     "output_type": "execute_result"
    }
   ],
   "source": [
    "make_a_search_request(\"Is admission rate in Stanford higher than that of MIT?\")"
   ]
  },
  {
   "cell_type": "code",
   "execution_count": 9,
   "metadata": {},
   "outputs": [
    {
     "ename": "SyntaxError",
     "evalue": "invalid syntax (<ipython-input-9-15efa7ceecd7>, line 4)",
     "output_type": "error",
     "traceback": [
      "\u001b[0;36m  File \u001b[0;32m\"<ipython-input-9-15efa7ceecd7>\"\u001b[0;36m, line \u001b[0;32m4\u001b[0m\n\u001b[0;31m    while ('results' not in in a.json() and number > 0):\u001b[0m\n\u001b[0m                             ^\u001b[0m\n\u001b[0;31mSyntaxError\u001b[0m\u001b[0;31m:\u001b[0m invalid syntax\n"
     ]
    }
   ],
   "source": [
    "a = {}\n",
    "number = 100\n",
    "a = make_a_search_request(\"What is differense between sex and love?\")\n",
    "while ('results' not in in a.json() and number > 0):\n",
    "    a = make_a_search_request(\"What is differense between sex and love?\")"
   ]
  },
  {
   "cell_type": "code",
   "execution_count": 10,
   "metadata": {},
   "outputs": [],
   "source": [
    "from xml.dom import minidom\n",
    "\n",
    "def read_xml(filename):\n",
    "    # convert file filename to list of tuples (number_of_topic, title_of_topic) \n",
    "    # input: filename string\n",
    "    # output: list of corresponding tuples\n",
    "    answer_list = []\n",
    "    xmldoc = minidom.parse(filename)\n",
    "    itemlist = xmldoc.getElementsByTagName('topics')\n",
    "    print(len(itemlist))\n",
    "    print(itemlist)\n",
    "    topic_list = itemlist[0].getElementsByTagName('topic')\n",
    "    print (len(topic_list))\n",
    "    for topic in topic_list:\n",
    "        tuple_for_add = tuple((topic.getElementsByTagName('number')[0].firstChild.nodeValue, topic.getElementsByTagName('title')[0].firstChild.nodeValue))\n",
    "        answer_list.append(tuple_for_add)\n",
    "    return answer_list"
   ]
  },
  {
   "cell_type": "code",
   "execution_count": 11,
   "metadata": {},
   "outputs": [
    {
     "name": "stdout",
     "output_type": "stream",
     "text": [
      "/notebook/touche\n"
     ]
    }
   ],
   "source": [
    "!pwd"
   ]
  },
  {
   "cell_type": "code",
   "execution_count": 12,
   "metadata": {},
   "outputs": [
    {
     "name": "stdout",
     "output_type": "stream",
     "text": [
      "1\n",
      "[<DOM Element: topics at 0x7efcac6724b0>]\n",
      "50\n"
     ]
    }
   ],
   "source": [
    "input_dir = '/notebook/touche/'\n",
    "input_file = 'topics-task-2-only-titles.xml'\n",
    "list_of_tuples = read_xml(input_dir + input_file)"
   ]
  },
  {
   "cell_type": "code",
   "execution_count": 23,
   "metadata": {},
   "outputs": [],
   "source": [
    "def run_baseline(output_dir = '/notebook/touche/output/', input_dir = '/notebook/touche/', input_file = 'topics-task-2-only-titles.xml'):\n",
    "    list_of_tuples = read_xml(input_dir + input_file)\n",
    "    common_list = []\n",
    "    \n",
    "    with open(output_dir + 'run_example.txt', 'w') as fp:\n",
    "        fp.write('\\n'.join('%s %s %s %s %s %s' % x for x in common_list))\n",
    "        \n",
    "    for elem in list_of_tuples:\n",
    "        qid = elem[0]\n",
    "        print (\"qid\", qid)\n",
    "        Q0 = 'Q0'\n",
    "        query = elem[1]\n",
    "        tag = 'myBaseline'\n",
    "        response = make_a_search_request(query)\n",
    "        a = response.json()\n",
    "        try:\n",
    "            scores = [elem['score'] for elem in a['results']]\n",
    "            docs = [elem['trec_id'] for elem in a['results']]\n",
    "            titles = [elem['title'] for elem in a['results']]\n",
    "        except:\n",
    "            print (a)\n",
    "        qids = [qid]*len(scores)\n",
    "        Q0s = [Q0 for elem in scores]\n",
    "        queries = query*len(scores)\n",
    "        tags = [tag for elem in scores]\n",
    "        ranks = range(1, len(scores) + 1)\n",
    "        part_of_commom_list = list(zip(qids, Q0s, docs, ranks, scores, tags))\n",
    "        common_list = common_list + part_of_commom_list\n",
    "        \n",
    "    print (\"part 2\")    \n",
    "    for elem in list_of_tuples[:10]:\n",
    "        qid = elem[0]\n",
    "        Q0 = 'Q0'\n",
    "        query = elem[1]\n",
    "        tag = 'myBertSimilarity'\n",
    "        #response = make_a_search_request(query)\n",
    "        #a = response.json()\n",
    "        #try:\n",
    "            #docs = [elem['trec_id'] for elem in a['results']]\n",
    "            #titles = [elem['title'] for elem in a['results']]\n",
    "            #scores = make_scores_1(query, titles)\n",
    "        #except:\n",
    "            #print (\"except\")\n",
    "            #return titles\n",
    "        #qids = qid*len(scores)\n",
    "        #Q0s = [Q0 for elem in scores]\n",
    "        #queries = query*len(scores)\n",
    "        #tags = [tag for elem in scores]\n",
    "        #part_of_commom_list = list(zip(qids, Q0s, docs, scores, tags))\n",
    "        #part_of_commom_list = sorted(part_of_commom_list, key = lambda x: x[3], reverse = True) \n",
    "        \n",
    "        #qids, Q0s, docs, scores, tags = zip(*part_of_commom_list)\n",
    "        \n",
    "        #ranks = range(1, len(scores) + 1)\n",
    "        #part_of_commom_list = list(zip(qids, Q0s, docs, ranks, scores, tags))\n",
    "        #common_list = common_list + part_of_commom_list\n",
    "\n",
    "    with open(output_dir + 'run_example1.txt', 'w') as fp:\n",
    "        fp.write('\\n'.join('%s %s %s %s %s %s' % x for x in common_list))"
   ]
  },
  {
   "cell_type": "code",
   "execution_count": 21,
   "metadata": {},
   "outputs": [
    {
     "data": {
      "text/plain": [
       "[1, 1, 1, 1, 1]"
      ]
     },
     "execution_count": 21,
     "metadata": {},
     "output_type": "execute_result"
    }
   ],
   "source": [
    "[1]*5"
   ]
  },
  {
   "cell_type": "code",
   "execution_count": 22,
   "metadata": {},
   "outputs": [
    {
     "name": "stdout",
     "output_type": "stream",
     "text": [
      "1\n",
      "[<DOM Element: topics at 0x7efd896585f0>]\n",
      "50\n",
      "qid 1\n",
      "qids ['1', '1', '1', '1', '1', '1', '1', '1', '1', '1']\n",
      "part_of_commom_list [('1', 'Q0', 'clueweb12-1214wb-88-29751', 1, 2406.7341, 'myBaseline'), ('1', 'Q0', 'clueweb12-1217wb-96-18723', 2, 2396.9736, 'myBaseline'), ('1', 'Q0', 'clueweb12-1811wb-62-08418', 3, 2396.6697, 'myBaseline'), ('1', 'Q0', 'clueweb12-1809wb-33-13145', 4, 2396.6697, 'myBaseline'), ('1', 'Q0', 'clueweb12-1811wb-62-08424', 5, 2396.6616, 'myBaseline'), ('1', 'Q0', 'clueweb12-1811wb-62-08423', 6, 2396.4927, 'myBaseline'), ('1', 'Q0', 'clueweb12-1811wb-62-08421', 7, 2395.756, 'myBaseline'), ('1', 'Q0', 'clueweb12-1811wb-62-08425', 8, 2395.4934, 'myBaseline'), ('1', 'Q0', 'clueweb12-1811wb-62-08419', 9, 2394.7332, 'myBaseline'), ('1', 'Q0', 'clueweb12-1811wb-62-08422', 10, 2394.7102, 'myBaseline')]\n",
      "qid 2\n",
      "qids ['2', '2', '2', '2', '2', '2', '2', '2', '2', '2']\n",
      "part_of_commom_list [('2', 'Q0', 'clueweb12-0505wb-78-06026', 1, 2183.8928, 'myBaseline'), ('2', 'Q0', 'clueweb12-1714wb-90-02429', 2, 2114.4001, 'myBaseline'), ('2', 'Q0', 'clueweb12-1412wb-03-18627', 3, 2038.0409, 'myBaseline'), ('2', 'Q0', 'clueweb12-1516wb-62-16691', 4, 2011.7649, 'myBaseline'), ('2', 'Q0', 'clueweb12-0401wb-86-26269', 5, 2010.6539, 'myBaseline'), ('2', 'Q0', 'clueweb12-0306wb-77-05626', 6, 1836.9033, 'myBaseline'), ('2', 'Q0', 'clueweb12-0109wb-23-31617', 7, 1742.3978, 'myBaseline'), ('2', 'Q0', 'clueweb12-0109wb-28-26419', 8, 1741.4056, 'myBaseline'), ('2', 'Q0', 'clueweb12-1313wb-37-07544', 9, 1712.5363, 'myBaseline'), ('2', 'Q0', 'clueweb12-1201wb-97-16663', 10, 1684.6716, 'myBaseline')]\n",
      "qid 3\n",
      "qids ['3', '3', '3', '3', '3', '3', '3', '3', '3', '3']\n",
      "part_of_commom_list [('3', 'Q0', 'clueweb12-0200wb-72-02633', 1, 2317.332, 'myBaseline'), ('3', 'Q0', 'clueweb12-0200wb-72-02639', 2, 1792.2296, 'myBaseline'), ('3', 'Q0', 'clueweb12-0002wb-34-08397', 3, 1925.0942, 'myBaseline'), ('3', 'Q0', 'clueweb12-0001wb-98-37238', 4, 1916.7164, 'myBaseline'), ('3', 'Q0', 'clueweb12-1210wb-90-34231', 5, 1815.0052, 'myBaseline'), ('3', 'Q0', 'clueweb12-1308wb-88-08893', 6, 1792.1083, 'myBaseline'), ('3', 'Q0', 'clueweb12-1201wb-30-21788', 7, 1779.0756, 'myBaseline'), ('3', 'Q0', 'clueweb12-1201wb-86-23638', 8, 1762.522, 'myBaseline'), ('3', 'Q0', 'clueweb12-0903wb-90-00272', 9, 1767.6042, 'myBaseline'), ('3', 'Q0', 'clueweb12-0405wb-11-27558', 10, 1721.2908, 'myBaseline')]\n",
      "qid 4\n",
      "qids ['4', '4', '4', '4', '4', '4', '4', '4', '4', '4']\n",
      "part_of_commom_list [('4', 'Q0', 'clueweb12-1510wb-29-22711', 1, 2554.595, 'myBaseline'), ('4', 'Q0', 'clueweb12-1509wb-96-07966', 2, 1657.8115, 'myBaseline'), ('4', 'Q0', 'clueweb12-0003wb-36-32958', 3, 1688.0955, 'myBaseline'), ('4', 'Q0', 'clueweb12-0303wb-25-18273', 4, 1486.623, 'myBaseline'), ('4', 'Q0', 'clueweb12-1107wb-05-23577', 5, 1486.439, 'myBaseline'), ('4', 'Q0', 'clueweb12-1700wb-80-26408', 6, 1404.3301, 'myBaseline'), ('4', 'Q0', 'clueweb12-0305wb-27-07777', 7, 1392.6921, 'myBaseline'), ('4', 'Q0', 'clueweb12-0400tw-74-16641', 8, 1372.0316, 'myBaseline'), ('4', 'Q0', 'clueweb12-0400tw-56-03832', 9, 1366.7175, 'myBaseline'), ('4', 'Q0', 'clueweb12-0400tw-54-05484', 10, 1361.7465, 'myBaseline')]\n",
      "qid 5\n",
      "qids ['5', '5', '5', '5', '5', '5', '5', '5', '5', '5']\n",
      "part_of_commom_list [('5', 'Q0', 'clueweb12-1203wb-43-04953', 1, 1521.3252, 'myBaseline'), ('5', 'Q0', 'clueweb12-1204wb-18-09521', 2, 1488.3629, 'myBaseline'), ('5', 'Q0', 'clueweb12-1700wb-00-29733', 3, 1498.4116, 'myBaseline'), ('5', 'Q0', 'clueweb12-0105wb-27-00600', 4, 1492.4076, 'myBaseline'), ('5', 'Q0', 'clueweb12-1514wb-77-21531', 5, 1444.791, 'myBaseline'), ('5', 'Q0', 'clueweb12-1514wb-77-21530', 6, 1444.5763, 'myBaseline'), ('5', 'Q0', 'clueweb12-0304wb-36-21225', 7, 1404.015, 'myBaseline'), ('5', 'Q0', 'clueweb12-0205wb-34-01055', 8, 1398.5314, 'myBaseline'), ('5', 'Q0', 'clueweb12-0004wb-25-32529', 9, 1398.3823, 'myBaseline'), ('5', 'Q0', 'clueweb12-0004wb-91-14312', 10, 1395.3901, 'myBaseline')]\n",
      "qid 6\n",
      "qids ['6', '6', '6', '6', '6', '6', '6', '6', '6', '6']\n",
      "part_of_commom_list [('6', 'Q0', 'clueweb12-1108wb-62-12723', 1, 1752.3738, 'myBaseline'), ('6', 'Q0', 'clueweb12-0700wb-07-17963', 2, 1571.9622, 'myBaseline'), ('6', 'Q0', 'clueweb12-1503wb-17-04250', 3, 1386.8682, 'myBaseline'), ('6', 'Q0', 'clueweb12-1615wb-44-05409', 4, 1380.675, 'myBaseline'), ('6', 'Q0', 'clueweb12-0918wb-53-05144', 5, 1288.5208, 'myBaseline'), ('6', 'Q0', 'clueweb12-0108wb-04-00698', 6, 1252.5326, 'myBaseline'), ('6', 'Q0', 'clueweb12-0202wb-45-15099', 7, 1220.6188, 'myBaseline'), ('6', 'Q0', 'clueweb12-0401wb-12-19784', 8, 1203.3354, 'myBaseline'), ('6', 'Q0', 'clueweb12-0206wb-16-11981', 9, 1202.8683, 'myBaseline'), ('6', 'Q0', 'clueweb12-0206wb-95-24343', 10, 1201.4083, 'myBaseline')]\n",
      "qid 7\n",
      "qids ['7', '7', '7', '7', '7', '7', '7', '7', '7', '7']\n",
      "part_of_commom_list [('7', 'Q0', 'clueweb12-0406wb-68-15515', 1, 3806.3564, 'myBaseline'), ('7', 'Q0', 'clueweb12-1006wb-02-18987', 2, 2340.6519, 'myBaseline'), ('7', 'Q0', 'clueweb12-1306wb-00-08922', 3, 2152.752, 'myBaseline'), ('7', 'Q0', 'clueweb12-1306wb-44-27172', 4, 1884.5493, 'myBaseline'), ('7', 'Q0', 'clueweb12-1306wb-09-00836', 5, 1823.8962, 'myBaseline'), ('7', 'Q0', 'clueweb12-1714wb-35-25150', 6, 2054.9363, 'myBaseline'), ('7', 'Q0', 'clueweb12-0011wb-86-27544', 7, 2053.5564, 'myBaseline'), ('7', 'Q0', 'clueweb12-0607wb-15-00350', 8, 2053.5525, 'myBaseline'), ('7', 'Q0', 'clueweb12-0200wb-51-13773', 9, 1870.0938, 'myBaseline'), ('7', 'Q0', 'clueweb12-0205wb-24-11195', 10, 1828.1794, 'myBaseline')]\n",
      "qid 8\n",
      "qids ['8', '8', '8', '8', '8', '8', '8', '8', '8', '8']\n",
      "part_of_commom_list [('8', 'Q0', 'clueweb12-0400wb-22-02114', 1, 861.8367, 'myBaseline'), ('8', 'Q0', 'clueweb12-1300tw-33-03020', 2, 678.7502, 'myBaseline'), ('8', 'Q0', 'clueweb12-1204wb-55-10308', 3, 499.554, 'myBaseline'), ('8', 'Q0', 'clueweb12-1201wb-35-07740', 4, 481.357, 'myBaseline'), ('8', 'Q0', 'clueweb12-0209wb-85-12445', 5, 461.09857, 'myBaseline'), ('8', 'Q0', 'clueweb12-0209wb-38-10030', 6, 460.53635, 'myBaseline'), ('8', 'Q0', 'clueweb12-1903wb-90-12704', 7, 439.2643, 'myBaseline'), ('8', 'Q0', 'clueweb12-0108wb-88-26432', 8, 436.43484, 'myBaseline'), ('8', 'Q0', 'clueweb12-0902wb-25-13001', 9, 436.30176, 'myBaseline'), ('8', 'Q0', 'clueweb12-1200tw-82-12831', 10, 429.1206, 'myBaseline')]\n",
      "qid 9\n",
      "qids ['9', '9', '9', '9', '9', '9', '9', '9', '9', '9']\n",
      "part_of_commom_list [('9', 'Q0', 'clueweb12-0904wb-85-18856', 1, 2365.0742, 'myBaseline'), ('9', 'Q0', 'clueweb12-0608wb-30-15417', 2, 2194.1843, 'myBaseline'), ('9', 'Q0', 'clueweb12-0301wb-77-03227', 3, 2089.1062, 'myBaseline'), ('9', 'Q0', 'clueweb12-1401wb-97-12406', 4, 2059.3447, 'myBaseline'), ('9', 'Q0', 'clueweb12-1404wb-80-09954', 5, 2057.574, 'myBaseline'), ('9', 'Q0', 'clueweb12-0006wb-07-01591', 6, 1873.9763, 'myBaseline'), ('9', 'Q0', 'clueweb12-0601wb-62-04643', 7, 1819.8826, 'myBaseline'), ('9', 'Q0', 'clueweb12-0612wb-12-06482', 8, 1818.3868, 'myBaseline'), ('9', 'Q0', 'clueweb12-0807wb-18-17189', 9, 1787.9879, 'myBaseline'), ('9', 'Q0', 'clueweb12-0901tw-07-10710', 10, 1761.0646, 'myBaseline')]\n",
      "qid 10\n",
      "qids ['10', '10', '10', '10', '10', '10', '10', '10', '10', '10']\n",
      "part_of_commom_list [('10', 'Q0', 'clueweb12-0002wb-19-04364', 1, 2578.986, 'myBaseline'), ('10', 'Q0', 'clueweb12-1810wb-85-17668', 2, 2526.8054, 'myBaseline'), ('10', 'Q0', 'clueweb12-1310wb-82-25157', 3, 2521.7122, 'myBaseline'), ('10', 'Q0', 'clueweb12-1311wb-65-11942', 4, 2521.7122, 'myBaseline'), ('10', 'Q0', 'clueweb12-1809wb-96-01930', 5, 2421.4575, 'myBaseline'), ('10', 'Q0', 'clueweb12-0000wb-00-37289', 6, 2399.6416, 'myBaseline'), ('10', 'Q0', 'clueweb12-1200tw-22-11874', 7, 2398.0078, 'myBaseline'), ('10', 'Q0', 'clueweb12-1400wb-01-01762', 8, 2329.6038, 'myBaseline'), ('10', 'Q0', 'clueweb12-0404wb-18-30884', 9, 2209.55, 'myBaseline'), ('10', 'Q0', 'clueweb12-1401wb-65-31381', 10, 2197.8884, 'myBaseline')]\n",
      "qid 11\n",
      "qids ['11', '11', '11', '11', '11', '11', '11', '11', '11', '11']\n",
      "part_of_commom_list [('11', 'Q0', 'clueweb12-0000wb-90-35155', 1, 5187.6753, 'myBaseline'), ('11', 'Q0', 'clueweb12-0000wb-90-35154', 2, 2702.1047, 'myBaseline'), ('11', 'Q0', 'clueweb12-0004wb-13-20946', 3, 2556.4448, 'myBaseline'), ('11', 'Q0', 'clueweb12-0712wb-97-07883', 4, 3177.4338, 'myBaseline'), ('11', 'Q0', 'clueweb12-1201wb-30-21379', 5, 3021.9702, 'myBaseline'), ('11', 'Q0', 'clueweb12-1810wb-61-05436', 6, 2693.0337, 'myBaseline'), ('11', 'Q0', 'clueweb12-0110wb-49-05110', 7, 2666.9812, 'myBaseline'), ('11', 'Q0', 'clueweb12-1703wb-98-17691', 8, 2628.8083, 'myBaseline'), ('11', 'Q0', 'clueweb12-1807wb-21-21148', 9, 2564.5706, 'myBaseline'), ('11', 'Q0', 'clueweb12-1807wb-21-21147', 10, 2553.1167, 'myBaseline')]\n",
      "qid 12\n",
      "qids ['12', '12', '12', '12', '12', '12', '12', '12', '12', '12']\n",
      "part_of_commom_list [('12', 'Q0', 'clueweb12-0917wb-35-06147', 1, 2178.1226, 'myBaseline'), ('12', 'Q0', 'clueweb12-1407wb-18-17962', 2, 1746.1011, 'myBaseline'), ('12', 'Q0', 'clueweb12-0004wb-78-20304', 3, 1745.6943, 'myBaseline'), ('12', 'Q0', 'clueweb12-0705wb-44-15816', 4, 1676.0728, 'myBaseline'), ('12', 'Q0', 'clueweb12-0707wb-63-08044', 5, 1311.928, 'myBaseline'), ('12', 'Q0', 'clueweb12-0709wb-94-09104', 6, 1275.4601, 'myBaseline'), ('12', 'Q0', 'clueweb12-0211wb-51-25813', 7, 1454.4658, 'myBaseline'), ('12', 'Q0', 'clueweb12-0511wb-15-18202', 8, 1374.4138, 'myBaseline'), ('12', 'Q0', 'clueweb12-1815wb-34-11344', 9, 1340.7268, 'myBaseline'), ('12', 'Q0', 'clueweb12-1301wb-35-20779', 10, 1298.717, 'myBaseline')]\n",
      "qid 13\n",
      "qids ['13', '13', '13', '13', '13', '13', '13', '13', '13', '13']\n",
      "part_of_commom_list [('13', 'Q0', 'clueweb12-0001wb-49-06554', 1, 1909.9131, 'myBaseline'), ('13', 'Q0', 'clueweb12-0003wb-36-33075', 2, 1877.6965, 'myBaseline'), ('13', 'Q0', 'clueweb12-0311wb-68-13222', 3, 1377.2355, 'myBaseline'), ('13', 'Q0', 'clueweb12-1400wb-90-19701', 4, 1755.744, 'myBaseline'), ('13', 'Q0', 'clueweb12-0808wb-31-22540', 5, 1553.4641, 'myBaseline'), ('13', 'Q0', 'clueweb12-0407wb-77-25064', 6, 1502.3197, 'myBaseline'), ('13', 'Q0', 'clueweb12-1707wb-37-01123', 7, 1497.8724, 'myBaseline'), ('13', 'Q0', 'clueweb12-0306wb-99-14468', 8, 1442.95, 'myBaseline'), ('13', 'Q0', 'clueweb12-0001wb-84-26440', 9, 1387.1289, 'myBaseline'), ('13', 'Q0', 'clueweb12-0001wb-84-26442', 10, 1378.6669, 'myBaseline')]\n",
      "qid 14\n",
      "qids ['14', '14', '14', '14', '14', '14', '14', '14', '14', '14']\n",
      "part_of_commom_list [('14', 'Q0', 'clueweb12-1812wb-72-01015', 1, 2422.8545, 'myBaseline'), ('14', 'Q0', 'clueweb12-0917wb-59-03359', 2, 2284.6785, 'myBaseline'), ('14', 'Q0', 'clueweb12-1300wb-04-07772', 3, 2279.349, 'myBaseline'), ('14', 'Q0', 'clueweb12-0814wb-25-22187', 4, 2278.9973, 'myBaseline'), ('14', 'Q0', 'clueweb12-0108wb-39-04606', 5, 2277.9114, 'myBaseline'), ('14', 'Q0', 'clueweb12-0914wb-21-02629', 6, 2166.7292, 'myBaseline'), ('14', 'Q0', 'clueweb12-0914wb-15-12762', 7, 2165.786, 'myBaseline'), ('14', 'Q0', 'clueweb12-1400wb-27-32675', 8, 2062.619, 'myBaseline'), ('14', 'Q0', 'clueweb12-1400wb-24-33338', 9, 2016.9719, 'myBaseline'), ('14', 'Q0', 'clueweb12-0412wb-32-20711', 10, 2023.3696, 'myBaseline')]\n",
      "qid 15\n",
      "qids ['15', '15', '15', '15', '15', '15', '15', '15', '15', '15']\n",
      "part_of_commom_list [('15', 'Q0', 'clueweb12-1100wb-31-23838', 1, 2254.8916, 'myBaseline'), ('15', 'Q0', 'clueweb12-1100wb-25-21902', 2, 1889.5887, 'myBaseline'), ('15', 'Q0', 'clueweb12-1100wb-31-23832', 3, 1885.3848, 'myBaseline'), ('15', 'Q0', 'clueweb12-1013wb-09-24812', 4, 1864.5887, 'myBaseline'), ('15', 'Q0', 'clueweb12-1100wb-47-13708', 5, 1858.0303, 'myBaseline'), ('15', 'Q0', 'clueweb12-1100wb-10-12717', 6, 1846.3628, 'myBaseline'), ('15', 'Q0', 'clueweb12-1100wb-72-13133', 7, 1820.158, 'myBaseline'), ('15', 'Q0', 'clueweb12-0700wb-97-19204', 8, 1835.4706, 'myBaseline'), ('15', 'Q0', 'clueweb12-0705wb-19-24823', 9, 1831.9785, 'myBaseline'), ('15', 'Q0', 'clueweb12-0714wb-22-17821', 10, 1815.3912, 'myBaseline')]\n",
      "qid 16\n",
      "qids ['16', '16', '16', '16', '16', '16', '16', '16', '16', '16']\n",
      "part_of_commom_list [('16', 'Q0', 'clueweb12-1910wb-85-24054', 1, 2625.0579, 'myBaseline'), ('16', 'Q0', 'clueweb12-1717wb-40-30160', 2, 2542.919, 'myBaseline'), ('16', 'Q0', 'clueweb12-0212wb-12-15620', 3, 2517.474, 'myBaseline'), ('16', 'Q0', 'clueweb12-0000wb-59-05036', 4, 2366.9282, 'myBaseline'), ('16', 'Q0', 'clueweb12-0402wb-83-12607', 5, 2366.8252, 'myBaseline'), ('16', 'Q0', 'clueweb12-0003wb-10-10174', 6, 2365.8425, 'myBaseline'), ('16', 'Q0', 'clueweb12-0002wb-44-19666', 7, 2364.8906, 'myBaseline'), ('16', 'Q0', 'clueweb12-0412wb-04-11473', 8, 2228.255, 'myBaseline'), ('16', 'Q0', 'clueweb12-1000tw-94-00383', 9, 2209.5156, 'myBaseline'), ('16', 'Q0', 'clueweb12-0103wb-01-06121', 10, 2208.5508, 'myBaseline')]\n",
      "qid 17\n",
      "qids ['17', '17', '17', '17', '17', '17', '17', '17', '17', '17']\n",
      "part_of_commom_list [('17', 'Q0', 'clueweb12-0601wb-11-03173', 1, 2269.2075, 'myBaseline'), ('17', 'Q0', 'clueweb12-0902wb-74-09332', 2, 1884.0018, 'myBaseline'), ('17', 'Q0', 'clueweb12-0110wb-12-26753', 3, 1883.8434, 'myBaseline'), ('17', 'Q0', 'clueweb12-1117wb-08-00277', 4, 1825.1682, 'myBaseline'), ('17', 'Q0', 'clueweb12-1305wb-68-01189', 5, 1764.7173, 'myBaseline'), ('17', 'Q0', 'clueweb12-1018wb-92-03847', 6, 1670.7734, 'myBaseline'), ('17', 'Q0', 'clueweb12-1310wb-91-09143', 7, 1588.4396, 'myBaseline'), ('17', 'Q0', 'clueweb12-1311wb-36-01003', 8, 1587.7068, 'myBaseline'), ('17', 'Q0', 'clueweb12-1211wb-09-09058', 9, 1582.4857, 'myBaseline'), ('17', 'Q0', 'clueweb12-1803wb-33-27927', 10, 1552.059, 'myBaseline')]\n",
      "qid 18\n",
      "qids ['18', '18', '18', '18', '18', '18', '18', '18', '18', '18']\n",
      "part_of_commom_list [('18', 'Q0', 'clueweb12-0818wb-78-10922', 1, 2397.3867, 'myBaseline'), ('18', 'Q0', 'clueweb12-0102wb-04-29237', 2, 2116.3796, 'myBaseline'), ('18', 'Q0', 'clueweb12-0107wb-72-13169', 3, 2067.2312, 'myBaseline'), ('18', 'Q0', 'clueweb12-0108wb-89-03167', 4, 2035.6434, 'myBaseline'), ('18', 'Q0', 'clueweb12-0110wb-18-14169', 5, 2019.3444, 'myBaseline'), ('18', 'Q0', 'clueweb12-0109wb-42-00037', 6, 2019.0596, 'myBaseline'), ('18', 'Q0', 'clueweb12-0403wb-79-02483', 7, 1993.4244, 'myBaseline'), ('18', 'Q0', 'clueweb12-0108wb-79-10045', 8, 1992.906, 'myBaseline'), ('18', 'Q0', 'clueweb12-0109wb-58-00724', 9, 1992.9012, 'myBaseline'), ('18', 'Q0', 'clueweb12-0109wb-29-14017', 10, 1992.4408, 'myBaseline')]\n",
      "qid 19\n",
      "qids ['19', '19', '19', '19', '19', '19', '19', '19', '19', '19']\n",
      "part_of_commom_list [('19', 'Q0', 'clueweb12-1803wb-69-12812', 1, 2834.576, 'myBaseline'), ('19', 'Q0', 'clueweb12-1804wb-49-18491', 2, 2833.1157, 'myBaseline'), ('19', 'Q0', 'clueweb12-0714wb-31-04833', 3, 2139.3584, 'myBaseline'), ('19', 'Q0', 'clueweb12-0409wb-38-21901', 4, 1903.3978, 'myBaseline'), ('19', 'Q0', 'clueweb12-1201wb-33-04864', 5, 1796.1527, 'myBaseline'), ('19', 'Q0', 'clueweb12-1500tw-29-07408', 6, 1769.0062, 'myBaseline'), ('19', 'Q0', 'clueweb12-1210wb-44-30069', 7, 1760.7059, 'myBaseline'), ('19', 'Q0', 'clueweb12-1210wb-44-30068', 8, 1760.3821, 'myBaseline'), ('19', 'Q0', 'clueweb12-0311wb-51-05389', 9, 1760.1296, 'myBaseline'), ('19', 'Q0', 'clueweb12-1210wb-31-29718', 10, 1759.0773, 'myBaseline')]\n",
      "qid 20\n",
      "qids ['20', '20', '20', '20', '20', '20', '20', '20', '20', '20']\n",
      "part_of_commom_list [('20', 'Q0', 'clueweb12-1510wb-44-18017', 1, 1435.0529, 'myBaseline'), ('20', 'Q0', 'clueweb12-0006wb-79-22412', 2, 1302.7777, 'myBaseline'), ('20', 'Q0', 'clueweb12-1800tw-09-15668', 3, 1232.6312, 'myBaseline'), ('20', 'Q0', 'clueweb12-0106wb-26-31569', 4, 1152.6702, 'myBaseline'), ('20', 'Q0', 'clueweb12-0712wb-57-22166', 5, 1140.7644, 'myBaseline'), ('20', 'Q0', 'clueweb12-1708wb-50-05698', 6, 1094.0303, 'myBaseline'), ('20', 'Q0', 'clueweb12-1703wb-92-03995', 7, 1074.152, 'myBaseline'), ('20', 'Q0', 'clueweb12-1803wb-94-20285', 8, 1082.5297, 'myBaseline'), ('20', 'Q0', 'clueweb12-1005wb-28-15863', 9, 1048.626, 'myBaseline'), ('20', 'Q0', 'clueweb12-1313wb-44-01890', 10, 1036.3259, 'myBaseline')]\n",
      "qid 21\n",
      "qids ['21', '21', '21', '21', '21', '21', '21', '21', '21', '21']\n",
      "part_of_commom_list [('21', 'Q0', 'clueweb12-0814wb-94-19887', 1, 2457.1157, 'myBaseline'), ('21', 'Q0', 'clueweb12-1500tw-65-20888', 2, 2055.541, 'myBaseline'), ('21', 'Q0', 'clueweb12-0901wb-97-15135', 3, 1997.3848, 'myBaseline'), ('21', 'Q0', 'clueweb12-0608wb-30-15417', 4, 1747.3593, 'myBaseline'), ('21', 'Q0', 'clueweb12-1709wb-00-06683', 5, 1709.7877, 'myBaseline'), ('21', 'Q0', 'clueweb12-0303wb-22-32757', 6, 1697.3243, 'myBaseline'), ('21', 'Q0', 'clueweb12-0209wb-71-24198', 7, 1649.3395, 'myBaseline'), ('21', 'Q0', 'clueweb12-1206wb-98-18986', 8, 1638.2543, 'myBaseline'), ('21', 'Q0', 'clueweb12-0206wb-07-31331', 9, 1607.7067, 'myBaseline'), ('21', 'Q0', 'clueweb12-0202wb-03-15141', 10, 1551.2601, 'myBaseline')]\n",
      "qid 22\n",
      "qids ['22', '22', '22', '22', '22', '22', '22', '22', '22', '22']\n",
      "part_of_commom_list [('22', 'Q0', 'clueweb12-0500wb-25-00601', 1, 2409.3193, 'myBaseline'), ('22', 'Q0', 'clueweb12-1412wb-02-24400', 2, 2320.117, 'myBaseline'), ('22', 'Q0', 'clueweb12-0406wb-48-23319', 3, 2302.2246, 'myBaseline'), ('22', 'Q0', 'clueweb12-0300tw-99-18896', 4, 2213.583, 'myBaseline'), ('22', 'Q0', 'clueweb12-1800tw-33-09364', 5, 2206.0906, 'myBaseline'), ('22', 'Q0', 'clueweb12-1306wb-03-10768', 6, 2163.6013, 'myBaseline'), ('22', 'Q0', 'clueweb12-0606wb-45-16249', 7, 2153.1423, 'myBaseline'), ('22', 'Q0', 'clueweb12-0919wb-01-03609', 8, 2133.0562, 'myBaseline'), ('22', 'Q0', 'clueweb12-0705wb-38-03100', 9, 2121.3381, 'myBaseline'), ('22', 'Q0', 'clueweb12-0803wb-38-09130', 10, 2093.4897, 'myBaseline')]\n",
      "qid 23\n",
      "qids ['23', '23', '23', '23', '23', '23', '23', '23', '23', '23']\n",
      "part_of_commom_list [('23', 'Q0', 'clueweb12-0710wb-92-11757', 1, 2386.7063, 'myBaseline'), ('23', 'Q0', 'clueweb12-1713wb-28-16656', 2, 2027.9169, 'myBaseline'), ('23', 'Q0', 'clueweb12-1400wb-42-20109', 3, 2023.694, 'myBaseline'), ('23', 'Q0', 'clueweb12-1400wb-29-10652', 4, 1899.614, 'myBaseline'), ('23', 'Q0', 'clueweb12-1400wb-29-10653', 5, 1885.6621, 'myBaseline'), ('23', 'Q0', 'clueweb12-0306wb-79-24718', 6, 2022.2493, 'myBaseline'), ('23', 'Q0', 'clueweb12-0100wb-49-30942', 7, 2000.531, 'myBaseline'), ('23', 'Q0', 'clueweb12-0405wb-59-34518', 8, 1969.8613, 'myBaseline'), ('23', 'Q0', 'clueweb12-0801wb-13-14942', 9, 1957.7416, 'myBaseline'), ('23', 'Q0', 'clueweb12-0303wb-26-09477', 10, 1895.7302, 'myBaseline')]\n",
      "qid 24\n",
      "qids ['24', '24', '24', '24', '24', '24', '24', '24', '24', '24']\n",
      "part_of_commom_list [('24', 'Q0', 'clueweb12-1909wb-84-00028', 1, 2607.0715, 'myBaseline'), ('24', 'Q0', 'clueweb12-1201tw-14-09969', 2, 2305.6196, 'myBaseline'), ('24', 'Q0', 'clueweb12-1201tw-14-10029', 3, 2305.386, 'myBaseline'), ('24', 'Q0', 'clueweb12-0507wb-50-17495', 4, 2045.1389, 'myBaseline'), ('24', 'Q0', 'clueweb12-0202wb-55-31717', 5, 2035.1406, 'myBaseline'), ('24', 'Q0', 'clueweb12-0508wb-46-16865', 6, 1844.9164, 'myBaseline'), ('24', 'Q0', 'clueweb12-0508wb-18-32766', 7, 1524.8363, 'myBaseline'), ('24', 'Q0', 'clueweb12-1804wb-67-21213', 8, 1980.13, 'myBaseline'), ('24', 'Q0', 'clueweb12-1804wb-82-11623', 9, 1972.0378, 'myBaseline'), ('24', 'Q0', 'clueweb12-1110wb-80-21165', 10, 1545.0707, 'myBaseline')]\n",
      "qid 25\n",
      "qids ['25', '25', '25', '25', '25', '25', '25', '25', '25', '25']\n",
      "part_of_commom_list [('25', 'Q0', 'clueweb12-1613wb-53-29431', 1, 3401.8188, 'myBaseline'), ('25', 'Q0', 'clueweb12-1707wb-40-13587', 2, 3317.9924, 'myBaseline'), ('25', 'Q0', 'clueweb12-0008wb-80-18875', 3, 2977.6597, 'myBaseline'), ('25', 'Q0', 'clueweb12-1803wb-69-04579', 4, 2746.9888, 'myBaseline'), ('25', 'Q0', 'clueweb12-1803wb-37-03576', 5, 2561.5085, 'myBaseline'), ('25', 'Q0', 'clueweb12-1803wb-69-04578', 6, 2556.3643, 'myBaseline'), ('25', 'Q0', 'clueweb12-0205wb-77-29537', 7, 2619.4346, 'myBaseline'), ('25', 'Q0', 'clueweb12-0205wb-71-13542', 8, 2619.2412, 'myBaseline'), ('25', 'Q0', 'clueweb12-0609wb-09-22031', 9, 2439.632, 'myBaseline'), ('25', 'Q0', 'clueweb12-1212wb-97-22785', 10, 2341.8916, 'myBaseline')]\n",
      "qid 26\n",
      "qids ['26', '26', '26', '26', '26', '26', '26', '26', '26', '26']\n",
      "part_of_commom_list [('26', 'Q0', 'clueweb12-0800wb-21-08391', 1, 1965.1902, 'myBaseline'), ('26', 'Q0', 'clueweb12-1903wb-34-24217', 2, 1633.062, 'myBaseline'), ('26', 'Q0', 'clueweb12-1807wb-27-16722', 3, 1461.4073, 'myBaseline'), ('26', 'Q0', 'clueweb12-1011wb-03-16991', 4, 1418.1685, 'myBaseline'), ('26', 'Q0', 'clueweb12-0102wb-50-20156', 5, 1400.367, 'myBaseline'), ('26', 'Q0', 'clueweb12-0805wb-17-11774', 6, 1400.2198, 'myBaseline'), ('26', 'Q0', 'clueweb12-0805wb-17-11779', 7, 1380.7533, 'myBaseline'), ('26', 'Q0', 'clueweb12-0805wb-17-11776', 8, 1376.6838, 'myBaseline'), ('26', 'Q0', 'clueweb12-0700tw-55-13335', 9, 1378.8375, 'myBaseline'), ('26', 'Q0', 'clueweb12-0700tw-55-13336', 10, 1378.3346, 'myBaseline')]\n",
      "qid 27\n",
      "qids ['27', '27', '27', '27', '27', '27', '27', '27', '27', '27']\n",
      "part_of_commom_list [('27', 'Q0', 'clueweb12-1304wb-19-02214', 1, 3323.0435, 'myBaseline'), ('27', 'Q0', 'clueweb12-1302wb-15-01481', 2, 3318.9329, 'myBaseline'), ('27', 'Q0', 'clueweb12-0208wb-73-03549', 3, 3277.5435, 'myBaseline'), ('27', 'Q0', 'clueweb12-0211wb-11-01501', 4, 2995.6926, 'myBaseline'), ('27', 'Q0', 'clueweb12-0302wb-70-09979', 5, 2981.0938, 'myBaseline'), ('27', 'Q0', 'clueweb12-0200wb-06-09860', 6, 2621.7754, 'myBaseline'), ('27', 'Q0', 'clueweb12-0200wb-59-19790', 7, 2500.0679, 'myBaseline'), ('27', 'Q0', 'clueweb12-1702wb-96-01561', 8, 2529.381, 'myBaseline'), ('27', 'Q0', 'clueweb12-0111wb-65-22872', 9, 2421.8625, 'myBaseline'), ('27', 'Q0', 'clueweb12-0105wb-07-11294', 10, 2355.6233, 'myBaseline')]\n",
      "qid 28\n",
      "qids ['28', '28', '28', '28', '28', '28', '28', '28', '28', '28']\n",
      "part_of_commom_list [('28', 'Q0', 'clueweb12-1016wb-89-21819', 1, 2113.1082, 'myBaseline'), ('28', 'Q0', 'clueweb12-0912wb-57-10249', 2, 1913.2206, 'myBaseline'), ('28', 'Q0', 'clueweb12-1400tw-65-19064', 3, 1852.8394, 'myBaseline'), ('28', 'Q0', 'clueweb12-1113wb-10-18054', 4, 1840.0375, 'myBaseline'), ('28', 'Q0', 'clueweb12-1616wb-91-11855', 5, 1730.4822, 'myBaseline'), ('28', 'Q0', 'clueweb12-1616wb-91-11856', 6, 1647.3423, 'myBaseline'), ('28', 'Q0', 'clueweb12-0700tw-78-18582', 7, 1629.7622, 'myBaseline'), ('28', 'Q0', 'clueweb12-0700tw-78-18581', 8, 1613.1112, 'myBaseline'), ('28', 'Q0', 'clueweb12-1100tw-61-03500', 9, 1597.7174, 'myBaseline'), ('28', 'Q0', 'clueweb12-1613wb-59-24912', 10, 1588.5775, 'myBaseline')]\n",
      "qid 29\n",
      "qids ['29', '29', '29', '29', '29', '29', '29', '29', '29', '29']\n",
      "part_of_commom_list [('29', 'Q0', 'clueweb12-0310wb-02-11526', 1, 2264.9023, 'myBaseline'), ('29', 'Q0', 'clueweb12-1613wb-59-07511', 2, 1406.0793, 'myBaseline'), ('29', 'Q0', 'clueweb12-0900tw-46-22842', 3, 1310.185, 'myBaseline'), ('29', 'Q0', 'clueweb12-1114wb-21-21773', 4, 1087.0885, 'myBaseline'), ('29', 'Q0', 'clueweb12-1009wb-24-19636', 5, 965.9037, 'myBaseline'), ('29', 'Q0', 'clueweb12-1500tw-17-13365', 6, 909.2907, 'myBaseline'), ('29', 'Q0', 'clueweb12-1500tw-88-02404', 7, 905.76166, 'myBaseline'), ('29', 'Q0', 'clueweb12-1500tw-65-07710', 8, 877.7601, 'myBaseline'), ('29', 'Q0', 'clueweb12-0705wb-47-22323', 9, 829.257, 'myBaseline'), ('29', 'Q0', 'clueweb12-1410wb-51-21420', 10, 781.7638, 'myBaseline')]\n",
      "qid 30\n",
      "qids ['30', '30', '30', '30', '30', '30', '30', '30', '30', '30']\n",
      "part_of_commom_list [('30', 'Q0', 'clueweb12-0202wb-22-24386', 1, 2768.5452, 'myBaseline'), ('30', 'Q0', 'clueweb12-1200tw-41-16121', 2, 1774.2173, 'myBaseline'), ('30', 'Q0', 'clueweb12-1200tw-62-10847', 3, 1689.1016, 'myBaseline'), ('30', 'Q0', 'clueweb12-1200tw-62-10848', 4, 1688.5314, 'myBaseline'), ('30', 'Q0', 'clueweb12-0702wb-15-15974', 5, 1660.6475, 'myBaseline'), ('30', 'Q0', 'clueweb12-0910wb-18-02368', 6, 1557.288, 'myBaseline'), ('30', 'Q0', 'clueweb12-0704wb-31-26893', 7, 1399.5833, 'myBaseline'), ('30', 'Q0', 'clueweb12-1500tw-06-12053', 8, 1397.749, 'myBaseline'), ('30', 'Q0', 'clueweb12-1500tw-04-12715', 9, 1396.5035, 'myBaseline'), ('30', 'Q0', 'clueweb12-1109wb-13-18433', 10, 1377.7719, 'myBaseline')]\n",
      "qid 31\n",
      "qids ['31', '31', '31', '31', '31', '31', '31', '31', '31', '31']\n",
      "part_of_commom_list [('31', 'Q0', 'clueweb12-1913wb-84-09751', 1, 2512.4922, 'myBaseline'), ('31', 'Q0', 'clueweb12-0102wb-31-23254', 2, 1993.8804, 'myBaseline'), ('31', 'Q0', 'clueweb12-0715wb-38-07606', 3, 1939.1674, 'myBaseline'), ('31', 'Q0', 'clueweb12-1115wb-14-07330', 4, 1860.7598, 'myBaseline'), ('31', 'Q0', 'clueweb12-0000wb-01-18038', 5, 1847.3177, 'myBaseline'), ('31', 'Q0', 'clueweb12-0202wb-07-13201', 6, 1846.3837, 'myBaseline'), ('31', 'Q0', 'clueweb12-0112wb-44-29231', 7, 1844.2065, 'myBaseline'), ('31', 'Q0', 'clueweb12-1616wb-16-20774', 8, 1839.263, 'myBaseline'), ('31', 'Q0', 'clueweb12-1300tw-90-09230', 9, 1756.9121, 'myBaseline'), ('31', 'Q0', 'clueweb12-0312wb-17-26594', 10, 1732.9099, 'myBaseline')]\n",
      "qid 32\n",
      "qids ['32', '32', '32', '32', '32', '32', '32', '32', '32', '32']\n",
      "part_of_commom_list [('32', 'Q0', 'clueweb12-1901wb-64-20301', 1, 2631.8691, 'myBaseline'), ('32', 'Q0', 'clueweb12-1803wb-12-05434', 2, 2275.5444, 'myBaseline'), ('32', 'Q0', 'clueweb12-1803wb-34-00280', 3, 1960.8955, 'myBaseline'), ('32', 'Q0', 'clueweb12-1803wb-12-05444', 4, 1958.8866, 'myBaseline'), ('32', 'Q0', 'clueweb12-1801wb-08-27198', 5, 1957.4111, 'myBaseline'), ('32', 'Q0', 'clueweb12-1803wb-12-05442', 6, 1932.0599, 'myBaseline'), ('32', 'Q0', 'clueweb12-1707wb-39-17465', 7, 2061.1255, 'myBaseline'), ('32', 'Q0', 'clueweb12-1202wb-25-16798', 8, 1968.9701, 'myBaseline'), ('32', 'Q0', 'clueweb12-1801wb-32-28144', 9, 1959.2212, 'myBaseline'), ('32', 'Q0', 'clueweb12-1703wb-98-17691', 10, 1952.2311, 'myBaseline')]\n",
      "qid 33\n",
      "qids ['33', '33', '33', '33', '33', '33', '33', '33', '33', '33']\n",
      "part_of_commom_list [('33', 'Q0', 'clueweb12-0503wb-44-34054', 1, 1659.914, 'myBaseline'), ('33', 'Q0', 'clueweb12-0212wb-10-08767', 2, 1646.7186, 'myBaseline'), ('33', 'Q0', 'clueweb12-0009wb-82-08647', 3, 1637.7701, 'myBaseline'), ('33', 'Q0', 'clueweb12-0611wb-28-15097', 4, 1637.3322, 'myBaseline'), ('33', 'Q0', 'clueweb12-0209wb-53-04360', 5, 1547.0029, 'myBaseline'), ('33', 'Q0', 'clueweb12-0206wb-17-12026', 6, 1544.0474, 'myBaseline'), ('33', 'Q0', 'clueweb12-1109wb-05-22354', 7, 1521.3788, 'myBaseline'), ('33', 'Q0', 'clueweb12-0506wb-41-21774', 8, 1489.1769, 'myBaseline'), ('33', 'Q0', 'clueweb12-0005wb-50-29434', 9, 1466.9785, 'myBaseline'), ('33', 'Q0', 'clueweb12-1700wb-66-02309', 10, 1459.7189, 'myBaseline')]\n",
      "qid 34\n",
      "qids ['34', '34', '34', '34', '34', '34', '34', '34', '34', '34']\n",
      "part_of_commom_list [('34', 'Q0', 'clueweb12-1313wb-65-05083', 1, 2638.6235, 'myBaseline'), ('34', 'Q0', 'clueweb12-0310wb-87-04609', 2, 2384.4077, 'myBaseline'), ('34', 'Q0', 'clueweb12-0004wb-25-35255', 3, 2227.7292, 'myBaseline'), ('34', 'Q0', 'clueweb12-0309wb-64-08181', 4, 2105.8193, 'myBaseline'), ('34', 'Q0', 'clueweb12-0007wb-69-30265', 5, 2194.5928, 'myBaseline'), ('34', 'Q0', 'clueweb12-1708wb-13-03669', 6, 2189.9343, 'myBaseline'), ('34', 'Q0', 'clueweb12-1708wb-37-05778', 7, 2057.7615, 'myBaseline'), ('34', 'Q0', 'clueweb12-0010wb-73-33411', 8, 2091.0635, 'myBaseline'), ('34', 'Q0', 'clueweb12-0101wb-61-12535', 9, 1995.2197, 'myBaseline'), ('34', 'Q0', 'clueweb12-1414wb-05-16226', 10, 1855.8795, 'myBaseline')]\n",
      "qid 35\n",
      "qids ['35', '35', '35', '35', '35', '35', '35', '35', '35', '35']\n",
      "part_of_commom_list [('35', 'Q0', 'clueweb12-0013wb-62-19946', 1, 2165.5022, 'myBaseline'), ('35', 'Q0', 'clueweb12-1013wb-21-12003', 2, 1787.3882, 'myBaseline'), ('35', 'Q0', 'clueweb12-1607wb-47-12295', 3, 1634.0709, 'myBaseline'), ('35', 'Q0', 'clueweb12-0700tw-59-18220', 4, 1586.2216, 'myBaseline'), ('35', 'Q0', 'clueweb12-0800wb-08-15191', 5, 1481.2457, 'myBaseline'), ('35', 'Q0', 'clueweb12-1010wb-99-14404', 6, 1389.3776, 'myBaseline'), ('35', 'Q0', 'clueweb12-1009wb-91-25544', 7, 1383.4182, 'myBaseline'), ('35', 'Q0', 'clueweb12-1000tw-89-02426', 8, 1318.8213, 'myBaseline'), ('35', 'Q0', 'clueweb12-0503wb-32-13971', 9, 1249.4417, 'myBaseline'), ('35', 'Q0', 'clueweb12-0111wb-31-21557', 10, 1219.2471, 'myBaseline')]\n",
      "qid 36\n",
      "qids ['36', '36', '36', '36', '36', '36', '36', '36', '36', '36']\n",
      "part_of_commom_list [('36', 'Q0', 'clueweb12-0909wb-33-05396', 1, 685.99585, 'myBaseline'), ('36', 'Q0', 'clueweb12-0210wb-36-12381', 2, 644.71045, 'myBaseline'), ('36', 'Q0', 'clueweb12-1600wb-48-24823', 3, 638.92816, 'myBaseline'), ('36', 'Q0', 'clueweb12-1500tw-57-11721', 4, 595.2499, 'myBaseline'), ('36', 'Q0', 'clueweb12-1600wb-48-24824', 5, 506.7829, 'myBaseline'), ('36', 'Q0', 'clueweb12-0101wb-28-19329', 6, 503.45755, 'myBaseline'), ('36', 'Q0', 'clueweb12-1103wb-61-21509', 7, 636.8653, 'myBaseline'), ('36', 'Q0', 'clueweb12-0705wb-84-28497', 8, 506.8494, 'myBaseline'), ('36', 'Q0', 'clueweb12-1500tw-99-11508', 9, 503.79437, 'myBaseline'), ('36', 'Q0', 'clueweb12-1901wb-55-11425', 10, 496.30472, 'myBaseline')]\n",
      "qid 37\n",
      "qids ['37', '37', '37', '37', '37', '37', '37', '37', '37', '37']\n",
      "part_of_commom_list [('37', 'Q0', 'clueweb12-0604wb-40-13247', 1, 1625.6321, 'myBaseline'), ('37', 'Q0', 'clueweb12-0110wb-73-23384', 2, 1195.0476, 'myBaseline'), ('37', 'Q0', 'clueweb12-1400wb-78-13606', 3, 869.881, 'myBaseline'), ('37', 'Q0', 'clueweb12-1501wb-91-10835', 4, 741.94446, 'myBaseline'), ('37', 'Q0', 'clueweb12-0403wb-85-02767', 5, 558.68097, 'myBaseline'), ('37', 'Q0', 'clueweb12-0813wb-23-02371', 6, 330.02948, 'myBaseline'), ('37', 'Q0', 'clueweb12-0402wb-68-02125', 7, 293.80374, 'myBaseline'), ('37', 'Q0', 'clueweb12-0507wb-24-20527', 8, 255.7871, 'myBaseline'), ('37', 'Q0', 'clueweb12-1612wb-13-28615', 9, 254.9287, 'myBaseline'), ('37', 'Q0', 'clueweb12-0010wb-65-15025', 10, 254.1778, 'myBaseline')]\n",
      "qid 38\n",
      "qids ['38', '38', '38', '38', '38', '38', '38', '38', '38', '38']\n",
      "part_of_commom_list [('38', 'Q0', 'clueweb12-1402wb-82-32995', 1, 2051.7915, 'myBaseline'), ('38', 'Q0', 'clueweb12-0302wb-98-19930', 2, 2043.0697, 'myBaseline'), ('38', 'Q0', 'clueweb12-1901wb-05-26083', 3, 2002.3276, 'myBaseline'), ('38', 'Q0', 'clueweb12-0007wb-51-04310', 4, 1734.8357, 'myBaseline'), ('38', 'Q0', 'clueweb12-0008wb-01-22768', 5, 1577.518, 'myBaseline'), ('38', 'Q0', 'clueweb12-0907wb-07-20070', 6, 1678.9121, 'myBaseline'), ('38', 'Q0', 'clueweb12-0907wb-07-20071', 7, 1677.9884, 'myBaseline'), ('38', 'Q0', 'clueweb12-1703wb-05-02807', 8, 1662.1976, 'myBaseline'), ('38', 'Q0', 'clueweb12-0906wb-70-03707', 9, 1581.3693, 'myBaseline'), ('38', 'Q0', 'clueweb12-0112wb-01-23623', 10, 1548.0596, 'myBaseline')]\n",
      "qid 39\n",
      "qids ['39', '39', '39', '39', '39', '39', '39', '39', '39', '39']\n",
      "part_of_commom_list [('39', 'Q0', 'clueweb12-1110wb-79-12995', 1, 2485.5737, 'myBaseline'), ('39', 'Q0', 'clueweb12-1607wb-16-32221', 2, 2244.5347, 'myBaseline'), ('39', 'Q0', 'clueweb12-1607wb-90-15673', 3, 2044.5778, 'myBaseline'), ('39', 'Q0', 'clueweb12-1606wb-93-28198', 4, 1858.8303, 'myBaseline'), ('39', 'Q0', 'clueweb12-1606wb-98-09444', 5, 1855.5426, 'myBaseline'), ('39', 'Q0', 'clueweb12-1000wb-47-12194', 6, 2190.5188, 'myBaseline'), ('39', 'Q0', 'clueweb12-0901wb-05-13517', 7, 2180.4749, 'myBaseline'), ('39', 'Q0', 'clueweb12-0806wb-47-22790', 8, 2048.665, 'myBaseline'), ('39', 'Q0', 'clueweb12-0810wb-40-04626', 9, 1831.5548, 'myBaseline'), ('39', 'Q0', 'clueweb12-1800wb-07-01548', 10, 1827.0327, 'myBaseline')]\n",
      "qid 40\n",
      "qids ['40', '40', '40', '40', '40', '40', '40', '40', '40', '40']\n",
      "part_of_commom_list [('40', 'Q0', 'clueweb12-0716wb-20-08246', 1, 2777.8997, 'myBaseline'), ('40', 'Q0', 'clueweb12-0700tw-61-06573', 2, 2758.6445, 'myBaseline'), ('40', 'Q0', 'clueweb12-0500tw-35-13168', 3, 2450.2397, 'myBaseline'), ('40', 'Q0', 'clueweb12-0500tw-35-13169', 4, 2448.5024, 'myBaseline'), ('40', 'Q0', 'clueweb12-0805wb-58-15744', 5, 2604.5032, 'myBaseline'), ('40', 'Q0', 'clueweb12-0604wb-65-25567', 6, 2586.6353, 'myBaseline'), ('40', 'Q0', 'clueweb12-0700tw-41-20357', 7, 2535.3645, 'myBaseline'), ('40', 'Q0', 'clueweb12-0700tw-61-08228', 8, 2500.514, 'myBaseline'), ('40', 'Q0', 'clueweb12-0700tw-61-08227', 9, 2488.5352, 'myBaseline'), ('40', 'Q0', 'clueweb12-0813wb-32-14298', 10, 2494.0137, 'myBaseline')]\n",
      "qid 41\n",
      "qids ['41', '41', '41', '41', '41', '41', '41', '41', '41', '41']\n",
      "part_of_commom_list [('41', 'Q0', 'clueweb12-1810wb-91-29971', 1, 2117.1733, 'myBaseline'), ('41', 'Q0', 'clueweb12-0902wb-18-09608', 2, 2031.8689, 'myBaseline'), ('41', 'Q0', 'clueweb12-1701wb-83-09766', 3, 1958.5264, 'myBaseline'), ('41', 'Q0', 'clueweb12-0300tw-70-13919', 4, 1846.6296, 'myBaseline'), ('41', 'Q0', 'clueweb12-0012wb-24-09782', 5, 1872.1812, 'myBaseline'), ('41', 'Q0', 'clueweb12-0100wb-64-09088', 6, 1872.0645, 'myBaseline'), ('41', 'Q0', 'clueweb12-1111wb-64-17670', 7, 1847.4586, 'myBaseline'), ('41', 'Q0', 'clueweb12-0503wb-89-03989', 8, 1819.2454, 'myBaseline'), ('41', 'Q0', 'clueweb12-1414wb-17-01337', 9, 1745.8972, 'myBaseline'), ('41', 'Q0', 'clueweb12-1501tw-01-04020', 10, 1730.1366, 'myBaseline')]\n",
      "qid 42\n",
      "qids ['42', '42', '42', '42', '42', '42', '42', '42', '42', '42']\n",
      "part_of_commom_list [('42', 'Q0', 'clueweb12-0101wb-47-04374', 1, 1653.5819, 'myBaseline'), ('42', 'Q0', 'clueweb12-0011wb-84-29580', 2, 1482.7922, 'myBaseline'), ('42', 'Q0', 'clueweb12-1105wb-60-26395', 3, 1595.0826, 'myBaseline'), ('42', 'Q0', 'clueweb12-1413wb-26-16194', 4, 1551.1786, 'myBaseline'), ('42', 'Q0', 'clueweb12-1105wb-56-01275', 5, 1547.8842, 'myBaseline'), ('42', 'Q0', 'clueweb12-1805wb-71-25252', 6, 1538.8435, 'myBaseline'), ('42', 'Q0', 'clueweb12-1810wb-92-05199', 7, 1538.6447, 'myBaseline'), ('42', 'Q0', 'clueweb12-1513wb-32-06260', 8, 1536.6824, 'myBaseline'), ('42', 'Q0', 'clueweb12-1204wb-48-10019', 9, 1483.06, 'myBaseline'), ('42', 'Q0', 'clueweb12-1409wb-32-07261', 10, 1478.4872, 'myBaseline')]\n",
      "qid 43\n",
      "qids ['43', '43', '43', '43', '43', '43', '43', '43', '43', '43']\n",
      "part_of_commom_list [('43', 'Q0', 'clueweb12-0309wb-00-05832', 1, 1640.8926, 'myBaseline'), ('43', 'Q0', 'clueweb12-0309wb-10-21240', 2, 1528.4817, 'myBaseline'), ('43', 'Q0', 'clueweb12-0007wb-49-21319', 3, 1111.0759, 'myBaseline'), ('43', 'Q0', 'clueweb12-0309wb-00-05831', 4, 1098.9277, 'myBaseline'), ('43', 'Q0', 'clueweb12-0310wb-29-14258', 5, 1040.4344, 'myBaseline'), ('43', 'Q0', 'clueweb12-1011wb-33-24536', 6, 1549.3976, 'myBaseline'), ('43', 'Q0', 'clueweb12-0100wb-20-00103', 7, 1218.6162, 'myBaseline'), ('43', 'Q0', 'clueweb12-0101wb-68-08204', 8, 1217.6324, 'myBaseline'), ('43', 'Q0', 'clueweb12-0104wb-56-33524', 9, 1118.6733, 'myBaseline'), ('43', 'Q0', 'clueweb12-0909wb-00-28431', 10, 1027.366, 'myBaseline')]\n",
      "qid 44\n",
      "qids ['44', '44', '44', '44', '44', '44', '44', '44', '44', '44']\n",
      "part_of_commom_list [('44', 'Q0', 'clueweb12-1110wb-89-11230', 1, 1244.5388, 'myBaseline'), ('44', 'Q0', 'clueweb12-0712wb-46-00113', 2, 1177.1425, 'myBaseline'), ('44', 'Q0', 'clueweb12-0500tw-03-01920', 3, 1080.4108, 'myBaseline'), ('44', 'Q0', 'clueweb12-0112wb-28-13818', 4, 1003.2331, 'myBaseline'), ('44', 'Q0', 'clueweb12-0512wb-62-14441', 5, 1001.81476, 'myBaseline'), ('44', 'Q0', 'clueweb12-0007wb-93-28271', 6, 1000.1839, 'myBaseline'), ('44', 'Q0', 'clueweb12-1013wb-52-18135', 7, 846.56995, 'myBaseline'), ('44', 'Q0', 'clueweb12-1000tw-77-01689', 8, 835.1294, 'myBaseline'), ('44', 'Q0', 'clueweb12-1000tw-77-01695', 9, 834.0231, 'myBaseline'), ('44', 'Q0', 'clueweb12-1000tw-79-08954', 10, 833.63947, 'myBaseline')]\n",
      "qid 45\n",
      "qids ['45', '45', '45', '45', '45', '45', '45', '45', '45', '45']\n",
      "part_of_commom_list [('45', 'Q0', 'clueweb12-1416wb-41-24860', 1, 1618.0314, 'myBaseline'), ('45', 'Q0', 'clueweb12-1414wb-78-29559', 2, 1607.9778, 'myBaseline'), ('45', 'Q0', 'clueweb12-1414wb-85-24273', 3, 1535.2052, 'myBaseline'), ('45', 'Q0', 'clueweb12-1415wb-05-11351', 4, 1458.3604, 'myBaseline'), ('45', 'Q0', 'clueweb12-0700tw-48-02518', 5, 1551.4468, 'myBaseline'), ('45', 'Q0', 'clueweb12-1213wb-79-10873', 6, 1472.7717, 'myBaseline'), ('45', 'Q0', 'clueweb12-0209wb-46-22504', 7, 1299.0706, 'myBaseline'), ('45', 'Q0', 'clueweb12-0210wb-75-04935', 8, 1287.9985, 'myBaseline'), ('45', 'Q0', 'clueweb12-0208wb-31-20440', 9, 1279.6719, 'myBaseline'), ('45', 'Q0', 'clueweb12-0908wb-62-12247', 10, 1294.8823, 'myBaseline')]\n",
      "qid 46\n",
      "qids ['46', '46', '46', '46', '46', '46', '46', '46', '46', '46']\n",
      "part_of_commom_list [('46', 'Q0', 'clueweb12-0000wb-01-01157', 1, 2420.4224, 'myBaseline'), ('46', 'Q0', 'clueweb12-0105wb-09-29919', 2, 1755.4843, 'myBaseline'), ('46', 'Q0', 'clueweb12-0106wb-15-00715', 3, 1551.5288, 'myBaseline'), ('46', 'Q0', 'clueweb12-0106wb-80-20990', 4, 1434.478, 'myBaseline'), ('46', 'Q0', 'clueweb12-0204wb-48-29299', 5, 1590.5206, 'myBaseline'), ('46', 'Q0', 'clueweb12-1815wb-13-13001', 6, 1569.0453, 'myBaseline'), ('46', 'Q0', 'clueweb12-1814wb-03-27014', 7, 1567.1119, 'myBaseline'), ('46', 'Q0', 'clueweb12-0300tw-47-06128', 8, 1487.0057, 'myBaseline'), ('46', 'Q0', 'clueweb12-0302wb-41-22955', 9, 1469.5128, 'myBaseline'), ('46', 'Q0', 'clueweb12-0304wb-66-04924', 10, 1466.848, 'myBaseline')]\n",
      "qid 47\n",
      "qids ['47', '47', '47', '47', '47', '47', '47', '47', '47', '47']\n",
      "part_of_commom_list [('47', 'Q0', 'clueweb12-1807wb-81-18935', 1, 2005.1034, 'myBaseline'), ('47', 'Q0', 'clueweb12-1906wb-51-06336', 2, 1552.9277, 'myBaseline'), ('47', 'Q0', 'clueweb12-0011wb-67-09731', 3, 1456.3048, 'myBaseline'), ('47', 'Q0', 'clueweb12-0606wb-72-06029', 4, 1386.9064, 'myBaseline'), ('47', 'Q0', 'clueweb12-0012wb-37-27406', 5, 1350.8391, 'myBaseline'), ('47', 'Q0', 'clueweb12-1108wb-75-07314', 6, 1335.1477, 'myBaseline'), ('47', 'Q0', 'clueweb12-0305wb-22-23662', 7, 1312.8065, 'myBaseline'), ('47', 'Q0', 'clueweb12-1300tw-41-04386', 8, 1292.5686, 'myBaseline'), ('47', 'Q0', 'clueweb12-1401wb-56-06199', 9, 1280.6752, 'myBaseline'), ('47', 'Q0', 'clueweb12-0202wb-59-17162', 10, 1146.2178, 'myBaseline')]\n",
      "qid 48\n",
      "qids ['48', '48', '48', '48', '48', '48', '48', '48', '48', '48']\n",
      "part_of_commom_list [('48', 'Q0', 'clueweb12-1010wb-13-19165', 1, 1850.6263, 'myBaseline'), ('48', 'Q0', 'clueweb12-0914wb-76-18333', 2, 1813.9924, 'myBaseline'), ('48', 'Q0', 'clueweb12-1000wb-28-28642', 3, 1192.8086, 'myBaseline'), ('48', 'Q0', 'clueweb12-1708wb-11-20073', 4, 1191.2919, 'myBaseline'), ('48', 'Q0', 'clueweb12-0003wb-64-06142', 5, 1130.2432, 'myBaseline'), ('48', 'Q0', 'clueweb12-0800tw-59-13886', 6, 1124.4495, 'myBaseline'), ('48', 'Q0', 'clueweb12-1901wb-71-18676', 7, 1113.5748, 'myBaseline'), ('48', 'Q0', 'clueweb12-1813wb-27-00181', 8, 1100.1166, 'myBaseline'), ('48', 'Q0', 'clueweb12-1906wb-01-02152', 9, 1101.3881, 'myBaseline'), ('48', 'Q0', 'clueweb12-1911wb-46-17103', 10, 1091.5546, 'myBaseline')]\n",
      "qid 49\n",
      "qids ['49', '49', '49', '49', '49', '49', '49', '49', '49', '49']\n",
      "part_of_commom_list [('49', 'Q0', 'clueweb12-0006wb-45-30737', 1, 1139.4995, 'myBaseline'), ('49', 'Q0', 'clueweb12-0609wb-57-22969', 2, 1087.148, 'myBaseline'), ('49', 'Q0', 'clueweb12-0301wb-22-12423', 3, 1016.1664, 'myBaseline'), ('49', 'Q0', 'clueweb12-0204wb-52-18476', 4, 943.86847, 'myBaseline'), ('49', 'Q0', 'clueweb12-0510wb-50-07847', 5, 939.63275, 'myBaseline'), ('49', 'Q0', 'clueweb12-1707wb-40-07177', 6, 899.9557, 'myBaseline'), ('49', 'Q0', 'clueweb12-0310wb-80-31103', 7, 893.45557, 'myBaseline'), ('49', 'Q0', 'clueweb12-1400tw-65-09080', 8, 837.7432, 'myBaseline'), ('49', 'Q0', 'clueweb12-0000wb-60-32697', 9, 804.7475, 'myBaseline'), ('49', 'Q0', 'clueweb12-1410wb-42-11401', 10, 798.8303, 'myBaseline')]\n",
      "qid 50\n",
      "qids ['50', '50', '50', '50', '50', '50', '50', '50', '50', '50']\n",
      "part_of_commom_list [('50', 'Q0', 'clueweb12-0003wb-46-25868', 1, 1208.2097, 'myBaseline'), ('50', 'Q0', 'clueweb12-0003wb-46-25874', 2, 1197.5433, 'myBaseline'), ('50', 'Q0', 'clueweb12-1405wb-72-15141', 3, 1186.2727, 'myBaseline'), ('50', 'Q0', 'clueweb12-1406wb-66-19634', 4, 992.65466, 'myBaseline'), ('50', 'Q0', 'clueweb12-0809wb-58-16075', 5, 982.35724, 'myBaseline'), ('50', 'Q0', 'clueweb12-0809wb-36-08144', 6, 872.98254, 'myBaseline'), ('50', 'Q0', 'clueweb12-0704wb-79-11827', 7, 964.2411, 'myBaseline'), ('50', 'Q0', 'clueweb12-1316wb-22-05155', 8, 923.08905, 'myBaseline'), ('50', 'Q0', 'clueweb12-0404wb-33-08675', 9, 873.2298, 'myBaseline'), ('50', 'Q0', 'clueweb12-0308wb-73-08575', 10, 867.12225, 'myBaseline')]\n",
      "part 2\n"
     ]
    }
   ],
   "source": [
    "run_baseline()"
   ]
  },
  {
   "cell_type": "code",
   "execution_count": 8,
   "metadata": {},
   "outputs": [],
   "source": [
    "def make_scores_0(query, answer_scores):\n",
    "    # take answer_scores from clueweb as scores \n",
    "    # retrun the same scores (baseline)\n",
    "    return answer_scores"
   ]
  },
  {
   "cell_type": "code",
   "execution_count": 13,
   "metadata": {},
   "outputs": [],
   "source": [
    "from bert_serving.client import BertClient\n",
    "from sklearn.metrics.pairwise import cosine_similarity\n",
    "bc = BertClient()\n",
    "\n",
    "import re\n",
    "\n",
    "def cleanhtml(raw_html):\n",
    "    cleanr = re.compile('<.*?>')\n",
    "    cleantext = re.sub(cleanr, '', raw_html)\n",
    "    return cleantext.lower()\n",
    "\n",
    "def make_scores_1(query, answer_titles):\n",
    "    query_emb = bc.encode([query])\n",
    "    scores = [cosine_similarity(query_emb.reshape(1, -1), bc.encode([cleanhtml(answer_title)]).reshape(1, -1))[0][0] for answer_title in answer_titles]\n",
    "    return scores\n",
    "    \n",
    "    \n",
    "    # take title from seacrh output from clueweb\n",
    "    # return a cosine similarity between bert embedding of sentences and article title"
   ]
  },
  {
   "cell_type": "code",
   "execution_count": 35,
   "metadata": {},
   "outputs": [
    {
     "name": "stdout",
     "output_type": "stream",
     "text": [
      "INFO:tensorflow:Restoring parameters from /notebook/uncased_L-12_H-768_A-12/bert_model.ckpt\n"
     ]
    }
   ],
   "source": [
    "import tensorflow as tf\n",
    "with tf.Session() as sess:\n",
    "    saver = tf.train.import_meta_graph('/notebook/uncased_L-12_H-768_A-12/bert_model.ckpt.meta')\n",
    "    saver.restore(sess, \"/notebook/uncased_L-12_H-768_A-12/bert_model.ckpt\")"
   ]
  },
  {
   "cell_type": "code",
   "execution_count": 36,
   "metadata": {},
   "outputs": [
    {
     "data": {
      "text/plain": [
       "768"
      ]
     },
     "execution_count": 36,
     "metadata": {},
     "output_type": "execute_result"
    }
   ],
   "source": [
    "bc = BertClient()\n",
    "encode1 = bc.encode(['What is better bread or pizza'])\n",
    "len(encode1[0])"
   ]
  },
  {
   "cell_type": "code",
   "execution_count": 5,
   "metadata": {},
   "outputs": [],
   "source": [
    "response = make_a_search_request('What is better bread or pizza')"
   ]
  },
  {
   "cell_type": "code",
   "execution_count": 6,
   "metadata": {},
   "outputs": [],
   "source": [
    "a = response.json()\n"
   ]
  },
  {
   "cell_type": "code",
   "execution_count": 8,
   "metadata": {},
   "outputs": [
    {
     "data": {
      "text/plain": [
       "1000"
      ]
     },
     "execution_count": 8,
     "metadata": {},
     "output_type": "execute_result"
    }
   ],
   "source": [
    "len(a['results'])"
   ]
  },
  {
   "cell_type": "code",
   "execution_count": 24,
   "metadata": {},
   "outputs": [
    {
     "data": {
      "text/plain": [
       "'We did decide it would be worth it to invest in some <em>better</em> <em>bread</em> pans. The kind most people have at home (and <em>what</em> I had) are actually smaller than a “real” <em>bread</em> loaf – great for banana <em>bread</em>, but not so much for regular <em>bread</em>-making. I chose a pair of 1 1&#x2F;2 lb.'"
      ]
     },
     "execution_count": 24,
     "metadata": {},
     "output_type": "execute_result"
    }
   ],
   "source": [
    "a['results'][1]['snippet']"
   ]
  },
  {
   "cell_type": "code",
   "execution_count": 25,
   "metadata": {},
   "outputs": [
    {
     "data": {
      "text/plain": [
       "1665.953"
      ]
     },
     "execution_count": 25,
     "metadata": {},
     "output_type": "execute_result"
    }
   ],
   "source": [
    "a['results'][1]['score']"
   ]
  },
  {
   "cell_type": "code",
   "execution_count": null,
   "metadata": {},
   "outputs": [],
   "source": [
    "qid Q0 doc rank score tag\n",
    "1 Q0 clueweb09-en0010-85-29836 1 17.89 myGroupMyMethod"
   ]
  },
  {
   "cell_type": "code",
   "execution_count": 2,
   "metadata": {},
   "outputs": [
    {
     "data": {
      "text/plain": [
       "'Q0Q0Q0Q0Q0Q0Q0Q0Q0Q0'"
      ]
     },
     "execution_count": 2,
     "metadata": {},
     "output_type": "execute_result"
    }
   ],
   "source": [
    "Q0 = 'Q0'\n",
    "Q0*10"
   ]
  },
  {
   "cell_type": "code",
   "execution_count": 16,
   "metadata": {},
   "outputs": [
    {
     "name": "stdout",
     "output_type": "stream",
     "text": [
      "1\n",
      "[<DOM Element: topics at 0x7f8973bc8eb0>]\n",
      "50\n",
      "query What is the difference between sex and love?\n",
      "len of recieve part, len of common list 10 0\n",
      "query Which is better, laptop or desktop?\n",
      "len of recieve part, len of common list 10 10\n",
      "query Which is better, Canon or Nikon?\n",
      "len of recieve part, len of common list 10 20\n",
      "query What are the best dish detergents?\n",
      "len of recieve part, len of common list 10 30\n",
      "query What are the best cities to live?\n",
      "len of recieve part, len of common list 10 40\n",
      "query What is the longest river in the U.S.?\n",
      "len of recieve part, len of common list 10 50\n",
      "query Which is healthiest: coffee, green tea or black tea and why?\n",
      "len of recieve part, len of common list 10 60\n",
      "query What are advantages and disadvantages of PHP over Python and vice versa?\n",
      "len of recieve part, len of common list 10 70\n",
      "query Why is Linux better than Windows?\n",
      "len of recieve part, len of common list 10 80\n",
      "query How to sleep better?\n",
      "len of recieve part, len of common list 10 90\n",
      "query Should I buy an LCD TV or a plasma TV?\n",
      "len of recieve part, len of common list 10 100\n",
      "query Train or plane? Which is the better choice?\n",
      "len of recieve part, len of common list 10 110\n",
      "query What is the highest mountain on Earth?\n",
      "len of recieve part, len of common list 10 120\n",
      "query Should one prefer Chinese medicine or Western medicine?\n",
      "len of recieve part, len of common list 10 130\n",
      "query What are the best washing machine brands?\n",
      "len of recieve part, len of common list 10 140\n",
      "query Should I buy or rent?\n",
      "len of recieve part, len of common list 10 150\n",
      "query Do you prefer cats or dogs, and why?\n",
      "len of recieve part, len of common list 10 160\n",
      "query What is the better way to grill outdoors: gas or charcoal?\n",
      "len of recieve part, len of common list 10 170\n",
      "query Which is better, MAC or PC?\n",
      "len of recieve part, len of common list 10 180\n",
      "query What is better to use a brush or a sponge?\n",
      "len of recieve part, len of common list 10 190\n",
      "query Which is better Linux or Microsoft?\n",
      "len of recieve part, len of common list 10 200\n",
      "query Which is better Pepsi or Coke?\n",
      "len of recieve part, len of common list 10 210\n",
      "query What is better Google search or Yahoo search?\n",
      "len of recieve part, len of common list 10 220\n",
      "query Which one is better Netflix or Blockbuster?\n",
      "len of recieve part, len of common list 10 230\n",
      "query Which browser is better Internet Explorer or Firefox?\n",
      "len of recieve part, len of common list 10 240\n",
      "query Which is a better vehicle: BMW or Audi?\n",
      "len of recieve part, len of common list 10 250\n",
      "query Which one is better Electric stove or a Gas stove?\n",
      "len of recieve part, len of common list 10 260\n",
      "query What planes are best, Boeing or Airbus?\n",
      "len of recieve part, len of common list 10 270\n",
      "query Which is better Disneyland or Disneyworld?\n",
      "len of recieve part, len of common list 10 280\n",
      "query Should I buy XBOX or playstation?\n",
      "len of recieve part, len of common list 10 290\n",
      "query Which has more caffeine, coffee or tea?\n",
      "len of recieve part, len of common list 10 300\n",
      "query Which is better plasma or LCD big screen TVs?\n",
      "len of recieve part, len of common list 10 310\n",
      "query Which is more useful ASP or PHP?\n",
      "len of recieve part, len of common list 10 320\n",
      "query What is better for the environment a real or a fake Christmas tree?\n",
      "len of recieve part, len of common list 10 330\n",
      "query Do you prefer tampons or pads?\n",
      "len of recieve part, len of common list 10 340\n",
      "query What is better for iOS development: Objective-C or Swift?\n",
      "len of recieve part, len of common list 10 350\n",
      "query Is OpenGL is better than Direct3D in terms of portability to different platforms?\n",
      "len of recieve part, len of common list 10 360\n",
      "query What are the differences between MySQL and PostgreSQL in performance?\n",
      "len of recieve part, len of common list 10 370\n",
      "query Is Java code more readable than code written in Scala?\n",
      "len of recieve part, len of common list 10 380\n",
      "query Which operating system has better performance: Windows 7 or Windows 8?\n",
      "len of recieve part, len of common list 10 390\n",
      "query Which smartphone has a better battery life: Sony Xperia or iPhone?\n",
      "len of recieve part, len of common list 10 400\n",
      "query Which four wheel truck is better: Ford or Toyota?\n",
      "len of recieve part, len of common list 10 410\n",
      "query Should I prefer Leica camera over Nikon for portrait photographs?\n",
      "len of recieve part, len of common list 10 420\n",
      "query Which company has a larger capitalization: Apple or Microsoft?\n",
      "len of recieve part, len of common list 10 430\n",
      "query Which laptop has a better durability: HP or Dell?\n",
      "len of recieve part, len of common list 10 440\n",
      "query What is the difference between restaurant and cafe?\n",
      "len of recieve part, len of common list 10 450\n",
      "query Is admission rate in Stanford is higher than that of MIT?\n",
      "len of recieve part, len of common list 10 460\n",
      "query Is pasta healthier than pizza?\n",
      "len of recieve part, len of common list 10 470\n",
      "query Which state is richer: North Carolina or Missouri?\n",
      "len of recieve part, len of common list 10 480\n",
      "query What sport is more spectacular: tennis or basketball?\n",
      "len of recieve part, len of common list 10 490\n"
     ]
    }
   ],
   "source": [
    "list_of_tuples = read_xml('topics-task-2-only-titles.xml')\n",
    "common_list = []\n",
    "for elem in list_of_tuples:\n",
    "    qid = elem[0]\n",
    "    Q0 = 'Q0'\n",
    "    query = elem[1]\n",
    "    tag = 'myBaseline'\n",
    "    print (\"query\", query)\n",
    "    response = make_a_search_request(query)\n",
    "    a = response.json()\n",
    "    scores = [elem['score'] for elem in a['results']]\n",
    "    docs = [elem['trec_id'] for elem in a['results']]\n",
    "    titles = [elem['title'] for elem in a['results']]\n",
    "    qids = qid*len(scores)\n",
    "    Q0s = [Q0 for elem in scores]\n",
    "    queries = query*len(scores)\n",
    "    tags = [tag for elem in scores]\n",
    "    ranks = range(1, len(scores) + 1)\n",
    "    part_of_commom_list = list(zip(qids, Q0s, docs, ranks, scores, tags))\n",
    "    print (\"len of recieve part, len of common list\", len(part_of_commom_list), len(common_list))\n",
    "    common_list = common_list + part_of_commom_list\n",
    "    \n",
    "with open('/notebook/touche/output/run_example.txt', 'w') as fp:\n",
    "    fp.write('\\n'.join('%s %s %s %s %s %s' % x for x in common_list))"
   ]
  },
  {
   "cell_type": "code",
   "execution_count": 22,
   "metadata": {},
   "outputs": [],
   "source": [
    "with open('/notebook/touche/output/run_example.txt', 'w') as fp:\n",
    "    fp.write('\\n'.join('%s %s %s %s %s %s' % x for x in common_list))"
   ]
  },
  {
   "cell_type": "code",
   "execution_count": 145,
   "metadata": {},
   "outputs": [
    {
     "data": {
      "text/plain": [
       "[1, 2, 3, 4, 5, 6, 7, 8, 9, 10, 11, 12, 13, 14, 15, 16]"
      ]
     },
     "execution_count": 145,
     "metadata": {},
     "output_type": "execute_result"
    }
   ],
   "source": [
    "a = list(range(1, 17))\n",
    "a"
   ]
  },
  {
   "cell_type": "code",
   "execution_count": 17,
   "metadata": {},
   "outputs": [
    {
     "name": "stdout",
     "output_type": "stream",
     "text": [
      "/notebook/touche\n"
     ]
    }
   ],
   "source": [
    "!pwd"
   ]
  },
  {
   "cell_type": "code",
   "execution_count": null,
   "metadata": {},
   "outputs": [],
   "source": [
    "title, snippet, score, trec_id"
   ]
  },
  {
   "cell_type": "code",
   "execution_count": 140,
   "metadata": {},
   "outputs": [],
   "source": [
    "scores = [elem['score'] for elem in a['results']]\n",
    "docs = [elem['trec_id'] for elem in a['results']]\n",
    "titles = [elem['title'] for elem in a['results']]"
   ]
  },
  {
   "cell_type": "code",
   "execution_count": 141,
   "metadata": {},
   "outputs": [
    {
     "data": {
      "text/plain": [
       "[1763.1145,\n",
       " 1665.953,\n",
       " 1665.794,\n",
       " 1607.0322,\n",
       " 1464.4408,\n",
       " 1371.346,\n",
       " 1363.5419,\n",
       " 1348.255,\n",
       " 1314.545,\n",
       " 1314.2784]"
      ]
     },
     "execution_count": 141,
     "metadata": {},
     "output_type": "execute_result"
    }
   ],
   "source": [
    "scores"
   ]
  },
  {
   "cell_type": "code",
   "execution_count": 142,
   "metadata": {},
   "outputs": [
    {
     "data": {
      "text/plain": [
       "{'meta': {'query_time': 3348, 'total_results': 63265, 'indices': ['cw12']},\n",
       " 'results': [{'score': 1763.1145,\n",
       "   'uuid': 'fdb00460-5461-5440-8d51-48b5715ddeef',\n",
       "   'index': 'cw12',\n",
       "   'trec_id': 'clueweb12-0712wb-94-14296',\n",
       "   'target_hostname': 'freshandfoodie.com',\n",
       "   'target_uri': 'http://freshandfoodie.com/category/breads-pizzas/',\n",
       "   'page_rank': 2.6386606e-09,\n",
       "   'spam_rank': 83,\n",
       "   'title': '<em>Breads</em> &amp; <em>Pizzas</em> «',\n",
       "   'snippet': 'The perfect flavors, plus the pretzel nugget on top <em>is</em> super cute. Yep, they went there. There are Oreos baked into these brownies. So, which are you? A <em>better</em> cook <em>or</em> a <em>better</em> baker? <em>What</em> have you seen on the interwebs lately that inspired you? Please share!',\n",
       "   'explanation': None},\n",
       "  {'score': 1665.953,\n",
       "   'uuid': '282104d4-6839-5b4f-afe9-5b3759e7a20a',\n",
       "   'index': 'cw12',\n",
       "   'trec_id': 'clueweb12-1606wb-34-03244',\n",
       "   'target_hostname': 'www.as-for-my-house.com',\n",
       "   'target_uri': 'http://www.as-for-my-house.com/2009/10/better-bread/',\n",
       "   'page_rank': 1.1748779e-09,\n",
       "   'spam_rank': 96,\n",
       "   'title': '<em>Better</em> <em>Bread</em>',\n",
       "   'snippet': 'We did decide it would be worth it to invest in some <em>better</em> <em>bread</em> pans. The kind most people have at home (and <em>what</em> I had) are actually smaller than a “real” <em>bread</em> loaf – great for banana <em>bread</em>, but not so much for regular <em>bread</em>-making. I chose a pair of 1 1&#x2F;2 lb.',\n",
       "   'explanation': None},\n",
       "  {'score': 1665.794,\n",
       "   'uuid': '38777c7b-fe72-53fd-bb83-aa7083b2696d',\n",
       "   'index': 'cw12',\n",
       "   'trec_id': 'clueweb12-0111wb-58-20331',\n",
       "   'target_hostname': 'www.cookingnook.com',\n",
       "   'target_uri': 'http://www.cookingnook.com/bread-machine-pizza-dough.html',\n",
       "   'page_rank': 1.1921802e-09,\n",
       "   'spam_rank': 82,\n",
       "   'title': '<em>Bread</em> Machine <em>Pizza</em> Dough | <em>Pizza</em> Recipe',\n",
       "   'snippet': 'Well this fantastic roasted chicken, pancetta and potato <em>pizza</em> <em>is</em> just one of 250 <em>bread</em> machine recipes in Judith Fertig&#x27;s new cookbook The Artisan <em>Bread</em> Machine: 250 Recipes for <em>Breads</em>, Rolls, Flatbreads and <em>Pizzas</em>.',\n",
       "   'explanation': None},\n",
       "  {'score': 1607.0322,\n",
       "   'uuid': '3f73971c-fc3d-5026-be4a-0779b565f809',\n",
       "   'index': 'cw12',\n",
       "   'trec_id': 'clueweb12-0001wb-49-08048',\n",
       "   'target_hostname': 'italianfood.about.com',\n",
       "   'target_uri': 'http://italianfood.about.com/od/breadspizza/Breads_Pizza_Rolls_Focaccia_Grissini.htm',\n",
       "   'page_rank': 7.785811e-09,\n",
       "   'spam_rank': 68,\n",
       "   'title': '<em>Breads</em>, <em>Pizza</em> Rolls, Focaccia, Grissini...',\n",
       "   'snippet': 'A calzone <em>is</em> a <em>pizza</em> folded over to close the topping on the inside, and since it resembles a large sock in shape that&#x27;s <em>what</em> it&#x27;s called -- the word calzone means sock in Italian.',\n",
       "   'explanation': None},\n",
       "  {'score': 1464.4408,\n",
       "   'uuid': '71e2b989-76b9-5626-adef-279b67de8878',\n",
       "   'index': 'cw12',\n",
       "   'trec_id': 'clueweb12-0100tw-09-07323',\n",
       "   'target_hostname': 'theboatgalley.com',\n",
       "   'target_uri': 'http://theboatgalley.com/pizza-crust/',\n",
       "   'page_rank': 1.2579012e-09,\n",
       "   'spam_rank': 66,\n",
       "   'title': 'Make a <em>Better</em> <em>Pizza</em> Crust',\n",
       "   'snippet': 'The heavier the pan, the <em>better</em> the results will be as it will hold heat <em>better</em>. Preheat the oven to 450 degrees F. <em>or</em> as close as your oven will get – even if your oven will only get to 350 degrees F., this technique will produce much <em>better</em> results than <em>what</em> you’d otherwise get.',\n",
       "   'explanation': None},\n",
       "  {'score': 1371.346,\n",
       "   'uuid': '8476135a-d06d-5ca5-9b61-703a60295193',\n",
       "   'index': 'cw12',\n",
       "   'trec_id': 'clueweb12-1808wb-49-25670',\n",
       "   'target_hostname': 'sweetnicks.com',\n",
       "   'target_uri': 'http://sweetnicks.com/weblog/2004/02/nacho-bread-pizza-2/',\n",
       "   'page_rank': 1.1700305e-09,\n",
       "   'spam_rank': 82,\n",
       "   'title': 'Nacho <em>Bread</em> <em>Pizza</em> | Food and Life',\n",
       "   'snippet': '1 loaf baguette <em>or</em> semolina <em>bread</em>, day old <em>is</em> fine 1 tablespoon extra-virgin olive oil, 1 turn of the pan 1 jalapeno, seeded and chopped <em>or</em> 1 pickled hot pepper of any kind, chopped (I skip) Hollow the <em>bread</em> out and cut each half in half across, making 4 boats. Preheat oven to 350 degrees F.',\n",
       "   'explanation': None},\n",
       "  {'score': 1363.5419,\n",
       "   'uuid': 'c1587807-2d30-591e-b4b8-92ae48300628',\n",
       "   'index': 'cw12',\n",
       "   'trec_id': 'clueweb12-1802wb-48-10340',\n",
       "   'target_hostname': 'www.ourveggiekitchen.com',\n",
       "   'target_uri': 'http://www.ourveggiekitchen.com/2010/03/pizza-pizza-making-better-dough.html',\n",
       "   'page_rank': 1.2298135e-09,\n",
       "   'spam_rank': 70,\n",
       "   'title': 'Our Veggie Kitchen: <em>Pizza</em>! <em>Pizza</em>! (Making a <em>Better</em> Dough)',\n",
       "   'snippet': 'Your post <em>is</em> proof that rules are made to be broken- I would never have dared to use <em>bread</em> flour because it <em>is</em> supposed to be such a no-no for a good <em>pizza</em> crust, and here you made it work. Will try this for the next <em>pizza</em> project! I used to love meatloaf sandwiches.',\n",
       "   'explanation': None},\n",
       "  {'score': 1348.255,\n",
       "   'uuid': 'd88d9c4b-2bb2-5088-9658-5e41de0a5363',\n",
       "   'index': 'cw12',\n",
       "   'trec_id': 'clueweb12-0809wb-05-06818',\n",
       "   'target_hostname': 'easy.betterrecipes.com',\n",
       "   'target_uri': 'http://easy.betterrecipes.com/twisted-pizza-dogs.html',\n",
       "   'page_rank': 1.2144562e-09,\n",
       "   'spam_rank': 84,\n",
       "   'title': 'Twisted <em>Pizza</em> Dogs | <em>Better</em> Recipes',\n",
       "   'snippet': 'Bake 10-12 minutes <em>or</em> until golden brown. Serve with remaining <em>pizza</em> sauce, heated if desired. These are soooooo good. Here I am in beautiful Las Vegas; palm trees sunshine and a hot tub- <em>what</em> could be <em>better</em>- ah retirement- <em>what</em> a life.',\n",
       "   'explanation': None},\n",
       "  {'score': 1314.545,\n",
       "   'uuid': '9e786746-5d70-5395-b240-9a65b90d635e',\n",
       "   'index': 'cw12',\n",
       "   'trec_id': 'clueweb12-1807wb-90-09329',\n",
       "   'target_hostname': 'motherrimmy.com',\n",
       "   'target_uri': 'http://motherrimmy.com/easy-mushroom-pizza-recipe',\n",
       "   'page_rank': 1.1827892e-09,\n",
       "   'spam_rank': 80,\n",
       "   'title': 'My <em>Pizza</em> <em>is</em> <em>Better</em> Than Yours - Easy Mushroom <em>Pizza</em> | Mother Rimmy&#x27;s Cooking',\n",
       "   'snippet': '<em>Is</em> it an Appetizer <em>or</em> a Meal? Mini Ham and Broccoli Quiche in Wonton Cups » My <em>Pizza</em> <em>is</em> <em>Better</em> Than Yours – Easy Mushroom <em>Pizza</em> Okay, maybe my <em>pizza</em> isn’t <em>better</em> than yours, but it’s definitely <em>better</em> than anything the local <em>pizza</em> joint serves up.',\n",
       "   'explanation': None},\n",
       "  {'score': 1314.2784,\n",
       "   'uuid': '1f7244a9-81bc-5382-89d3-82c396e47272',\n",
       "   'index': 'cw12',\n",
       "   'trec_id': 'clueweb12-0308wb-71-30128',\n",
       "   'target_hostname': 'cspinet.org',\n",
       "   'target_uri': 'http://cspinet.org/new/pizza_051702.html',\n",
       "   'page_rank': 1.1706252e-09,\n",
       "   'spam_rank': 69,\n",
       "   'title': '<em>What</em> <em>Pizza</em> Really Delivers',\n",
       "   'snippet': 'Pepperoni <em>is</em> usually <em>better</em> than sausage, pork, and beef. * Avoid &quot;Stuffed Crust,&quot; the innovation that injects cheese into the pizza&#x27;s crust.',\n",
       "   'explanation': None}]}"
      ]
     },
     "execution_count": 142,
     "metadata": {},
     "output_type": "execute_result"
    }
   ],
   "source": [
    "a"
   ]
  },
  {
   "cell_type": "code",
   "execution_count": null,
   "metadata": {},
   "outputs": [],
   "source": []
  }
 ],
 "metadata": {
  "kernelspec": {
   "display_name": "Python 3",
   "language": "python",
   "name": "python3"
  },
  "language_info": {
   "codemirror_mode": {
    "name": "ipython",
    "version": 3
   },
   "file_extension": ".py",
   "mimetype": "text/x-python",
   "name": "python",
   "nbconvert_exporter": "python",
   "pygments_lexer": "ipython3",
   "version": "3.7.4"
  }
 },
 "nbformat": 4,
 "nbformat_minor": 4
}
